{
 "cells": [
  {
   "cell_type": "code",
   "execution_count": 1,
   "metadata": {},
   "outputs": [],
   "source": [
    "# General dependencies\n",
    "import os, shutil\n",
    "from os.path import join\n",
    "from tqdm import tqdm\n",
    "import matplotlib.pyplot as plt\n",
    "import numpy as np\n",
    "import pandas as pd\n",
    "import seaborn as sns\n",
    "from copy import deepcopy\n",
    "from glob import glob"
   ]
  },
  {
   "cell_type": "code",
   "execution_count": 2,
   "metadata": {},
   "outputs": [],
   "source": [
    "# LCBD dependencies\n",
    "# add relative path to our toolbox\n",
    "import sys\n",
    "sys.path.append('../../../..') # path to preprocessing from here\n",
    "\n",
    "from LCBDtools.scripts import argParser\n",
    "from LCBDtools.src import Plots\n",
    "from LCBDtools.src import Statistics\n",
    "from LCBDtools.src import TimeSeries\n",
    "from LCBDtools.Stimuli.Flanker.Flanker import TaskReader"
   ]
  },
  {
   "cell_type": "code",
   "execution_count": 3,
   "metadata": {},
   "outputs": [],
   "source": [
    "# Some configuration variables\n",
    "dataDir = \"/data/perlman/moochie/study_data/P-CAT/task_data\"\n",
    "participant_num_len = 4 # default length of participant numbers\n",
    "task = \"Flanker\""
   ]
  },
  {
   "cell_type": "code",
   "execution_count": 18,
   "metadata": {},
   "outputs": [],
   "source": [
    "# from data tracker June 3rd 2022, list of subjects with v3 Flanker completed\n",
    "in_subs = [\n",
    "    \"1115\",\n",
    "    \"1116\",\n",
    "    \"1110\",\n",
    "    \"1114\",\n",
    "    \"1119\",\n",
    "    \"1121\",\n",
    "    \"1122\",\n",
    "    \"1126\",\n",
    "    \"1125\",\n",
    "    \"1127\",\n",
    "    \"1128\",\n",
    "    \"1129\",\n",
    "    \"1134\",\n",
    "    \"1130\",\n",
    "    \"1131\",\n",
    "    \"1137\",\n",
    "    \"1124\",\n",
    "    \"1133\",\n",
    "    \"1138\",\n",
    "    \"1144\",\n",
    "    \"1143\",\n",
    "    \"1141\",\n",
    "    \"1145\",\n",
    "    \"1149\",\n",
    "    \"1154\",\n",
    "    \"1155\",\n",
    "    \"1142\",\n",
    "    \"1148\",\n",
    "    \"1156\"\n",
    "]"
   ]
  },
  {
   "cell_type": "code",
   "execution_count": 19,
   "metadata": {},
   "outputs": [],
   "source": [
    "fnames = [fname for fname in glob(join(dataDir, '*', '*_'+task, '*.csv')) if \\\n",
    "    os.path.basename(fname)[:participant_num_len] in in_subs]"
   ]
  },
  {
   "cell_type": "code",
   "execution_count": 20,
   "metadata": {},
   "outputs": [
    {
     "name": "stdout",
     "output_type": "stream",
     "text": [
      "Error encountered @ subject: 1144\n",
      "Error encountered @ subject: 1116\n",
      "Error encountered @ subject: 1154\n",
      "Error encountered @ subject: 1154\n",
      "Error encountered @ subject: 1121\n"
     ]
    }
   ],
   "source": [
    "d_dataset = {}\n",
    "\n",
    "for fname in fnames:\n",
    "    try:\n",
    "        flanker_series = TaskReader(fname).flankerSeries\n",
    "        subject = os.path.basename(fname)[:participant_num_len]\n",
    "        d_dataset[subject] = flanker_series\n",
    "    except:\n",
    "        print(\"Error encountered @ subject:\", os.path.basename(fname)[:participant_num_len])  "
   ]
  },
  {
   "cell_type": "code",
   "execution_count": 7,
   "metadata": {},
   "outputs": [
    {
     "name": "stdout",
     "output_type": "stream",
     "text": [
      "['1116', '1119', '1121', '1128', '1131', '1137', '1133', '1138', '1144', '1151']\n"
     ]
    }
   ],
   "source": [
    "# these subjects have missing data maybe? they have version 3 but aren't here. \n",
    "# maybe they don't actually have real flanker?\n",
    "print([sub for sub in in_subs if sub not in list(d_dataset.keys())])"
   ]
  },
  {
   "cell_type": "code",
   "execution_count": 8,
   "metadata": {},
   "outputs": [
    {
     "name": "stdout",
     "output_type": "stream",
     "text": [
      "['1143', '1134', '1115', '1127', '1124', '1129', '1130', '1145', '1113', '1114', '1126', '1122', '1125']\n"
     ]
    }
   ],
   "source": [
    "# these subjects have actual flanker data loaded in:\n",
    "print(list(d_dataset.keys()))"
   ]
  },
  {
   "cell_type": "code",
   "execution_count": 9,
   "metadata": {},
   "outputs": [
    {
     "data": {
      "text/plain": [
       "{'trial_n': 1,\n",
       " 'block': 1,\n",
       " 'corr_answer': 'right',\n",
       " 'stim_file': 'stimuli/trial_block1_D_IR.png',\n",
       " 'directional': True,\n",
       " 'congruent': False,\n",
       " 'stim_start_time': 148.88142539999538,\n",
       " 'stim_stop_time': 149.88684779999312,\n",
       " 'response': 'right',\n",
       " 'response_time': 1.1343522999959532,\n",
       " 'fixation_start_time': 147.40243559999362,\n",
       " 'fixation_stop_time': 148.91558899999652}"
      ]
     },
     "execution_count": 9,
     "metadata": {},
     "output_type": "execute_result"
    }
   ],
   "source": [
    "d_dataset['1143'][0].meta"
   ]
  },
  {
   "cell_type": "code",
   "execution_count": 10,
   "metadata": {},
   "outputs": [],
   "source": [
    "dataset = []\n",
    "\n",
    "for sub in d_dataset.keys():\n",
    "    for flank in d_dataset[sub]:\n",
    "        dataset.append(flank)"
   ]
  },
  {
   "cell_type": "code",
   "execution_count": 11,
   "metadata": {},
   "outputs": [],
   "source": [
    "# Plots.plot_outcome_hist(\n",
    "#     [flank.meta['response_time'] for flank in dataset],\n",
    "#     [flank.meta['congruent'] for flank in dataset],\n",
    "#     xlabel=\"Response Time\",\n",
    "#     title=\"Congruency (Incongruent=0, Congurent=1)\",\n",
    "#     n_bins=10)"
   ]
  },
  {
   "cell_type": "code",
   "execution_count": 12,
   "metadata": {},
   "outputs": [
    {
     "name": "stderr",
     "output_type": "stream",
     "text": [
      "/usr/local/lib/python3.7/dist-packages/numpy/lib/histograms.py:839: RuntimeWarning: invalid value encountered in greater_equal\n",
      "  keep = (tmp_a >= first_edge)\n",
      "/usr/local/lib/python3.7/dist-packages/numpy/lib/histograms.py:840: RuntimeWarning: invalid value encountered in less_equal\n",
      "  keep &= (tmp_a <= last_edge)\n"
     ]
    },
    {
     "data": {
      "text/plain": [
       "<matplotlib.legend.Legend at 0x7f8c5a0755d0>"
      ]
     },
     "execution_count": 12,
     "metadata": {},
     "output_type": "execute_result"
    },
    {
     "data": {
      "image/png": "[encoded data removed]",
      "text/plain": [
       "<Figure size 864x576 with 1 Axes>"
      ]
     },
     "metadata": {
      "needs_background": "light"
     },
     "output_type": "display_data"
    }
   ],
   "source": [
    "plt.hist(\n",
    "    [flank.meta['response_time'] for flank in dataset if\\\n",
    "        flank.meta['directional'] is True],\n",
    "    bins=100,\n",
    "    alpha=0.5,\n",
    "    label=\"Directional\",\n",
    "    color='blue')\n",
    "\n",
    "plt.hist(\n",
    "    [flank.meta['response_time'] for flank in dataset if\\\n",
    "        flank.meta['directional'] is False],\n",
    "    bins=100,\n",
    "    alpha=0.5,\n",
    "    label=\"Indirectional\",\n",
    "    color='red')\n",
    "\n",
    "plt.xlabel(\"Flanker Response Time (s)\")\n",
    "plt.ylabel(\"Count\")\n",
    "plt.title(\"Directionality / RT Relation\")\n",
    "plt.legend(loc='upper right')"
   ]
  },
  {
   "cell_type": "code",
   "execution_count": 13,
   "metadata": {},
   "outputs": [
    {
     "data": {
      "text/plain": [
       "<matplotlib.legend.Legend at 0x7f8c59c032d0>"
      ]
     },
     "execution_count": 13,
     "metadata": {},
     "output_type": "execute_result"
    },
    {
     "data": {
      "image/png": "[encoded data removed]",
      "text/plain": [
       "<Figure size 864x576 with 1 Axes>"
      ]
     },
     "metadata": {
      "needs_background": "light"
     },
     "output_type": "display_data"
    }
   ],
   "source": [
    "plt.hist(\n",
    "    [flank.meta['response_time'] for flank in dataset if\\\n",
    "        flank.meta['congruent'] is True],\n",
    "    bins=100,\n",
    "    alpha=0.5,\n",
    "    label=\"Congruent\",\n",
    "    color='blue')\n",
    "\n",
    "plt.hist(\n",
    "    [flank.meta['response_time'] for flank in dataset if\\\n",
    "        flank.meta['congruent'] is False],\n",
    "    bins=100,\n",
    "    alpha=0.5,\n",
    "    label=\"Incongruent\",\n",
    "    color='red')\n",
    "\n",
    "plt.xlabel(\"Flanker Response Time (s)\")\n",
    "plt.ylabel(\"Count\")\n",
    "plt.title(\"Congruency / RT Relation\")\n",
    "plt.legend(loc='upper right')"
   ]
  },
  {
   "cell_type": "code",
   "execution_count": 14,
   "metadata": {},
   "outputs": [
    {
     "data": {
      "text/plain": [
       "<matplotlib.legend.Legend at 0x7f8c59aee590>"
      ]
     },
     "execution_count": 14,
     "metadata": {},
     "output_type": "execute_result"
    },
    {
     "data": {
      "image/png": "[encoded data removed]",
      "text/plain": [
       "<Figure size 864x576 with 1 Axes>"
      ]
     },
     "metadata": {
      "needs_background": "light"
     },
     "output_type": "display_data"
    }
   ],
   "source": [
    "plt.hist(\n",
    "    [flank.meta['response_time'] for flank in dataset if\\\n",
    "        flank.eval() is True],\n",
    "    bins=100,\n",
    "    alpha=0.5,\n",
    "    label=\"Correct\",\n",
    "    color='blue')\n",
    "\n",
    "plt.hist(\n",
    "    [flank.meta['response_time'] for flank in dataset if\\\n",
    "        flank.eval() is False],\n",
    "    bins=100,\n",
    "    alpha=0.5,\n",
    "    label=\"Incorrect\",\n",
    "    color='red')\n",
    "\n",
    "plt.xlabel(\"Flanker Response Time (s)\")\n",
    "plt.ylabel(\"Count\")\n",
    "plt.title(\"Correctness / RT Relation\")\n",
    "plt.legend(loc='upper right')"
   ]
  },
  {
   "cell_type": "code",
   "execution_count": 15,
   "metadata": {},
   "outputs": [
    {
     "data": {
      "text/plain": [
       "<matplotlib.collections.PathCollection at 0x7f8c59b64890>"
      ]
     },
     "execution_count": 15,
     "metadata": {},
     "output_type": "execute_result"
    },
    {
     "data": {
      "image/png": "[encoded data removed]",
      "text/plain": [
       "<Figure size 864x576 with 1 Axes>"
      ]
     },
     "metadata": {
      "needs_background": "light"
     },
     "output_type": "display_data"
    }
   ],
   "source": [
    "plt.scatter(\n",
    "    [flank.meta['block'] for flank in dataset],\n",
    "    [flank.meta['response_time'] for flank in dataset]\n",
    ")"
   ]
  },
  {
   "cell_type": "code",
   "execution_count": 16,
   "metadata": {},
   "outputs": [
    {
     "name": "stderr",
     "output_type": "stream",
     "text": [
      "/usr/local/lib/python3.7/dist-packages/matplotlib/cbook/__init__.py:1220: RuntimeWarning: invalid value encountered in less_equal\n",
      "  wiskhi = x[x <= hival]\n",
      "/usr/local/lib/python3.7/dist-packages/matplotlib/cbook/__init__.py:1227: RuntimeWarning: invalid value encountered in greater_equal\n",
      "  wisklo = x[x >= loval]\n",
      "/usr/local/lib/python3.7/dist-packages/matplotlib/cbook/__init__.py:1235: RuntimeWarning: invalid value encountered in less\n",
      "  x[x < stats['whislo']],\n",
      "/usr/local/lib/python3.7/dist-packages/matplotlib/cbook/__init__.py:1236: RuntimeWarning: invalid value encountered in greater\n",
      "  x[x > stats['whishi']],\n"
     ]
    },
    {
     "data": {
      "text/plain": [
       "{'whiskers': [<matplotlib.lines.Line2D at 0x7f8c5979f190>,\n",
       "  <matplotlib.lines.Line2D at 0x7f8c5979f4d0>,\n",
       "  <matplotlib.lines.Line2D at 0x7f8c597ad8d0>,\n",
       "  <matplotlib.lines.Line2D at 0x7f8c597adbd0>,\n",
       "  <matplotlib.lines.Line2D at 0x7f8c597b7f90>,\n",
       "  <matplotlib.lines.Line2D at 0x7f8c597c4350>,\n",
       "  <matplotlib.lines.Line2D at 0x7f8c59751750>,\n",
       "  <matplotlib.lines.Line2D at 0x7f8c59751a90>,\n",
       "  <matplotlib.lines.Line2D at 0x7f8c5975ded0>,\n",
       "  <matplotlib.lines.Line2D at 0x7f8c59766210>,\n",
       "  <matplotlib.lines.Line2D at 0x7f8c59773610>,\n",
       "  <matplotlib.lines.Line2D at 0x7f8c59773950>,\n",
       "  <matplotlib.lines.Line2D at 0x7f8c5977fd10>,\n",
       "  <matplotlib.lines.Line2D at 0x7f8c5970a090>,\n",
       "  <matplotlib.lines.Line2D at 0x7f8c59717450>,\n",
       "  <matplotlib.lines.Line2D at 0x7f8c59717790>,\n",
       "  <matplotlib.lines.Line2D at 0x7f8c59723ad0>,\n",
       "  <matplotlib.lines.Line2D at 0x7f8c59723e10>,\n",
       "  <matplotlib.lines.Line2D at 0x7f8c5973c190>,\n",
       "  <matplotlib.lines.Line2D at 0x7f8c5973c4d0>,\n",
       "  <matplotlib.lines.Line2D at 0x7f8c596c7890>,\n",
       "  <matplotlib.lines.Line2D at 0x7f8c596c7bd0>,\n",
       "  <matplotlib.lines.Line2D at 0x7f8c596d3f90>,\n",
       "  <matplotlib.lines.Line2D at 0x7f8c596e0310>,\n",
       "  <matplotlib.lines.Line2D at 0x7f8c596ef6d0>,\n",
       "  <matplotlib.lines.Line2D at 0x7f8c596efa10>],\n",
       " 'caps': [<matplotlib.lines.Line2D at 0x7f8c5979f810>,\n",
       "  <matplotlib.lines.Line2D at 0x7f8c5979fb50>,\n",
       "  <matplotlib.lines.Line2D at 0x7f8c597adf10>,\n",
       "  <matplotlib.lines.Line2D at 0x7f8c597b7290>,\n",
       "  <matplotlib.lines.Line2D at 0x7f8c597c4690>,\n",
       "  <matplotlib.lines.Line2D at 0x7f8c597c4a10>,\n",
       "  <matplotlib.lines.Line2D at 0x7f8c59751dd0>,\n",
       "  <matplotlib.lines.Line2D at 0x7f8c5975d150>,\n",
       "  <matplotlib.lines.Line2D at 0x7f8c59766550>,\n",
       "  <matplotlib.lines.Line2D at 0x7f8c59766850>,\n",
       "  <matplotlib.lines.Line2D at 0x7f8c59773c90>,\n",
       "  <matplotlib.lines.Line2D at 0x7f8c5977f050>,\n",
       "  <matplotlib.lines.Line2D at 0x7f8c5970a3d0>,\n",
       "  <matplotlib.lines.Line2D at 0x7f8c5970a710>,\n",
       "  <matplotlib.lines.Line2D at 0x7f8c59717ad0>,\n",
       "  <matplotlib.lines.Line2D at 0x7f8c59717e10>,\n",
       "  <matplotlib.lines.Line2D at 0x7f8c5972e190>,\n",
       "  <matplotlib.lines.Line2D at 0x7f8c5972e4d0>,\n",
       "  <matplotlib.lines.Line2D at 0x7f8c5973c810>,\n",
       "  <matplotlib.lines.Line2D at 0x7f8c5973cb50>,\n",
       "  <matplotlib.lines.Line2D at 0x7f8c596c7f10>,\n",
       "  <matplotlib.lines.Line2D at 0x7f8c596d3290>,\n",
       "  <matplotlib.lines.Line2D at 0x7f8c596e0650>,\n",
       "  <matplotlib.lines.Line2D at 0x7f8c596e0990>,\n",
       "  <matplotlib.lines.Line2D at 0x7f8c596efd50>,\n",
       "  <matplotlib.lines.Line2D at 0x7f8c596fa0d0>],\n",
       " 'boxes': [<matplotlib.lines.Line2D at 0x7f8c59796e90>,\n",
       "  <matplotlib.lines.Line2D at 0x7f8c597ad510>,\n",
       "  <matplotlib.lines.Line2D at 0x7f8c597b7bd0>,\n",
       "  <matplotlib.lines.Line2D at 0x7f8c59751390>,\n",
       "  <matplotlib.lines.Line2D at 0x7f8c5975db50>,\n",
       "  <matplotlib.lines.Line2D at 0x7f8c59773250>,\n",
       "  <matplotlib.lines.Line2D at 0x7f8c5977f950>,\n",
       "  <matplotlib.lines.Line2D at 0x7f8c59717090>,\n",
       "  <matplotlib.lines.Line2D at 0x7f8c59723750>,\n",
       "  <matplotlib.lines.Line2D at 0x7f8c5972ed90>,\n",
       "  <matplotlib.lines.Line2D at 0x7f8c596c74d0>,\n",
       "  <matplotlib.lines.Line2D at 0x7f8c596d3bd0>,\n",
       "  <matplotlib.lines.Line2D at 0x7f8c596ef310>],\n",
       " 'medians': [<matplotlib.lines.Line2D at 0x7f8c5979fed0>,\n",
       "  <matplotlib.lines.Line2D at 0x7f8c597b75d0>,\n",
       "  <matplotlib.lines.Line2D at 0x7f8c597c4d50>,\n",
       "  <matplotlib.lines.Line2D at 0x7f8c5975d490>,\n",
       "  <matplotlib.lines.Line2D at 0x7f8c59766b90>,\n",
       "  <matplotlib.lines.Line2D at 0x7f8c5977f350>,\n",
       "  <matplotlib.lines.Line2D at 0x7f8c5970aa50>,\n",
       "  <matplotlib.lines.Line2D at 0x7f8c59723190>,\n",
       "  <matplotlib.lines.Line2D at 0x7f8c5972e810>,\n",
       "  <matplotlib.lines.Line2D at 0x7f8c5973ce90>,\n",
       "  <matplotlib.lines.Line2D at 0x7f8c596d35d0>,\n",
       "  <matplotlib.lines.Line2D at 0x7f8c596e0cd0>,\n",
       "  <matplotlib.lines.Line2D at 0x7f8c596fa410>],\n",
       " 'fliers': [<matplotlib.lines.Line2D at 0x7f8c597ad250>,\n",
       "  <matplotlib.lines.Line2D at 0x7f8c597b7910>,\n",
       "  <matplotlib.lines.Line2D at 0x7f8c597510d0>,\n",
       "  <matplotlib.lines.Line2D at 0x7f8c5975d7d0>,\n",
       "  <matplotlib.lines.Line2D at 0x7f8c59766f10>,\n",
       "  <matplotlib.lines.Line2D at 0x7f8c5977f690>,\n",
       "  <matplotlib.lines.Line2D at 0x7f8c5970ad90>,\n",
       "  <matplotlib.lines.Line2D at 0x7f8c597234d0>,\n",
       "  <matplotlib.lines.Line2D at 0x7f8c5972eb10>,\n",
       "  <matplotlib.lines.Line2D at 0x7f8c596c7210>,\n",
       "  <matplotlib.lines.Line2D at 0x7f8c596d3910>,\n",
       "  <matplotlib.lines.Line2D at 0x7f8c596ef050>,\n",
       "  <matplotlib.lines.Line2D at 0x7f8c596fa750>],\n",
       " 'means': []}"
      ]
     },
     "execution_count": 16,
     "metadata": {},
     "output_type": "execute_result"
    },
    {
     "data": {
      "image/png": "[encoded data removed]",
      "text/plain": [
       "<Figure size 864x576 with 1 Axes>"
      ]
     },
     "metadata": {
      "needs_background": "light"
     },
     "output_type": "display_data"
    }
   ],
   "source": [
    "fig, ax = plt.subplots()\n",
    "\n",
    "data = [\n",
    "    [flank.meta['response_time'] for flank in d_dataset[sub]] for sub in d_dataset.keys()\n",
    "]\n",
    "\n",
    "ax.boxplot(data)"
   ]
  },
  {
   "cell_type": "code",
   "execution_count": 17,
   "metadata": {},
   "outputs": [
    {
     "name": "stderr",
     "output_type": "stream",
     "text": [
      "/usr/local/lib/python3.7/dist-packages/numpy/linalg/linalg.py:2116: RuntimeWarning: invalid value encountered in det\n",
      "  r = _umath_linalg.det(a, signature=signature)\n"
     ]
    },
    {
     "data": {
      "text/plain": [
       "{'bodies': [<matplotlib.collections.PolyCollection at 0x7f8c59627910>,\n",
       "  <matplotlib.collections.PolyCollection at 0x7f8c59627750>,\n",
       "  <matplotlib.collections.PolyCollection at 0x7f8c595ebdd0>,\n",
       "  <matplotlib.collections.PolyCollection at 0x7f8c595eba90>,\n",
       "  <matplotlib.collections.PolyCollection at 0x7f8c595ebe50>,\n",
       "  <matplotlib.collections.PolyCollection at 0x7f8c595fcbd0>,\n",
       "  <matplotlib.collections.PolyCollection at 0x7f8c595fcf90>,\n",
       "  <matplotlib.collections.PolyCollection at 0x7f8c595fcc50>,\n",
       "  <matplotlib.collections.PolyCollection at 0x7f8c595fcf50>,\n",
       "  <matplotlib.collections.PolyCollection at 0x7f8c596b6710>,\n",
       "  <matplotlib.collections.PolyCollection at 0x7f8c595fcb10>,\n",
       "  <matplotlib.collections.PolyCollection at 0x7f8c595fcad0>,\n",
       "  <matplotlib.collections.PolyCollection at 0x7f8c59587d90>],\n",
       " 'cmaxes': <matplotlib.collections.LineCollection at 0x7f8c59698250>,\n",
       " 'cmins': <matplotlib.collections.LineCollection at 0x7f8c595fc490>,\n",
       " 'cbars': <matplotlib.collections.LineCollection at 0x7f8c595fc450>}"
      ]
     },
     "execution_count": 17,
     "metadata": {},
     "output_type": "execute_result"
    },
    {
     "data": {
      "image/png": "[encoded data removed]",
      "text/plain": [
       "<Figure size 864x576 with 1 Axes>"
      ]
     },
     "metadata": {
      "needs_background": "light"
     },
     "output_type": "display_data"
    }
   ],
   "source": [
    "\n",
    "plt.violinplot(\n",
    "    [[flank.meta['response_time'] for flank in d_dataset[sub]] for sub in d_dataset.keys()],\n",
    "    positions=[i for i, sub in enumerate(d_dataset.keys())]\n",
    ")"
   ]
  },
  {
   "cell_type": "code",
   "execution_count": null,
   "metadata": {},
   "outputs": [],
   "source": []
  },
  {
   "cell_type": "code",
   "execution_count": null,
   "metadata": {},
   "outputs": [],
   "source": []
  }
 ],
 "metadata": {
  "kernelspec": {
   "display_name": "MRIenv",
   "language": "python",
   "name": "mrienv"
  },
  "language_info": {
   "codemirror_mode": {
    "name": "ipython",
    "version": 3
   },
   "file_extension": ".py",
   "mimetype": "text/x-python",
   "name": "python",
   "nbconvert_exporter": "python",
   "pygments_lexer": "ipython3",
   "version": "3.7.5"
  }
 },
 "nbformat": 4,
 "nbformat_minor": 4
}
