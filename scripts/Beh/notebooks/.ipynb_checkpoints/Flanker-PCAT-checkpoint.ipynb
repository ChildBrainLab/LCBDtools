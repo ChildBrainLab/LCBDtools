{
 "cells": [
  {
   "cell_type": "code",
   "execution_count": 1,
   "metadata": {},
   "outputs": [],
   "source": [
    "# General dependencies\n",
    "import os, shutil\n",
    "from os.path import join\n",
    "from tqdm import tqdm\n",
    "import matplotlib.pyplot as plt\n",
    "import numpy as np\n",
    "import pandas as pd\n",
    "import seaborn as sns\n",
    "from copy import deepcopy\n",
    "from glob import glob"
   ]
  },
  {
   "cell_type": "code",
   "execution_count": 2,
   "metadata": {},
   "outputs": [],
   "source": [
    "# LCBD dependencies\n",
    "# add relative path to our toolbox\n",
    "import sys\n",
    "sys.path.append('../../..') # path to preprocessing from here\n",
    "\n",
    "from preprocessing.scripts import argParser\n",
    "from preprocessing.src import Plots\n",
    "from preprocessing.src import Statistics\n",
    "from preprocessing.src import TimeSeries\n",
    "from preprocessing.Stimuli.Flanker.Flanker import TaskReader"
   ]
  },
  {
   "cell_type": "code",
   "execution_count": 3,
   "metadata": {},
   "outputs": [],
   "source": [
    "# Some configuration variables\n",
    "dataDir = \"/data/perlman/moochie/study_data/P-CAT/task_data\"\n",
    "participant_num_len = 4 # default length of participant numbers\n",
    "task = \"Flanker\""
   ]
  },
  {
   "cell_type": "code",
   "execution_count": 4,
   "metadata": {},
   "outputs": [],
   "source": [
    "# from data tracker May  3rd 2022, list of subjects with v3 Flanker completed\n",
    "in_subs = [\n",
    "    \"1115\",\n",
    "    \"1116\",\n",
    "    \"1114\",\n",
    "    \"1119\",\n",
    "    \"1121\",\n",
    "    \"1122\",\n",
    "    \"1126\",\n",
    "    \"1113\",\n",
    "    \"1125\",\n",
    "    \"1127\",\n",
    "    \"1128\",\n",
    "    \"1129\",\n",
    "    \"1134\",\n",
    "    \"1130\",\n",
    "    \"1131\",\n",
    "    \"1137\",\n",
    "    \"1124\",\n",
    "    \"1133\",\n",
    "    \"1138\",\n",
    "    \"1144\",\n",
    "    \"1143\",\n",
    "    \"1151\",\n",
    "    \"1145\"\n",
    "]"
   ]
  },
  {
   "cell_type": "code",
   "execution_count": 5,
   "metadata": {},
   "outputs": [],
   "source": [
    "fnames = [fname for fname in glob(join(dataDir, '*', '*_'+task, '*.csv')) if \\\n",
    "    os.path.basename(fname)[:participant_num_len] in in_subs]"
   ]
  },
  {
   "cell_type": "code",
   "execution_count": 6,
   "metadata": {},
   "outputs": [
    {
     "name": "stdout",
     "output_type": "stream",
     "text": [
      "Error encountered @ subject: 1144\n",
      "Error encountered @ subject: 1116\n",
      "Error encountered @ subject: 1121\n"
     ]
    }
   ],
   "source": [
    "d_dataset = {}\n",
    "\n",
    "for fname in fnames:\n",
    "    try:\n",
    "        flanker_series = TaskReader(fname).flankerSeries\n",
    "        subject = os.path.basename(fname)[:participant_num_len]\n",
    "        d_dataset[subject] = flanker_series\n",
    "    except:\n",
    "        print(\"Error encountered @ subject:\", os.path.basename(fname)[:participant_num_len])\n",
    "    "
   ]
  },
  {
   "cell_type": "code",
   "execution_count": 7,
   "metadata": {},
   "outputs": [
    {
     "name": "stdout",
     "output_type": "stream",
     "text": [
      "['1116', '1119', '1121', '1128', '1131', '1137', '1133', '1138', '1144', '1151']\n"
     ]
    }
   ],
   "source": [
    "# these subjects have missing data maybe? they have version 3 but aren't here. \n",
    "# maybe they don't actually have real flanker?\n",
    "print([sub for sub in in_subs if sub not in list(d_dataset.keys())])"
   ]
  },
  {
   "cell_type": "code",
   "execution_count": 8,
   "metadata": {},
   "outputs": [
    {
     "name": "stdout",
     "output_type": "stream",
     "text": [
      "['1143', '1134', '1115', '1127', '1124', '1129', '1130', '1145', '1113', '1114', '1126', '1122', '1125']\n"
     ]
    }
   ],
   "source": [
    "# these subjects have actual flanker data loaded in:\n",
    "print(list(d_dataset.keys()))"
   ]
  },
  {
   "cell_type": "code",
   "execution_count": 9,
   "metadata": {},
   "outputs": [
    {
     "data": {
      "text/plain": [
       "{'trial_n': 1,\n",
       " 'block': 1,\n",
       " 'corr_answer': 'right',\n",
       " 'stim_file': 'stimuli/trial_block1_D_IR.png',\n",
       " 'directional': True,\n",
       " 'congruent': False,\n",
       " 'stim_start_time': 148.88142539999535,\n",
       " 'stim_stop_time': 149.88684779999312,\n",
       " 'response': 'right',\n",
       " 'response_time': 1.1343522999959532,\n",
       " 'fixation_start_time': 147.40243559999362,\n",
       " 'fixation_stop_time': 148.91558899999654}"
      ]
     },
     "execution_count": 9,
     "metadata": {},
     "output_type": "execute_result"
    }
   ],
   "source": [
    "d_dataset['1143'][0].meta"
   ]
  },
  {
   "cell_type": "code",
   "execution_count": 10,
   "metadata": {},
   "outputs": [],
   "source": [
    "dataset = []\n",
    "\n",
    "for sub in d_dataset.keys():\n",
    "    for flank in d_dataset[sub]:\n",
    "        dataset.append(flank)"
   ]
  },
  {
   "cell_type": "code",
   "execution_count": 14,
   "metadata": {},
   "outputs": [],
   "source": [
    "# Plots.plot_outcome_hist(\n",
    "#     [flank.meta['response_time'] for flank in dataset],\n",
    "#     [flank.meta['congruent'] for flank in dataset],\n",
    "#     xlabel=\"Response Time\",\n",
    "#     title=\"Congruency (Incongruent=0, Congurent=1)\",\n",
    "#     n_bins=10)"
   ]
  },
  {
   "cell_type": "code",
   "execution_count": 23,
   "metadata": {},
   "outputs": [
    {
     "data": {
      "text/plain": [
       "<matplotlib.legend.Legend at 0x7f3a16249250>"
      ]
     },
     "execution_count": 23,
     "metadata": {},
     "output_type": "execute_result"
    },
    {
     "data": {
      "image/png": "[encoded data removed]",
      "text/plain": [
       "<Figure size 864x576 with 1 Axes>"
      ]
     },
     "metadata": {
      "needs_background": "light"
     },
     "output_type": "display_data"
    }
   ],
   "source": [
    "plt.hist(\n",
    "    [flank.meta['response_time'] for flank in dataset if\\\n",
    "        flank.meta['directional'] is True],\n",
    "    bins=100,\n",
    "    alpha=0.5,\n",
    "    label=\"Directional\",\n",
    "    color='blue')\n",
    "\n",
    "plt.hist(\n",
    "    [flank.meta['response_time'] for flank in dataset if\\\n",
    "        flank.meta['directional'] is False],\n",
    "    bins=100,\n",
    "    alpha=0.5,\n",
    "    label=\"Indirectional\",\n",
    "    color='red')\n",
    "\n",
    "plt.xlabel(\"Flanker Response Time (s)\")\n",
    "plt.ylabel(\"Count\")\n",
    "plt.title(\"Directionality / RT Relation\")\n",
    "plt.legend(loc='upper right')"
   ]
  },
  {
   "cell_type": "code",
   "execution_count": 22,
   "metadata": {},
   "outputs": [
    {
     "data": {
      "text/plain": [
       "<matplotlib.legend.Legend at 0x7f3a164d5090>"
      ]
     },
     "execution_count": 22,
     "metadata": {},
     "output_type": "execute_result"
    },
    {
     "data": {
      "image/png": "[encoded data removed]",
      "text/plain": [
       "<Figure size 864x576 with 1 Axes>"
      ]
     },
     "metadata": {
      "needs_background": "light"
     },
     "output_type": "display_data"
    }
   ],
   "source": [
    "plt.hist(\n",
    "    [flank.meta['response_time'] for flank in dataset if\\\n",
    "        flank.meta['congruent'] is True],\n",
    "    bins=100,\n",
    "    alpha=0.5,\n",
    "    label=\"Congruent\",\n",
    "    color='blue')\n",
    "\n",
    "plt.hist(\n",
    "    [flank.meta['response_time'] for flank in dataset if\\\n",
    "        flank.meta['congruent'] is False],\n",
    "    bins=100,\n",
    "    alpha=0.5,\n",
    "    label=\"Incongruent\",\n",
    "    color='red')\n",
    "\n",
    "plt.xlabel(\"Flanker Response Time (s)\")\n",
    "plt.ylabel(\"Count\")\n",
    "plt.title(\"Congruency / RT Relation\")\n",
    "plt.legend(loc='upper right')"
   ]
  },
  {
   "cell_type": "code",
   "execution_count": 21,
   "metadata": {},
   "outputs": [
    {
     "data": {
      "text/plain": [
       "<matplotlib.legend.Legend at 0x7f3a166e9190>"
      ]
     },
     "execution_count": 21,
     "metadata": {},
     "output_type": "execute_result"
    },
    {
     "data": {
      "image/png": "[encoded data removed]",
      "text/plain": [
       "<Figure size 864x576 with 1 Axes>"
      ]
     },
     "metadata": {
      "needs_background": "light"
     },
     "output_type": "display_data"
    }
   ],
   "source": [
    "plt.hist(\n",
    "    [flank.meta['response_time'] for flank in dataset if\\\n",
    "        flank.eval() is True],\n",
    "    bins=100,\n",
    "    alpha=0.5,\n",
    "    label=\"Correct\",\n",
    "    color='blue')\n",
    "\n",
    "plt.hist(\n",
    "    [flank.meta['response_time'] for flank in dataset if\\\n",
    "        flank.eval() is False],\n",
    "    bins=100,\n",
    "    alpha=0.5,\n",
    "    label=\"Incorrect\",\n",
    "    color='red')\n",
    "\n",
    "plt.xlabel(\"Flanker Response Time (s)\")\n",
    "plt.ylabel(\"Count\")\n",
    "plt.title(\"Correctness / RT Relation\")\n",
    "plt.legend(loc='upper right')"
   ]
  },
  {
   "cell_type": "code",
   "execution_count": 20,
   "metadata": {},
   "outputs": [
    {
     "data": {
      "text/plain": [
       "<matplotlib.collections.PathCollection at 0x7f3a26fe2350>"
      ]
     },
     "execution_count": 20,
     "metadata": {},
     "output_type": "execute_result"
    },
    {
     "data": {
      "image/png": "[encoded data removed]",
      "text/plain": [
       "<Figure size 864x576 with 1 Axes>"
      ]
     },
     "metadata": {
      "needs_background": "light"
     },
     "output_type": "display_data"
    }
   ],
   "source": [
    "plt.scatter(\n",
    "    [flank.meta['block'] for flank in dataset],\n",
    "    [flank.meta['response_time'] for flank in dataset]\n",
    ")"
   ]
  },
  {
   "cell_type": "code",
   "execution_count": 44,
   "metadata": {},
   "outputs": [
    {
     "data": {
      "text/plain": [
       "{'whiskers': [<matplotlib.lines.Line2D at 0x7f3a1527e950>,\n",
       "  <matplotlib.lines.Line2D at 0x7f3a1527ec90>,\n",
       "  <matplotlib.lines.Line2D at 0x7f3a15294050>,\n",
       "  <matplotlib.lines.Line2D at 0x7f3a15294350>,\n",
       "  <matplotlib.lines.Line2D at 0x7f3a152a1710>,\n",
       "  <matplotlib.lines.Line2D at 0x7f3a152a1a90>,\n",
       "  <matplotlib.lines.Line2D at 0x7f3a1522de90>,\n",
       "  <matplotlib.lines.Line2D at 0x7f3a1523b210>,\n",
       "  <matplotlib.lines.Line2D at 0x7f3a15246650>,\n",
       "  <matplotlib.lines.Line2D at 0x7f3a15246950>,\n",
       "  <matplotlib.lines.Line2D at 0x7f3a15253d50>,\n",
       "  <matplotlib.lines.Line2D at 0x7f3a152610d0>,\n",
       "  <matplotlib.lines.Line2D at 0x7f3a151ed490>,\n",
       "  <matplotlib.lines.Line2D at 0x7f3a151ed7d0>,\n",
       "  <matplotlib.lines.Line2D at 0x7f3a151f8b90>,\n",
       "  <matplotlib.lines.Line2D at 0x7f3a151f8ed0>,\n",
       "  <matplotlib.lines.Line2D at 0x7f3a15213250>,\n",
       "  <matplotlib.lines.Line2D at 0x7f3a15213590>,\n",
       "  <matplotlib.lines.Line2D at 0x7f3a152208d0>,\n",
       "  <matplotlib.lines.Line2D at 0x7f3a15220c10>,\n",
       "  <matplotlib.lines.Line2D at 0x7f3a151ba050>,\n",
       "  <matplotlib.lines.Line2D at 0x7f3a151ba350>,\n",
       "  <matplotlib.lines.Line2D at 0x7f3a151c7710>,\n",
       "  <matplotlib.lines.Line2D at 0x7f3a151c7a50>,\n",
       "  <matplotlib.lines.Line2D at 0x7f3a151d5e10>,\n",
       "  <matplotlib.lines.Line2D at 0x7f3a151e1190>],\n",
       " 'caps': [<matplotlib.lines.Line2D at 0x7f3a15287050>,\n",
       "  <matplotlib.lines.Line2D at 0x7f3a15287350>,\n",
       "  <matplotlib.lines.Line2D at 0x7f3a15294690>,\n",
       "  <matplotlib.lines.Line2D at 0x7f3a152949d0>,\n",
       "  <matplotlib.lines.Line2D at 0x7f3a152a1dd0>,\n",
       "  <matplotlib.lines.Line2D at 0x7f3a1522d190>,\n",
       "  <matplotlib.lines.Line2D at 0x7f3a1523b550>,\n",
       "  <matplotlib.lines.Line2D at 0x7f3a1523b890>,\n",
       "  <matplotlib.lines.Line2D at 0x7f3a15246c90>,\n",
       "  <matplotlib.lines.Line2D at 0x7f3a15246f90>,\n",
       "  <matplotlib.lines.Line2D at 0x7f3a15261410>,\n",
       "  <matplotlib.lines.Line2D at 0x7f3a15261750>,\n",
       "  <matplotlib.lines.Line2D at 0x7f3a151edb10>,\n",
       "  <matplotlib.lines.Line2D at 0x7f3a151ede50>,\n",
       "  <matplotlib.lines.Line2D at 0x7f3a15206250>,\n",
       "  <matplotlib.lines.Line2D at 0x7f3a15206590>,\n",
       "  <matplotlib.lines.Line2D at 0x7f3a152138d0>,\n",
       "  <matplotlib.lines.Line2D at 0x7f3a15213c10>,\n",
       "  <matplotlib.lines.Line2D at 0x7f3a15220f50>,\n",
       "  <matplotlib.lines.Line2D at 0x7f3a151ae2d0>,\n",
       "  <matplotlib.lines.Line2D at 0x7f3a151ba690>,\n",
       "  <matplotlib.lines.Line2D at 0x7f3a151ba9d0>,\n",
       "  <matplotlib.lines.Line2D at 0x7f3a151c7d90>,\n",
       "  <matplotlib.lines.Line2D at 0x7f3a151d5110>,\n",
       "  <matplotlib.lines.Line2D at 0x7f3a151e14d0>,\n",
       "  <matplotlib.lines.Line2D at 0x7f3a151e1810>],\n",
       " 'boxes': [<matplotlib.lines.Line2D at 0x7f3a1527e690>,\n",
       "  <matplotlib.lines.Line2D at 0x7f3a15287c50>,\n",
       "  <matplotlib.lines.Line2D at 0x7f3a152a1350>,\n",
       "  <matplotlib.lines.Line2D at 0x7f3a1522dad0>,\n",
       "  <matplotlib.lines.Line2D at 0x7f3a152462d0>,\n",
       "  <matplotlib.lines.Line2D at 0x7f3a15253990>,\n",
       "  <matplotlib.lines.Line2D at 0x7f3a151ed0d0>,\n",
       "  <matplotlib.lines.Line2D at 0x7f3a151f87d0>,\n",
       "  <matplotlib.lines.Line2D at 0x7f3a15206e90>,\n",
       "  <matplotlib.lines.Line2D at 0x7f3a15220510>,\n",
       "  <matplotlib.lines.Line2D at 0x7f3a151aec10>,\n",
       "  <matplotlib.lines.Line2D at 0x7f3a151c7350>,\n",
       "  <matplotlib.lines.Line2D at 0x7f3a151d5a50>],\n",
       " 'medians': [<matplotlib.lines.Line2D at 0x7f3a152876d0>,\n",
       "  <matplotlib.lines.Line2D at 0x7f3a15294d10>,\n",
       "  <matplotlib.lines.Line2D at 0x7f3a1522d4d0>,\n",
       "  <matplotlib.lines.Line2D at 0x7f3a1523bbd0>,\n",
       "  <matplotlib.lines.Line2D at 0x7f3a15253310>,\n",
       "  <matplotlib.lines.Line2D at 0x7f3a15261a90>,\n",
       "  <matplotlib.lines.Line2D at 0x7f3a151f81d0>,\n",
       "  <matplotlib.lines.Line2D at 0x7f3a152068d0>,\n",
       "  <matplotlib.lines.Line2D at 0x7f3a15213f50>,\n",
       "  <matplotlib.lines.Line2D at 0x7f3a151ae610>,\n",
       "  <matplotlib.lines.Line2D at 0x7f3a151bad10>,\n",
       "  <matplotlib.lines.Line2D at 0x7f3a151d5450>,\n",
       "  <matplotlib.lines.Line2D at 0x7f3a151e1b50>],\n",
       " 'fliers': [<matplotlib.lines.Line2D at 0x7f3a152879d0>,\n",
       "  <matplotlib.lines.Line2D at 0x7f3a152a1090>,\n",
       "  <matplotlib.lines.Line2D at 0x7f3a1522d810>,\n",
       "  <matplotlib.lines.Line2D at 0x7f3a1523bf10>,\n",
       "  <matplotlib.lines.Line2D at 0x7f3a15253690>,\n",
       "  <matplotlib.lines.Line2D at 0x7f3a15261dd0>,\n",
       "  <matplotlib.lines.Line2D at 0x7f3a151f8510>,\n",
       "  <matplotlib.lines.Line2D at 0x7f3a15206c10>,\n",
       "  <matplotlib.lines.Line2D at 0x7f3a15220290>,\n",
       "  <matplotlib.lines.Line2D at 0x7f3a151ae950>,\n",
       "  <matplotlib.lines.Line2D at 0x7f3a151c7090>,\n",
       "  <matplotlib.lines.Line2D at 0x7f3a151d5790>,\n",
       "  <matplotlib.lines.Line2D at 0x7f3a151e1e90>],\n",
       " 'means': []}"
      ]
     },
     "execution_count": 44,
     "metadata": {},
     "output_type": "execute_result"
    },
    {
     "data": {
      "image/png": "[encoded data removed]",
      "text/plain": [
       "<Figure size 864x576 with 1 Axes>"
      ]
     },
     "metadata": {
      "needs_background": "light"
     },
     "output_type": "display_data"
    }
   ],
   "source": [
    "fig, ax = plt.subplots()\n",
    "\n",
    "data = [\n",
    "    [flank.meta['response_time'] for flank in d_dataset[sub]] for sub in d_dataset.keys()\n",
    "]\n",
    "\n",
    "ax.boxplot(data)"
   ]
  },
  {
   "cell_type": "code",
   "execution_count": null,
   "metadata": {},
   "outputs": [],
   "source": [
    "\n",
    "plt.violinplot(\n",
    "    [[flank.meta['response_time'] for flank in d_dataset[sub]] for sub in d_dataset.keys()],\n",
    "    positions=[i for i, sub in enumerate(d_dataset.keys())]\n",
    ")"
   ]
  }
 ],
 "metadata": {
  "kernelspec": {
   "display_name": "MRIenv",
   "language": "python",
   "name": "mrienv"
  },
  "language_info": {
   "codemirror_mode": {
    "name": "ipython",
    "version": 3
   },
   "file_extension": ".py",
   "mimetype": "text/x-python",
   "name": "python",
   "nbconvert_exporter": "python",
   "pygments_lexer": "ipython3",
   "version": "3.7.5"
  }
 },
 "nbformat": 4,
 "nbformat_minor": 4
}
