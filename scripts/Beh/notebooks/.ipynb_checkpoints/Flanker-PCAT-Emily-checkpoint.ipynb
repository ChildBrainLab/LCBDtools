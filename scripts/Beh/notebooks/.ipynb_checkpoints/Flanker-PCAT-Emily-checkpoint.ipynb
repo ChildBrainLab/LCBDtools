{
 "cells": [
  {
   "cell_type": "code",
   "execution_count": 14,
   "metadata": {},
   "outputs": [],
   "source": [
    "# General dependencies\n",
    "import os, shutil\n",
    "from os.path import join\n",
    "from tqdm import tqdm\n",
    "import matplotlib.pyplot as plt\n",
    "import numpy as np\n",
    "import pandas as pd\n",
    "import seaborn as sns\n",
    "from copy import deepcopy\n",
    "from glob import glob\n",
    "import math\n",
    "from math import floor\n",
    "import scipy"
   ]
  },
  {
   "cell_type": "code",
   "execution_count": 15,
   "metadata": {},
   "outputs": [],
   "source": [
    "# LCBD dependencies\n",
    "# add relative path to our toolbox\n",
    "import sys\n",
    "sys.path.append('../../../..') # path to preprocessing from here\n",
    "\n",
    "from LCBDtools.scripts import argParser\n",
    "from LCBDtools.src import Plots\n",
    "from LCBDtools.src import Statistics\n",
    "from LCBDtools.src import TimeSeries\n",
    "from LCBDtools.Stimuli.Flanker import TaskReader"
   ]
  },
  {
   "cell_type": "code",
   "execution_count": 16,
   "metadata": {},
   "outputs": [],
   "source": [
    "# Some configuration variables\n",
    "dataDir = \"/data/perlman/moochie/study_data/P-CAT/task_data\"\n",
    "participant_num_len = 4 # default length of participant numbers\n",
    "task = \"Flanker\""
   ]
  },
  {
   "cell_type": "code",
   "execution_count": 17,
   "metadata": {},
   "outputs": [],
   "source": [
    "# from data tracker June 3rd 2022, list of subjects with v3 Flanker completed\n",
    "in_subs = [\n",
    "    \"1115\",\n",
    "    \"1116\",\n",
    "#     \"1110\", didn't do flanker, less 80% practice\n",
    "    \"1114\",\n",
    "#     \"1119\", # refused to flank\n",
    "    \"1121\",\n",
    "    \"1122\",\n",
    "    \"1126\",\n",
    "    \"1125\",\n",
    "    \"1127\",\n",
    "#     \"1128\", sibling participated\n",
    "    \"1129\",\n",
    "    \"1134\",\n",
    "    \"1130\",\n",
    "#     \"1131\", <20% on practice\n",
    "#     \"1137\", lower extreme on KBIT\n",
    "    \"1124\",\n",
    "    \"1133\",\n",
    "#     \"1138\", <20% on practice \n",
    "    \"1144\",\n",
    "    \"1143\",\n",
    "#     \"1141\", <20% on practice\n",
    "    \"1145\",\n",
    "    \"1149\",\n",
    "    \"1154\",\n",
    "    \"1155\",\n",
    "#     \"1142\", <20% on practice\n",
    "    \"1148\",\n",
    "    \"1156\"\n",
    "]"
   ]
  },
  {
   "cell_type": "code",
   "execution_count": 18,
   "metadata": {},
   "outputs": [],
   "source": [
    "all_subs = [\n",
    "    \"1102\", \n",
    "    \"1109\",  \n",
    "    \"1103\",  \n",
    "    \"1104\",  \n",
    "    \"1112\",  \n",
    "    \"1115\",  \n",
    "    \"1116\",  \n",
    "    \"1110\",  \n",
    "    \"1117\",  \n",
    "    \"1118\",  \n",
    "    \"1114\",  \n",
    "    \"1119\",  \n",
    "    \"1121\",  \n",
    "    \"1122\",  \n",
    "    \"1126\",  \n",
    "    \"1113\",  \n",
    "    \"1125\",  \n",
    "    \"1127\",  \n",
    "    \"1128\",  \n",
    "    \"1129\",  \n",
    "    \"1134\",  \n",
    "    \"1130\",  \n",
    "    \"1131\",  \n",
    "    \"1137\",  \n",
    "    \"1124\",  \n",
    "    \"1133\",  \n",
    "    \"1138\",  \n",
    "    \"1144\",  \n",
    "    \"1143\",  \n",
    "    \"1151\",  \n",
    "    \"1145\",  \n",
    "    \"1141\",  \n",
    "    \"1147\",  \n",
    "    \"1149\",  \n",
    "    \"1154\",  \n",
    "    \"1155\",  \n",
    "    \"1152\",  \n",
    "    \"1139\",  \n",
    "    \"1142\",  \n",
    "    \"1148\",  \n",
    "    \"1156\",  \n",
    "    \"1159\",  \n",
    "    \"1160\"]\n"
   ]
  },
  {
   "cell_type": "code",
   "execution_count": 19,
   "metadata": {},
   "outputs": [],
   "source": [
    "ages = [\n",
    "    6.42026009582478,\n",
    "    5.1006160164271,\n",
    "    6.38193018480493,\n",
    "    4.68993839835729,\n",
    "    7.97809719370294,\n",
    "    6.55989048596851,\n",
    "    7.43326488706366,\n",
    "    4.8952772073922,\n",
    "    6.78439425051335,\n",
    "    5.09787816563997,\n",
    "    4.58316221765914,\n",
    "    4.51471594798084,\n",
    "    7.87953456536619,\n",
    "    5.37987679671458,\n",
    "    7.97535934291581,\n",
    "    4.03285420944559,\n",
    "    7.71252566735113,\n",
    "    7.81656399726215,\n",
    "    0,\n",
    "    7.45516769336071,\n",
    "    5.86173853524983,\n",
    "    6.6009582477755,\n",
    "    4.3750855578371,\n",
    "    4.07939767282683,\n",
    "    6.13826146475017,\n",
    "    4.35318275154004,\n",
    "    5.13894592744695,\n",
    "    5.7056810403833,\n",
    "    7.42778918548939,\n",
    "    4.51745379876797,\n",
    "    6.40930869267625,\n",
    "    4.03011635865845,\n",
    "    6.01779603011636,\n",
    "    7.67693360711841,\n",
    "    6.94318959616701,\n",
    "    4.35592060232717,\n",
    "    0,\n",
    "    0,\n",
    "    4.03832991101985,\n",
    "    5.93018480492813,\n",
    "    5.36344969199179,\n",
    "    0]"
   ]
  },
  {
   "cell_type": "code",
   "execution_count": 20,
   "metadata": {},
   "outputs": [],
   "source": [
    "fnames = [fname for fname in glob(join(dataDir, '*', '*_'+task, '*.csv')) if \\\n",
    "    os.path.basename(fname)[:participant_num_len] in in_subs]"
   ]
  },
  {
   "cell_type": "code",
   "execution_count": 21,
   "metadata": {},
   "outputs": [],
   "source": [
    "d_dataset = {}\n",
    "\n",
    "for fname in fnames:\n",
    "    try:\n",
    "        flanker_series = TaskReader(fname).flankerSeries\n",
    "        subject = os.path.basename(fname)[:participant_num_len]\n",
    "\n",
    "        for flank in flanker_series:\n",
    "            flank.eval()\n",
    "            flank.meta['age'] = floor(ages[all_subs.index(subject)])\n",
    "\n",
    "        d_dataset[subject] = flanker_series\n",
    "        \n",
    "    except:\n",
    "        print(\"Error encountered @ subject:\", os.path.basename(fname)[:participant_num_len])  "
   ]
  },
  {
   "cell_type": "code",
   "execution_count": 22,
   "metadata": {},
   "outputs": [
    {
     "data": {
      "text/plain": [
       "150"
      ]
     },
     "execution_count": 22,
     "metadata": {},
     "output_type": "execute_result"
    }
   ],
   "source": [
    "len(d_dataset['1133'])"
   ]
  },
  {
   "cell_type": "code",
   "execution_count": 23,
   "metadata": {},
   "outputs": [
    {
     "name": "stdout",
     "output_type": "stream",
     "text": [
      "[]\n"
     ]
    }
   ],
   "source": [
    "# these subjects have missing data maybe? they have version 3 but aren't here. \n",
    "# maybe they don't actually have real flanker?\n",
    "print([sub for sub in in_subs if sub not in list(d_dataset.keys())])"
   ]
  },
  {
   "cell_type": "code",
   "execution_count": 24,
   "metadata": {},
   "outputs": [
    {
     "name": "stdout",
     "output_type": "stream",
     "text": [
      "['1143', '1134', '1149', '1115', '1127', '1133', '1144', '1116', '1124', '1154', '1129', '1130', '1145', '1156', '1121', '1114', '1126', '1148', '1122', '1155', '1125']\n"
     ]
    }
   ],
   "source": [
    "# these subjects have actual flanker data loaded in:\n",
    "print(list(d_dataset.keys()))"
   ]
  },
  {
   "cell_type": "code",
   "execution_count": 25,
   "metadata": {},
   "outputs": [
    {
     "data": {
      "text/plain": [
       "{'trial_n': 1,\n",
       " 'block': 1,\n",
       " 'corr_answer': 'right',\n",
       " 'stim_file': 'stimuli/trial_block1_D_IR.png',\n",
       " 'directional': True,\n",
       " 'congruent': False,\n",
       " 'stim_start_time': 148.8814254,\n",
       " 'stim_stop_time': 149.8868478,\n",
       " 'response': 'right',\n",
       " 'response_time': 1.1343523,\n",
       " 'fixation_start_time': 147.4024356,\n",
       " 'fixation_stop_time': 148.915589,\n",
       " 'correct': True,\n",
       " 'age': 7}"
      ]
     },
     "execution_count": 25,
     "metadata": {},
     "output_type": "execute_result"
    }
   ],
   "source": [
    "d_dataset['1143'][0].meta"
   ]
  },
  {
   "cell_type": "code",
   "execution_count": 26,
   "metadata": {},
   "outputs": [],
   "source": [
    "dataset = []\n",
    "\n",
    "for sub in d_dataset.keys():\n",
    "    for flank in d_dataset[sub]:\n",
    "        dataset.append(flank)"
   ]
  },
  {
   "cell_type": "code",
   "execution_count": 27,
   "metadata": {},
   "outputs": [],
   "source": [
    "# Plots.plot_outcome_hist(\n",
    "#     [flank.meta['response_time'] for flank in dataset],\n",
    "#     [flank.meta['congruent'] for flank in dataset],\n",
    "#     xlabel=\"Response Time\",\n",
    "#     title=\"Congruency (Incongruent=0, Congurent=1)\",\n",
    "#     n_bins=10)"
   ]
  },
  {
   "cell_type": "code",
   "execution_count": 28,
   "metadata": {},
   "outputs": [
    {
     "data": {
      "text/plain": [
       "<matplotlib.legend.Legend at 0x7feefe03ecd0>"
      ]
     },
     "execution_count": 28,
     "metadata": {},
     "output_type": "execute_result"
    },
    {
     "data": {
      "image/png": "[encoded data removed]",
      "text/plain": [
       "<Figure size 864x576 with 1 Axes>"
      ]
     },
     "metadata": {
      "needs_background": "light"
     },
     "output_type": "display_data"
    }
   ],
   "source": [
    "plt.hist(\n",
    "    [flank.meta['response_time'] for flank in dataset if\\\n",
    "        flank.meta['directional'] is True],\n",
    "    bins=100,\n",
    "    alpha=0.5,\n",
    "    label=\"Directional\",\n",
    "    color='blue')\n",
    "\n",
    "plt.hist(\n",
    "    [flank.meta['response_time'] for flank in dataset if\\\n",
    "        flank.meta['directional'] is False],\n",
    "    bins=100,\n",
    "    alpha=0.5,\n",
    "    label=\"Indirectional\",\n",
    "    color='red')\n",
    "\n",
    "plt.xlabel(\"Flanker Response Time (s)\")\n",
    "plt.ylabel(\"Count\")\n",
    "plt.title(\"Directionality / RT Relation\")\n",
    "plt.legend(loc='upper right')"
   ]
  },
  {
   "cell_type": "code",
   "execution_count": 29,
   "metadata": {},
   "outputs": [],
   "source": [
    "yo4con = [flank.meta['response_time'] for flank in dataset if (flank.meta['age'] == 4) and (flank.meta['congruent'] == True) and (not math.isnan(flank.meta['response_time']))]\n",
    "yo5con = [flank.meta['response_time'] for flank in dataset if (flank.meta['age'] == 5) and (flank.meta['congruent'] == True) and (not math.isnan(flank.meta['response_time']))]\n",
    "yo6con = [flank.meta['response_time'] for flank in dataset if (flank.meta['age'] == 6) and (flank.meta['congruent'] == True) and (not math.isnan(flank.meta['response_time']))]\n",
    "yo7con = [flank.meta['response_time'] for flank in dataset if (flank.meta['age'] == 7) and (flank.meta['congruent'] == True) and (not math.isnan(flank.meta['response_time']))]\n",
    "\n",
    "yo4inc = [flank.meta['response_time'] for flank in dataset if (flank.meta['age'] == 4) and (flank.meta['congruent'] == False) and (not math.isnan(flank.meta['response_time']))]\n",
    "yo5inc = [flank.meta['response_time'] for flank in dataset if (flank.meta['age'] == 5) and (flank.meta['congruent'] == False) and (not math.isnan(flank.meta['response_time']))]\n",
    "yo6inc = [flank.meta['response_time'] for flank in dataset if (flank.meta['age'] == 6) and (flank.meta['congruent'] == False) and (not math.isnan(flank.meta['response_time']))]\n",
    "yo7inc = [flank.meta['response_time'] for flank in dataset if (flank.meta['age'] == 7) and (flank.meta['congruent'] == False) and (not math.isnan(flank.meta['response_time']))]\n",
    "\n",
    "yo4corr = [flank.meta['response_time'] for flank in dataset if (flank.meta['age'] == 4) and (flank.meta['correct'] == True) and (not math.isnan(flank.meta['response_time']))]\n",
    "yo5corr = [flank.meta['response_time'] for flank in dataset if (flank.meta['age'] == 5) and (flank.meta['correct'] == True) and (not math.isnan(flank.meta['response_time']))]\n",
    "yo6corr = [flank.meta['response_time'] for flank in dataset if (flank.meta['age'] == 6) and (flank.meta['correct'] == True) and (not math.isnan(flank.meta['response_time']))]\n",
    "yo7corr = [flank.meta['response_time'] for flank in dataset if (flank.meta['age'] == 7) and (flank.meta['correct'] == True) and (not math.isnan(flank.meta['response_time']))]\n",
    "\n",
    "yo4incorr = [flank.meta['response_time'] for flank in dataset if (flank.meta['age'] == 4) and (flank.meta['correct'] == False) and (not math.isnan(flank.meta['response_time']))]\n",
    "yo5incorr = [flank.meta['response_time'] for flank in dataset if (flank.meta['age'] == 5) and (flank.meta['correct'] == False) and (not math.isnan(flank.meta['response_time']))]\n",
    "yo6incorr = [flank.meta['response_time'] for flank in dataset if (flank.meta['age'] == 6) and (flank.meta['correct'] == False) and (not math.isnan(flank.meta['response_time']))]\n",
    "yo7incorr = [flank.meta['response_time'] for flank in dataset if (flank.meta['age'] == 7) and (flank.meta['correct'] == False) and (not math.isnan(flank.meta['response_time']))]\n",
    "\n",
    "yo4dir = [flank.meta['response_time'] for flank in dataset if (flank.meta['age'] == 4) and (flank.meta['directional'] == True) and (not math.isnan(flank.meta['response_time']))]\n",
    "yo5dir = [flank.meta['response_time'] for flank in dataset if (flank.meta['age'] == 5) and (flank.meta['directional'] == True) and (not math.isnan(flank.meta['response_time']))]\n",
    "yo6dir = [flank.meta['response_time'] for flank in dataset if (flank.meta['age'] == 6) and (flank.meta['directional'] == True) and (not math.isnan(flank.meta['response_time']))]\n",
    "yo7dir = [flank.meta['response_time'] for flank in dataset if (flank.meta['age'] == 7) and (flank.meta['directional'] == True) and (not math.isnan(flank.meta['response_time']))]\n",
    "\n",
    "yo4indir = [flank.meta['response_time'] for flank in dataset if (flank.meta['age'] == 4) and (flank.meta['directional'] == False) and (not math.isnan(flank.meta['response_time']))]\n",
    "yo5indir = [flank.meta['response_time'] for flank in dataset if (flank.meta['age'] == 5) and (flank.meta['directional'] == False) and (not math.isnan(flank.meta['response_time']))]\n",
    "yo6indir = [flank.meta['response_time'] for flank in dataset if (flank.meta['age'] == 6) and (flank.meta['directional'] == False) and (not math.isnan(flank.meta['response_time']))]\n",
    "yo7indir = [flank.meta['response_time'] for flank in dataset if (flank.meta['age'] == 7) and (flank.meta['directional'] == False) and (not math.isnan(flank.meta['response_time']))]"
   ]
  },
  {
   "cell_type": "code",
   "execution_count": 30,
   "metadata": {},
   "outputs": [
    {
     "name": "stdout",
     "output_type": "stream",
     "text": [
      "Congruent\n",
      "0.8746094009270184 0.29764980947211406\n",
      "0.6975594152188048 0.19142075723837207\n",
      "0.7261369600024696 0.23320370917559363\n",
      "0.6293853454996842 0.1577635846950535\n",
      "\n",
      "\n",
      "Incongruent\n",
      "0.9001992339846006 0.29176509984709914\n",
      "0.741276882468171 0.22900498635989894\n",
      "0.7518504793554336 0.2865355827239075\n",
      "0.6508886261895822 0.180295447279646\n",
      "\n",
      "\n",
      "Correct\n",
      "0.9157473807367545 0.26771649803950937\n",
      "0.7316678225899902 0.2120749625111932\n",
      "0.7621871966501346 0.2630697041473126\n",
      "0.645291590623328 0.17093756842554286\n",
      "\n",
      "\n",
      "Incorrect\n",
      "0.8055345971050806 0.35956077381209023\n",
      "0.6739466695111243 0.2699788132620814\n",
      "0.5620980090951145 0.2783943964439173\n",
      "0.6065698130439986 0.22078988849458725\n",
      "\n",
      "\n",
      "Directional\n",
      "0.898478200480333 0.2933169092883327\n",
      "0.7379603229182589 0.22149017132116267\n",
      "0.7353328388057131 0.25044733575971173\n",
      "0.648883737433121 0.17543401319674015\n",
      "\n",
      "\n",
      "Indirectional\n",
      "0.8775312609534232 0.29497543467468446\n",
      "0.7034716195457477 0.2093297525899309\n",
      "0.7588562740382678 0.3043190614154287\n",
      "0.6333951230126067 0.16880873369560784\n",
      "\n",
      "\n"
     ]
    }
   ],
   "source": [
    "print(\"Congruent\")\n",
    "print(np.mean(yo4con), np.std(yo4con))\n",
    "print(np.mean(yo5con), np.std(yo5con))\n",
    "print(np.mean(yo6con), np.std(yo6con))\n",
    "print(np.mean(yo7con), np.std(yo7con))\n",
    "print('\\n')\n",
    "\n",
    "print(\"Incongruent\")\n",
    "print(np.mean(yo4inc), np.std(yo4inc))\n",
    "print(np.mean(yo5inc), np.std(yo5inc))\n",
    "print(np.mean(yo6inc), np.std(yo6inc))\n",
    "print(np.mean(yo7inc), np.std(yo7inc))\n",
    "print('\\n')\n",
    "\n",
    "print(\"Correct\")\n",
    "print(np.mean(yo4corr), np.std(yo4corr))\n",
    "print(np.mean(yo5corr), np.std(yo5corr))\n",
    "print(np.mean(yo6corr), np.std(yo6corr))\n",
    "print(np.mean(yo7corr), np.std(yo7corr))\n",
    "print('\\n')\n",
    "\n",
    "print(\"Incorrect\")\n",
    "print(np.mean(yo4incorr), np.std(yo4incorr))\n",
    "print(np.mean(yo5incorr), np.std(yo5incorr))\n",
    "print(np.mean(yo6incorr), np.std(yo6incorr))\n",
    "print(np.mean(yo7incorr), np.std(yo7incorr))\n",
    "print('\\n')\n",
    "\n",
    "print(\"Directional\")\n",
    "print(np.mean(yo4dir), np.std(yo4dir))\n",
    "print(np.mean(yo5dir), np.std(yo5dir))\n",
    "print(np.mean(yo6dir), np.std(yo6dir))\n",
    "print(np.mean(yo7dir), np.std(yo7dir))\n",
    "print('\\n')\n",
    "\n",
    "print(\"Indirectional\")\n",
    "print(np.mean(yo4indir), np.std(yo4indir))\n",
    "print(np.mean(yo5indir), np.std(yo5indir))\n",
    "print(np.mean(yo6indir), np.std(yo6indir))\n",
    "print(np.mean(yo7indir), np.std(yo7indir))\n",
    "print('\\n')"
   ]
  },
  {
   "cell_type": "code",
   "execution_count": null,
   "metadata": {},
   "outputs": [],
   "source": []
  },
  {
   "cell_type": "code",
   "execution_count": 121,
   "metadata": {},
   "outputs": [
    {
     "name": "stdout",
     "output_type": "stream",
     "text": [
      "0.29764980947211406\n"
     ]
    }
   ],
   "source": [
    "print(np.std(yo4))"
   ]
  },
  {
   "cell_type": "code",
   "execution_count": 46,
   "metadata": {},
   "outputs": [
    {
     "data": {
      "text/plain": [
       "nan"
      ]
     },
     "execution_count": 46,
     "metadata": {},
     "output_type": "execute_result"
    }
   ],
   "source": [
    "yo4"
   ]
  },
  {
   "cell_type": "code",
   "execution_count": 17,
   "metadata": {},
   "outputs": [
    {
     "data": {
      "text/plain": [
       "<matplotlib.legend.Legend at 0x7fee490c41d0>"
      ]
     },
     "execution_count": 17,
     "metadata": {},
     "output_type": "execute_result"
    },
    {
     "data": {
      "image/png": "[encoded data removed]",
      "text/plain": [
       "<Figure size 864x576 with 1 Axes>"
      ]
     },
     "metadata": {
      "needs_background": "light"
     },
     "output_type": "display_data"
    }
   ],
   "source": [
    "plt.hist(\n",
    "    [flank.meta['response_time'] for flank in dataset if\\\n",
    "        flank.meta['congruent'] is True],\n",
    "    bins=100,\n",
    "    alpha=0.5,\n",
    "    label=\"Congruent\",\n",
    "    color='blue')\n",
    "\n",
    "plt.hist(\n",
    "    [flank.meta['response_time'] for flank in dataset if\\\n",
    "        flank.meta['congruent'] is False],\n",
    "    bins=100,\n",
    "    alpha=0.5,\n",
    "    label=\"Incongruent\",\n",
    "    color='red')\n",
    "\n",
    "plt.xlabel(\"Flanker Response Time (s)\")\n",
    "plt.ylabel(\"Count\")\n",
    "plt.title(\"Congruency / RT Relation\")\n",
    "plt.legend(loc='upper right')"
   ]
  },
  {
   "cell_type": "code",
   "execution_count": 18,
   "metadata": {},
   "outputs": [
    {
     "data": {
      "text/plain": [
       "<matplotlib.legend.Legend at 0x7fee490167d0>"
      ]
     },
     "execution_count": 18,
     "metadata": {},
     "output_type": "execute_result"
    },
    {
     "data": {
      "image/png": "[encoded data removed]",
      "text/plain": [
       "<Figure size 864x576 with 1 Axes>"
      ]
     },
     "metadata": {
      "needs_background": "light"
     },
     "output_type": "display_data"
    }
   ],
   "source": [
    "plt.hist(\n",
    "    [flank.meta['response_time'] for flank in dataset if\\\n",
    "        flank.eval() is True],\n",
    "    bins=100,\n",
    "    alpha=0.5,\n",
    "    label=\"Correct\",\n",
    "    color='blue')\n",
    "\n",
    "plt.hist(\n",
    "    [flank.meta['response_time'] for flank in dataset if\\\n",
    "        flank.eval() is False],\n",
    "    bins=100,\n",
    "    alpha=0.5,\n",
    "    label=\"Incorrect\",\n",
    "    color='red')\n",
    "\n",
    "plt.xlabel(\"Flanker Response Time (s)\")\n",
    "plt.ylabel(\"Count\")\n",
    "plt.title(\"Correctness / RT Relation\")\n",
    "plt.legend(loc='upper right')"
   ]
  },
  {
   "cell_type": "code",
   "execution_count": 19,
   "metadata": {},
   "outputs": [
    {
     "data": {
      "text/plain": [
       "<matplotlib.collections.PathCollection at 0x7fee38aff890>"
      ]
     },
     "execution_count": 19,
     "metadata": {},
     "output_type": "execute_result"
    },
    {
     "data": {
      "image/png": "[encoded data removed]",
      "text/plain": [
       "<Figure size 864x576 with 1 Axes>"
      ]
     },
     "metadata": {
      "needs_background": "light"
     },
     "output_type": "display_data"
    }
   ],
   "source": [
    "plt.scatter(\n",
    "    [flank.meta['block'] for flank in dataset],\n",
    "    [flank.meta['response_time'] for flank in dataset]\n",
    ")"
   ]
  },
  {
   "cell_type": "code",
   "execution_count": 20,
   "metadata": {},
   "outputs": [
    {
     "data": {
      "text/plain": [
       "{'whiskers': [<matplotlib.lines.Line2D at 0x7fee38cd8390>,\n",
       "  <matplotlib.lines.Line2D at 0x7fee38cd8690>,\n",
       "  <matplotlib.lines.Line2D at 0x7fee38c66ad0>,\n",
       "  <matplotlib.lines.Line2D at 0x7fee38c66dd0>,\n",
       "  <matplotlib.lines.Line2D at 0x7fee38c7e1d0>,\n",
       "  <matplotlib.lines.Line2D at 0x7fee38c7e550>,\n",
       "  <matplotlib.lines.Line2D at 0x7fee38c8b950>,\n",
       "  <matplotlib.lines.Line2D at 0x7fee38c8bc90>,\n",
       "  <matplotlib.lines.Line2D at 0x7fee38c24110>,\n",
       "  <matplotlib.lines.Line2D at 0x7fee38c24410>,\n",
       "  <matplotlib.lines.Line2D at 0x7fee38c2e810>,\n",
       "  <matplotlib.lines.Line2D at 0x7fee38c2eb50>,\n",
       "  <matplotlib.lines.Line2D at 0x7fee38c39f10>,\n",
       "  <matplotlib.lines.Line2D at 0x7fee38c47290>,\n",
       "  <matplotlib.lines.Line2D at 0x7fee38c53650>,\n",
       "  <matplotlib.lines.Line2D at 0x7fee38c53990>,\n",
       "  <matplotlib.lines.Line2D at 0x7fee38bdfcd0>,\n",
       "  <matplotlib.lines.Line2D at 0x7fee38bec050>,\n",
       "  <matplotlib.lines.Line2D at 0x7fee38bfa390>,\n",
       "  <matplotlib.lines.Line2D at 0x7fee38bfa6d0>,\n",
       "  <matplotlib.lines.Line2D at 0x7fee38c07a90>,\n",
       "  <matplotlib.lines.Line2D at 0x7fee38c07dd0>,\n",
       "  <matplotlib.lines.Line2D at 0x7fee38b9c1d0>,\n",
       "  <matplotlib.lines.Line2D at 0x7fee38b9c510>,\n",
       "  <matplotlib.lines.Line2D at 0x7fee38bac8d0>,\n",
       "  <matplotlib.lines.Line2D at 0x7fee38bacc10>,\n",
       "  <matplotlib.lines.Line2D at 0x7fee38bc4050>,\n",
       "  <matplotlib.lines.Line2D at 0x7fee38bc4350>,\n",
       "  <matplotlib.lines.Line2D at 0x7fee38bd1610>,\n",
       "  <matplotlib.lines.Line2D at 0x7fee38bd1950>,\n",
       "  <matplotlib.lines.Line2D at 0x7fee38b5ed10>,\n",
       "  <matplotlib.lines.Line2D at 0x7fee38b6d090>,\n",
       "  <matplotlib.lines.Line2D at 0x7fee38b7a450>,\n",
       "  <matplotlib.lines.Line2D at 0x7fee38b7a790>,\n",
       "  <matplotlib.lines.Line2D at 0x7fee38b86b50>,\n",
       "  <matplotlib.lines.Line2D at 0x7fee38b86e90>,\n",
       "  <matplotlib.lines.Line2D at 0x7fee38ab8290>,\n",
       "  <matplotlib.lines.Line2D at 0x7fee38ab85d0>,\n",
       "  <matplotlib.lines.Line2D at 0x7fee38ac6990>,\n",
       "  <matplotlib.lines.Line2D at 0x7fee38ac6cd0>,\n",
       "  <matplotlib.lines.Line2D at 0x7fee38ae00d0>,\n",
       "  <matplotlib.lines.Line2D at 0x7fee38ae0410>],\n",
       " 'caps': [<matplotlib.lines.Line2D at 0x7fee38cd89d0>,\n",
       "  <matplotlib.lines.Line2D at 0x7fee38cd8d10>,\n",
       "  <matplotlib.lines.Line2D at 0x7fee38c70150>,\n",
       "  <matplotlib.lines.Line2D at 0x7fee38c70490>,\n",
       "  <matplotlib.lines.Line2D at 0x7fee38c7e890>,\n",
       "  <matplotlib.lines.Line2D at 0x7fee38c7ec10>,\n",
       "  <matplotlib.lines.Line2D at 0x7fee38c98050>,\n",
       "  <matplotlib.lines.Line2D at 0x7fee38c98350>,\n",
       "  <matplotlib.lines.Line2D at 0x7fee38c24750>,\n",
       "  <matplotlib.lines.Line2D at 0x7fee38c24a50>,\n",
       "  <matplotlib.lines.Line2D at 0x7fee38c2ee90>,\n",
       "  <matplotlib.lines.Line2D at 0x7fee38c39210>,\n",
       "  <matplotlib.lines.Line2D at 0x7fee38c475d0>,\n",
       "  <matplotlib.lines.Line2D at 0x7fee38c47910>,\n",
       "  <matplotlib.lines.Line2D at 0x7fee38c53cd0>,\n",
       "  <matplotlib.lines.Line2D at 0x7fee38bdf050>,\n",
       "  <matplotlib.lines.Line2D at 0x7fee38bec390>,\n",
       "  <matplotlib.lines.Line2D at 0x7fee38bec6d0>,\n",
       "  <matplotlib.lines.Line2D at 0x7fee38bfaa10>,\n",
       "  <matplotlib.lines.Line2D at 0x7fee38bfad50>,\n",
       "  <matplotlib.lines.Line2D at 0x7fee38c11150>,\n",
       "  <matplotlib.lines.Line2D at 0x7fee38c11490>,\n",
       "  <matplotlib.lines.Line2D at 0x7fee38b9c850>,\n",
       "  <matplotlib.lines.Line2D at 0x7fee38b9cb90>,\n",
       "  <matplotlib.lines.Line2D at 0x7fee38bacf50>,\n",
       "  <matplotlib.lines.Line2D at 0x7fee38bba2d0>,\n",
       "  <matplotlib.lines.Line2D at 0x7fee38bc4690>,\n",
       "  <matplotlib.lines.Line2D at 0x7fee38bc48d0>,\n",
       "  <matplotlib.lines.Line2D at 0x7fee38bd1c90>,\n",
       "  <matplotlib.lines.Line2D at 0x7fee38b5e050>,\n",
       "  <matplotlib.lines.Line2D at 0x7fee38b6d3d0>,\n",
       "  <matplotlib.lines.Line2D at 0x7fee38b6d710>,\n",
       "  <matplotlib.lines.Line2D at 0x7fee38b7aad0>,\n",
       "  <matplotlib.lines.Line2D at 0x7fee38b7ae10>,\n",
       "  <matplotlib.lines.Line2D at 0x7fee38b92210>,\n",
       "  <matplotlib.lines.Line2D at 0x7fee38b92550>,\n",
       "  <matplotlib.lines.Line2D at 0x7fee38ab8910>,\n",
       "  <matplotlib.lines.Line2D at 0x7fee38ab8c50>,\n",
       "  <matplotlib.lines.Line2D at 0x7fee38ad4050>,\n",
       "  <matplotlib.lines.Line2D at 0x7fee38ad4390>,\n",
       "  <matplotlib.lines.Line2D at 0x7fee38ae0750>,\n",
       "  <matplotlib.lines.Line2D at 0x7fee38ae0a90>],\n",
       " 'boxes': [<matplotlib.lines.Line2D at 0x7fee38cd8050>,\n",
       "  <matplotlib.lines.Line2D at 0x7fee38c66710>,\n",
       "  <matplotlib.lines.Line2D at 0x7fee38c70dd0>,\n",
       "  <matplotlib.lines.Line2D at 0x7fee38c8b590>,\n",
       "  <matplotlib.lines.Line2D at 0x7fee38c98cd0>,\n",
       "  <matplotlib.lines.Line2D at 0x7fee38c2e4d0>,\n",
       "  <matplotlib.lines.Line2D at 0x7fee38c39b50>,\n",
       "  <matplotlib.lines.Line2D at 0x7fee38c53290>,\n",
       "  <matplotlib.lines.Line2D at 0x7fee38bdf950>,\n",
       "  <matplotlib.lines.Line2D at 0x7fee38becf90>,\n",
       "  <matplotlib.lines.Line2D at 0x7fee38c076d0>,\n",
       "  <matplotlib.lines.Line2D at 0x7fee38c11dd0>,\n",
       "  <matplotlib.lines.Line2D at 0x7fee38bac510>,\n",
       "  <matplotlib.lines.Line2D at 0x7fee38bbac10>,\n",
       "  <matplotlib.lines.Line2D at 0x7fee38bd1250>,\n",
       "  <matplotlib.lines.Line2D at 0x7fee38b5e950>,\n",
       "  <matplotlib.lines.Line2D at 0x7fee38b7a090>,\n",
       "  <matplotlib.lines.Line2D at 0x7fee38b86790>,\n",
       "  <matplotlib.lines.Line2D at 0x7fee38b92e90>,\n",
       "  <matplotlib.lines.Line2D at 0x7fee38ac65d0>,\n",
       "  <matplotlib.lines.Line2D at 0x7fee38ad4cd0>],\n",
       " 'medians': [<matplotlib.lines.Line2D at 0x7fee38c660d0>,\n",
       "  <matplotlib.lines.Line2D at 0x7fee38c707d0>,\n",
       "  <matplotlib.lines.Line2D at 0x7fee38c7ef50>,\n",
       "  <matplotlib.lines.Line2D at 0x7fee38c98690>,\n",
       "  <matplotlib.lines.Line2D at 0x7fee38c24d90>,\n",
       "  <matplotlib.lines.Line2D at 0x7fee38c39550>,\n",
       "  <matplotlib.lines.Line2D at 0x7fee38c47c50>,\n",
       "  <matplotlib.lines.Line2D at 0x7fee38bdf390>,\n",
       "  <matplotlib.lines.Line2D at 0x7fee38beca10>,\n",
       "  <matplotlib.lines.Line2D at 0x7fee38c070d0>,\n",
       "  <matplotlib.lines.Line2D at 0x7fee38c117d0>,\n",
       "  <matplotlib.lines.Line2D at 0x7fee38b9ced0>,\n",
       "  <matplotlib.lines.Line2D at 0x7fee38bba610>,\n",
       "  <matplotlib.lines.Line2D at 0x7fee38bc4c10>,\n",
       "  <matplotlib.lines.Line2D at 0x7fee38b5e350>,\n",
       "  <matplotlib.lines.Line2D at 0x7fee38b6da50>,\n",
       "  <matplotlib.lines.Line2D at 0x7fee38b86190>,\n",
       "  <matplotlib.lines.Line2D at 0x7fee38b92890>,\n",
       "  <matplotlib.lines.Line2D at 0x7fee38ab8f90>,\n",
       "  <matplotlib.lines.Line2D at 0x7fee38ad46d0>,\n",
       "  <matplotlib.lines.Line2D at 0x7fee38ae0dd0>],\n",
       " 'fliers': [<matplotlib.lines.Line2D at 0x7fee38c66410>,\n",
       "  <matplotlib.lines.Line2D at 0x7fee38c70b10>,\n",
       "  <matplotlib.lines.Line2D at 0x7fee38c8b2d0>,\n",
       "  <matplotlib.lines.Line2D at 0x7fee38c989d0>,\n",
       "  <matplotlib.lines.Line2D at 0x7fee38c2e150>,\n",
       "  <matplotlib.lines.Line2D at 0x7fee38c39890>,\n",
       "  <matplotlib.lines.Line2D at 0x7fee38c47f90>,\n",
       "  <matplotlib.lines.Line2D at 0x7fee38bdf6d0>,\n",
       "  <matplotlib.lines.Line2D at 0x7fee38becd10>,\n",
       "  <matplotlib.lines.Line2D at 0x7fee38c07410>,\n",
       "  <matplotlib.lines.Line2D at 0x7fee38c11b10>,\n",
       "  <matplotlib.lines.Line2D at 0x7fee38bac250>,\n",
       "  <matplotlib.lines.Line2D at 0x7fee38bba950>,\n",
       "  <matplotlib.lines.Line2D at 0x7fee38bc4f50>,\n",
       "  <matplotlib.lines.Line2D at 0x7fee38b5e690>,\n",
       "  <matplotlib.lines.Line2D at 0x7fee38b6dd90>,\n",
       "  <matplotlib.lines.Line2D at 0x7fee38b864d0>,\n",
       "  <matplotlib.lines.Line2D at 0x7fee38b92bd0>,\n",
       "  <matplotlib.lines.Line2D at 0x7fee38ac6310>,\n",
       "  <matplotlib.lines.Line2D at 0x7fee38ad4a10>,\n",
       "  <matplotlib.lines.Line2D at 0x7fee38aec150>],\n",
       " 'means': []}"
      ]
     },
     "execution_count": 20,
     "metadata": {},
     "output_type": "execute_result"
    },
    {
     "data": {
      "image/png": "[encoded data removed]",
      "text/plain": [
       "<Figure size 864x576 with 1 Axes>"
      ]
     },
     "metadata": {
      "needs_background": "light"
     },
     "output_type": "display_data"
    }
   ],
   "source": [
    "fig, ax = plt.subplots()\n",
    "\n",
    "data = [\n",
    "    [flank.meta['response_time'] for flank in d_dataset[sub]] for sub in d_dataset.keys()\n",
    "]\n",
    "\n",
    "ax.boxplot(data)"
   ]
  },
  {
   "cell_type": "code",
   "execution_count": 21,
   "metadata": {},
   "outputs": [
    {
     "name": "stderr",
     "output_type": "stream",
     "text": [
      "/home/usr/schneiderc/.local/lib/python3.7/site-packages/numpy/linalg/linalg.py:2158: RuntimeWarning: invalid value encountered in det\n",
      "  r = _umath_linalg.det(a, signature=signature)\n"
     ]
    },
    {
     "data": {
      "text/plain": [
       "{'bodies': [<matplotlib.collections.PolyCollection at 0x7fee389c1a10>,\n",
       "  <matplotlib.collections.PolyCollection at 0x7fee389c1a90>,\n",
       "  <matplotlib.collections.PolyCollection at 0x7fee38d1fd50>,\n",
       "  <matplotlib.collections.PolyCollection at 0x7fee389f2f10>,\n",
       "  <matplotlib.collections.PolyCollection at 0x7fee3897bb50>,\n",
       "  <matplotlib.collections.PolyCollection at 0x7fee3897b810>,\n",
       "  <matplotlib.collections.PolyCollection at 0x7fee3897bbd0>,\n",
       "  <matplotlib.collections.PolyCollection at 0x7fee3898c950>,\n",
       "  <matplotlib.collections.PolyCollection at 0x7fee3898cd10>,\n",
       "  <matplotlib.collections.PolyCollection at 0x7fee3897bb10>,\n",
       "  <matplotlib.collections.PolyCollection at 0x7fee3898cd90>,\n",
       "  <matplotlib.collections.PolyCollection at 0x7fee3898c0d0>,\n",
       "  <matplotlib.collections.PolyCollection at 0x7fee3897bfd0>,\n",
       "  <matplotlib.collections.PolyCollection at 0x7fee38994e50>,\n",
       "  <matplotlib.collections.PolyCollection at 0x7fee38994b10>,\n",
       "  <matplotlib.collections.PolyCollection at 0x7fee38994ed0>,\n",
       "  <matplotlib.collections.PolyCollection at 0x7fee38994e10>,\n",
       "  <matplotlib.collections.PolyCollection at 0x7fee389a2d90>,\n",
       "  <matplotlib.collections.PolyCollection at 0x7fee389a2a50>,\n",
       "  <matplotlib.collections.PolyCollection at 0x7fee389a2e10>,\n",
       "  <matplotlib.collections.PolyCollection at 0x7fee389a2d50>],\n",
       " 'cmaxes': <matplotlib.collections.LineCollection at 0x7fee38d12f10>,\n",
       " 'cmins': <matplotlib.collections.LineCollection at 0x7fee3897bdd0>,\n",
       " 'cbars': <matplotlib.collections.LineCollection at 0x7fee389c1ad0>}"
      ]
     },
     "execution_count": 21,
     "metadata": {},
     "output_type": "execute_result"
    },
    {
     "data": {
      "image/png": "[encoded data removed]",
      "text/plain": [
       "<Figure size 864x576 with 1 Axes>"
      ]
     },
     "metadata": {
      "needs_background": "light"
     },
     "output_type": "display_data"
    }
   ],
   "source": [
    "\n",
    "plt.violinplot(\n",
    "    [[flank.meta['response_time'] for flank in d_dataset[sub]] for sub in d_dataset.keys()],\n",
    "    positions=[i for i, sub in enumerate(d_dataset.keys())]\n",
    ")"
   ]
  },
  {
   "cell_type": "code",
   "execution_count": null,
   "metadata": {},
   "outputs": [],
   "source": []
  },
  {
   "cell_type": "code",
   "execution_count": null,
   "metadata": {},
   "outputs": [],
   "source": []
  }
 ],
 "metadata": {
  "kernelspec": {
   "display_name": "MRIenv",
   "language": "python",
   "name": "mrienv"
  },
  "language_info": {
   "codemirror_mode": {
    "name": "ipython",
    "version": 3
   },
   "file_extension": ".py",
   "mimetype": "text/x-python",
   "name": "python",
   "nbconvert_exporter": "python",
   "pygments_lexer": "ipython3",
   "version": "3.7.5"
  }
 },
 "nbformat": 4,
 "nbformat_minor": 4
}
