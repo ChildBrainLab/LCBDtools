{
 "cells": [
  {
   "cell_type": "code",
   "execution_count": 1,
   "metadata": {},
   "outputs": [],
   "source": [
    "import sys\n",
    "import os, shutil\n",
    "from os.path import join\n",
    "from glob import glob\n",
    "from tqdm import tqdm\n",
    "import pandas as pd\n",
    "import numpy as np"
   ]
  },
  {
   "cell_type": "code",
   "execution_count": 2,
   "metadata": {},
   "outputs": [],
   "source": [
    "sys.path.append('../../')\n",
    "from LCBDtools.src import argParser"
   ]
  },
  {
   "cell_type": "code",
   "execution_count": 3,
   "metadata": {},
   "outputs": [
    {
     "data": {
      "text/plain": [
       "<module 'posixpath' from '/Users/jfr5989/opt/anaconda3/envs/nirs/lib/python3.7/posixpath.py'>"
      ]
     },
     "execution_count": 3,
     "metadata": {},
     "output_type": "execute_result"
    }
   ],
   "source": [
    "os.path"
   ]
  },
  {
   "cell_type": "code",
   "execution_count": 15,
   "metadata": {},
   "outputs": [],
   "source": [
    "# parameters\n",
    "\n",
    "#nirs_dir = \"data/NIRS_data_clean/\"\n",
    "nirs_dir = \"data/NIRS_data_clean_new files/\"\n",
    "psypy_dir = \"data/psychopy\"\n",
    "ex_subs = []\n",
    "participant_num_len = 4\n",
    "sample_rate = 7.81250\n",
    "n_blocks = 3"
   ]
  },
  {
   "cell_type": "code",
   "execution_count": 16,
   "metadata": {},
   "outputs": [],
   "source": [
    "nirs_session_dirs = [os.path.split(d)[0] for d in glob(\n",
    "    nirs_dir+\"**/*_probe*\",\n",
    "    recursive=True)]"
   ]
  },
  {
   "cell_type": "code",
   "execution_count": 17,
   "metadata": {},
   "outputs": [
    {
     "data": {
      "text/plain": [
       "['data/NIRS_data_clean_new files/1264/1264-P',\n",
       " 'data/NIRS_data_clean_new files/1264/1264-C',\n",
       " 'data/NIRS_data_clean_new files/1270/1270-P',\n",
       " 'data/NIRS_data_clean_new files/1270/1270-C',\n",
       " 'data/NIRS_data_clean_new files/1267/1267-P',\n",
       " 'data/NIRS_data_clean_new files/1267/1267-C',\n",
       " 'data/NIRS_data_clean_new files/1269/1269-C',\n",
       " 'data/NIRS_data_clean_new files/1269/1269-P',\n",
       " 'data/NIRS_data_clean_new files/1268/1268-C',\n",
       " 'data/NIRS_data_clean_new files/1268/1268-P']"
      ]
     },
     "execution_count": 17,
     "metadata": {},
     "output_type": "execute_result"
    }
   ],
   "source": [
    "nirs_session_dirs"
   ]
  },
  {
   "cell_type": "code",
   "execution_count": 18,
   "metadata": {},
   "outputs": [],
   "source": [
    "def timeconvert_psychopy_to_nirstar(\n",
    "    sample_rate,\n",
    "    NSstim1_t,\n",
    "    PSstim1_t,\n",
    "    PSevent_t):\n",
    "    \n",
    "    NSevent_t = NSstim1_t + (PSevent_t - PSstim1_t) * sample_rate\n",
    "    return NSevent_t"
   ]
  },
  {
   "cell_type": "code",
   "execution_count": 19,
   "metadata": {},
   "outputs": [
    {
     "name": "stderr",
     "output_type": "stream",
     "text": [
      "100%|███████████████████████████████████████████| 10/10 [00:00<00:00, 63.37it/s]"
     ]
    },
    {
     "name": "stdout",
     "output_type": "stream",
     "text": [
      "1264\n",
      "1264\n",
      "1270\n",
      "1270\n",
      "1267\n",
      "1267\n",
      "1269\n",
      "1269\n",
      "1268\n",
      "1268\n"
     ]
    },
    {
     "name": "stderr",
     "output_type": "stream",
     "text": [
      "\n"
     ]
    }
   ],
   "source": [
    "for ses in tqdm(nirs_session_dirs):\n",
    "    # should always work, even with multiple-runs. \n",
    "    # TODO remember that these exist, where 2 runs are collected\n",
    "    # for the same dyad of parent/child, for unknown reason. \n",
    "    # potentially check for truncated run while parsing this data in other\n",
    "    # mne processing software\n",
    "    \n",
    "    child_sub = ses.strip(nirs_dir).strip(\"/\")[:participant_num_len]\n",
    "    print(child_sub)\n",
    "    # looks like it's working!\n",
    "    \n",
    "    #if (\"1237\" in child_sub) or (\"1237\" in child_sub):\n",
    "     #   pass\n",
    "    #else:\n",
    "     #   continue\n",
    "    \n",
    "    # only do this if there's only 1 .evt file in study folder\n",
    "    og_evt = glob(ses+\"/*.evt\")\n",
    "    if len(og_evt) != 1:\n",
    "        print(\"Error: found\", len(og_evt), \"evt files for the given sub / visit.\")\n",
    "        print(\"Skipping:\", ses)\n",
    "        continue\n",
    "    else:\n",
    "        og_evt = og_evt[0]\n",
    "    \n",
    "    # open original evt\n",
    "    f = open(og_evt, 'r')\n",
    "    line1 = f.readline()\n",
    "    f.close()\n",
    "    \n",
    "    # first time marker is NIRS stim start 1\n",
    "    NSstim1_t = line1.split('\\t')[0]\n",
    "\n",
    "    \n",
    "    task_file = glob(join(psypy_dir, child_sub)+ \"/*.csv\")\n",
    "    \n",
    "    # only continue if we have exactly 1 task file found\n",
    "    if len(task_file) != 1:\n",
    "        print(\"Error: found\", len(task_file), \"task files for the given sub / visit.\")\n",
    "        continue\n",
    "    else:\n",
    "        task_file = task_file[0]\n",
    "      \n",
    "    # df of psychopy csv output\n",
    "    df = pd.read_csv(task_file)\n",
    "    \n",
    "    stims = []\n",
    "    \n",
    "    # iterate through any column that has \"intro_txt\" and \".started\"\n",
    "    block_i = 0\n",
    "    for col in df.columns:\n",
    "        \n",
    "        # if we're dealing with a legitimate block column\n",
    "        if (\"intro_txt\" in col) and (\".stopped\" in col):\n",
    "\n",
    "            # then also generate the name of the corresponding stop column\n",
    "            block_name_str = col.strip(\"intro_txt\").strip(\".stopped\")\n",
    "            \n",
    "            stopcol = \"intro_txt\"+block_name_str+\".started\"\n",
    "            #print(stopcol)\n",
    "            \n",
    "            \n",
    "            # store any non-NaN vals in the start and stop column (times)\n",
    "            starts = (df[~df[col].isnull()][col].astype(float) + 5).tolist()\n",
    "            stops = (df[~df[stopcol].isnull()][stopcol].astype(float)).tolist()\n",
    "            \n",
    "            if len(starts) != len(stops):\n",
    "                print(\"Unequal number of starts and stops. ses:\", ses, \"block_i\", block_i)\n",
    "                continue\n",
    "            \n",
    "            # if there are no starts already entered / outlines has length 1,\n",
    "            # then we know that the first start in our starts is the same as line1 trigger. \n",
    "            # meaning that is the reference point to which the time course of the psychopy\n",
    "            # file and the NIRS file will be aligned, again using the sample rate\n",
    "            # or, easily, if block_i == 1.\n",
    "            \n",
    "            # append to stims with tuples of (time, evt_stim_col)\n",
    "            for i in range(len(starts)):\n",
    "                stims.append((starts[i], block_i))\n",
    "                stims.append((stops[i], 7))\n",
    "            \n",
    "            # if we're in the first block, we know psychopy stim 1 now\n",
    "            if block_i == 0:\n",
    "                PSstim1_t = starts[0]\n",
    "                stims.pop(0)\n",
    "            \n",
    "            # convert using first NIRS stim and first Psychopy stim to align\n",
    "            converted_stims = []\n",
    "            for (time, val) in stims:\n",
    "                converted_stims.append((\n",
    "                    timeconvert_psychopy_to_nirstar(\n",
    "                        float(sample_rate),\n",
    "                        float(NSstim1_t),\n",
    "                        float(PSstim1_t),\n",
    "                        float(time)),\n",
    "                    val))\n",
    "            \n",
    "            block_i += 1\n",
    "        \n",
    "        # if we're not dealing with a legitimate column, we can just keep iterating\n",
    "        else:\n",
    "            continue\n",
    "\n",
    "    output_lines = [line1]\n",
    "    \n",
    "    for (stim_time, stim_col) in converted_stims:\n",
    "        # make bit format stims\n",
    "        evts = [0]*8\n",
    "        evts[stim_col]=1\n",
    "        \n",
    "        # and write these as lines in correct format for .evt\n",
    "        line = str(round(stim_time))\n",
    "        for evt_col in evts:\n",
    "            line += \"\\t\"\n",
    "            line += str(evt_col)\n",
    "        line += \"\\n\"\n",
    "            \n",
    "        output_lines.append(line)\n",
    "    \n",
    "    # move OG evt to _old.evt\n",
    "    shutil.move(\n",
    "        og_evt,\n",
    "        og_evt.replace(\".evt\", \"_old.evt\"))\n",
    "    \n",
    "    # write the lines as the new, properly named .evt\n",
    "    f = open(og_evt, 'w')\n",
    "    \n",
    "    for line in output_lines:\n",
    "        f.write(line)\n",
    "    \n",
    "    f.close()"
   ]
  }
 ],
 "metadata": {
  "kernelspec": {
   "display_name": "Python 3",
   "language": "python",
   "name": "python3"
  },
  "language_info": {
   "codemirror_mode": {
    "name": "ipython",
    "version": 3
   },
   "file_extension": ".py",
   "mimetype": "text/x-python",
   "name": "python",
   "nbconvert_exporter": "python",
   "pygments_lexer": "ipython3",
   "version": "3.6.9"
  }
 },
 "nbformat": 4,
 "nbformat_minor": 4
}
