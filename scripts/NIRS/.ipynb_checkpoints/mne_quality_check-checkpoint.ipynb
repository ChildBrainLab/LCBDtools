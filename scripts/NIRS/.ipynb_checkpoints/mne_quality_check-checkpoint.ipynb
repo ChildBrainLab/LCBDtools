{
 "cells": [
  {
   "cell_type": "code",
   "execution_count": 1,
   "metadata": {},
   "outputs": [],
   "source": [
    "# General dependencies\n",
    "import os, shutil\n",
    "from os.path import join\n",
    "from tqdm import tqdm\n",
    "import matplotlib.pyplot as plt\n",
    "import numpy as np\n",
    "import pandas as pd\n",
    "import seaborn as sns\n",
    "from copy import deepcopy\n",
    "from glob import glob\n",
    "\n",
    "import mne\n",
    "import mne_nirs"
   ]
  },
  {
   "cell_type": "code",
   "execution_count": 2,
   "metadata": {},
   "outputs": [],
   "source": [
    "plt.rcParams[\"figure.figsize\"] = (10, 6)"
   ]
  },
  {
   "cell_type": "code",
   "execution_count": 3,
   "metadata": {},
   "outputs": [],
   "source": [
    "# LCBD dependencies\n",
    "# add relative path to our toolbox\n",
    "import sys\n",
    "sys.path.append('../../..')\n",
    "from preprocessing.scripts import argParser\n",
    "from preprocessing.src import Plots"
   ]
  },
  {
   "cell_type": "code",
   "execution_count": 4,
   "metadata": {},
   "outputs": [],
   "source": [
    "# Some configuration variables\n",
    "study_dir = \"/data/perlman/moochie/analysis/P-CAT/NIRS_data_clean\"\n",
    "participant_num_len = 5 # default length of participant numbers\n",
    "ex_subs = [] # any subjects to not include in the dataset"
   ]
  },
  {
   "cell_type": "code",
   "execution_count": 5,
   "metadata": {},
   "outputs": [],
   "source": [
    "session_dirs = [d for d in glob(study_dir+\"/*/*/*fNIRS_DB-DOS\", recursive=True) \\\n",
    "    if os.path.basename(os.path.split(os.path.split(d)[1])[1]) not in ex_subs]\n",
    "\n",
    "subjects = list(set([os.path.basename(d)[:participant_num_len] for d in session_dirs]))"
   ]
  },
  {
   "cell_type": "code",
   "execution_count": null,
   "metadata": {},
   "outputs": [
    {
     "name": "stdout",
     "output_type": "stream",
     "text": [
      "Using pyvistaqt 3d backend.\n",
      "\n",
      "Skipping: /data/perlman/moochie/analysis/P-CAT/NIRS_data_clean/1104/1104_DB-DOS/1104-P_fNIRS_DB-DOS\n",
      "Skipping: /data/perlman/moochie/analysis/P-CAT/NIRS_data_clean/1104/1104_DB-DOS/1104-C_fNIRS_DB-DOS\n",
      "Skipping: /data/perlman/moochie/analysis/P-CAT/NIRS_data_clean/1109/1109_DB-DOS/1109-C_fNIRS_DB-DOS\n",
      "Skipping: /data/perlman/moochie/analysis/P-CAT/NIRS_data_clean/1103/1103_DB-DOS/1103-P_fNIRS_DB-DOS\n",
      "Skipping: /data/perlman/moochie/analysis/P-CAT/NIRS_data_clean/1103/1103_DB-DOS/1103-C_fNIRS_DB-DOS\n",
      "Skipping: /data/perlman/moochie/analysis/P-CAT/NIRS_data_clean/1112/1112_DB-DOS/1112-C_fNIRS_DB-DOS\n",
      "Skipping: /data/perlman/moochie/analysis/P-CAT/NIRS_data_clean/1112/1112_DB-DOS/1112-P_fNIRS_DB-DOS\n"
     ]
    }
   ],
   "source": [
    "mne.viz.set_3d_backend('pyvista')\n",
    "raw_intensities = []\n",
    "\n",
    "for ses in session_dirs:\n",
    "\n",
    "#     evts = glob(ses + \"/*.evt\")\n",
    "#     if len(evts) != 2:\n",
    "#         print(\"There should be 2 evt files. Skipping:\", os.path.basename(ses))\n",
    "#         continue\n",
    "    try:\n",
    "        raw_intensities.append(mne.io.read_raw_nirx(ses, verbose=False).load_data(verbose=False))\n",
    "    except:\n",
    "        print(\"Skipping:\", ses)\n",
    "#     raw_intensities[-1].resample(0.7) # downsample to 0.7 HZ to run faster\n",
    "    \n",
    "#     # replace raw_ints annotations with events from custom file. \n",
    "#     # read events from file\n",
    "#     events, event_dict = mne.read_events(join(ses, \"new_eve.txt\"))\n",
    "#     annot_from_events = mne.annotations_from_events(\n",
    "#         events=events,\n",
    "#         event_desc=event_dict,\n",
    "#         sfreq=raw_intensities[-1].info['sfreq'],\n",
    "#         orig_time=raw_intensities[-1].info['meas_date'])\n",
    "    \n",
    "#     raw_intensities[-1].set_annotations(annot_from_events)"
   ]
  },
  {
   "cell_type": "code",
   "execution_count": null,
   "metadata": {},
   "outputs": [],
   "source": [
    "raw_intensities[0]"
   ]
  },
  {
   "cell_type": "code",
   "execution_count": null,
   "metadata": {},
   "outputs": [],
   "source": [
    "len(raw_intensities[0])"
   ]
  },
  {
   "cell_type": "code",
   "execution_count": null,
   "metadata": {},
   "outputs": [],
   "source": [
    "raw_intensities[0].plot_sensors() # viz is screwed up lol"
   ]
  },
  {
   "cell_type": "code",
   "execution_count": null,
   "metadata": {},
   "outputs": [],
   "source": [
    "from mne_nirs.experimental_design import make_first_level_design_matrix\n",
    "from mne_nirs.statistics import run_glm\n",
    "from mne_nirs.channels import (\n",
    "    get_long_channels,\n",
    "    get_short_channels,\n",
    "    picks_pair_to_idx)\n",
    "\n",
    "from nilearn.plotting import plot_design_matrix"
   ]
  },
  {
   "cell_type": "markdown",
   "metadata": {},
   "source": [
    "# Preprocess NIRS Data"
   ]
  },
  {
   "cell_type": "code",
   "execution_count": null,
   "metadata": {},
   "outputs": [],
   "source": [
    "# convert to optical density and motion correct\n",
    "raw_ods = []\n",
    "for raw_ints in raw_intensities:\n",
    "    raw_od = mne.preprocessing.nirs.optical_density(raw_ints)\n",
    "    corrected_tddr = mne.preprocessing.nirs.temporal_derivative_distribution_repair(raw_od)\n",
    "    raw_haemo = mne.preprocessing.nirs.beer_lambert_law(corrected_tddr, ppf=6.)\n",
    "    \n",
    "    # we only have long channels, perhaps?\n",
    "    #short_chs = get_short_channels(raw_haemo)\n",
    "    long_chs = get_long_channels(raw_haemo)"
   ]
  },
  {
   "cell_type": "code",
   "execution_count": null,
   "metadata": {},
   "outputs": [],
   "source": [
    "len(raw_ints)"
   ]
  },
  {
   "cell_type": "code",
   "execution_count": null,
   "metadata": {},
   "outputs": [],
   "source": [
    "long_chs"
   ]
  },
  {
   "cell_type": "markdown",
   "metadata": {},
   "source": [
    "# Create design matrix"
   ]
  },
  {
   "cell_type": "code",
   "execution_count": 26,
   "metadata": {},
   "outputs": [],
   "source": [
    "# design_matrix = make_first_level_design_matrix(\n",
    "#     raw_haemo,\n",
    "#     hrf_model='spm',\n",
    "#     stim_dur=5.0,\n",
    "#     drift_order=3,\n",
    "#     drift_model='polynomial')"
   ]
  },
  {
   "cell_type": "code",
   "execution_count": null,
   "metadata": {},
   "outputs": [],
   "source": []
  }
 ],
 "metadata": {
  "kernelspec": {
   "display_name": "MRIenv",
   "language": "python",
   "name": "mrienv"
  },
  "language_info": {
   "codemirror_mode": {
    "name": "ipython",
    "version": 3
   },
   "file_extension": ".py",
   "mimetype": "text/x-python",
   "name": "python",
   "nbconvert_exporter": "python",
   "pygments_lexer": "ipython3",
   "version": "3.7.5"
  }
 },
 "nbformat": 4,
 "nbformat_minor": 4
}
