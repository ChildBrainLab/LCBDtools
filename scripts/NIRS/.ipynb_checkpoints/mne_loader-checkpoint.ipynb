{
 "cells": [
  {
   "cell_type": "code",
   "execution_count": 23,
   "metadata": {},
   "outputs": [],
   "source": [
    "# General dependencies\n",
    "import os, shutil\n",
    "from os.path import join\n",
    "from tqdm import tqdm\n",
    "import matplotlib.pyplot as plt\n",
    "import numpy as np\n",
    "import pandas as pd\n",
    "import seaborn as sns\n",
    "from copy import deepcopy\n",
    "from glob import glob\n",
    "\n",
    "import mne\n",
    "import mne_nirs"
   ]
  },
  {
   "cell_type": "code",
   "execution_count": 24,
   "metadata": {},
   "outputs": [],
   "source": [
    "plt.rcParams[\"figure.figsize\"] = (10, 6)"
   ]
  },
  {
   "cell_type": "code",
   "execution_count": 25,
   "metadata": {},
   "outputs": [],
   "source": [
    "# LCBD dependencies\n",
    "# add relative path to our toolbox\n",
    "import sys\n",
    "sys.path.append('../../..')\n",
    "from preprocessing.scripts import argParser\n",
    "from preprocessing.src import Plots"
   ]
  },
  {
   "cell_type": "code",
   "execution_count": 26,
   "metadata": {},
   "outputs": [],
   "source": [
    "# Some configuration variables\n",
    "study_dir = \"/data/perlman/moochie/analysis/CARE/NIRS_data_clean\"\n",
    "participant_num_len = 5 # default length of participant numbers\n",
    "ex_subs = [] # any subjects to not include in the dataset"
   ]
  },
  {
   "cell_type": "code",
   "execution_count": 27,
   "metadata": {},
   "outputs": [],
   "source": [
    "session_dirs = [d for d in glob(study_dir+\"/*/V*/*fNIRS\") \\\n",
    "    if os.path.basename(os.path.split(os.path.split(d)[1])[1]) not in ex_subs]\n",
    "\n",
    "subjects = list(set([os.path.basename(d)[:participant_num_len] for d in session_dirs]))"
   ]
  },
  {
   "cell_type": "code",
   "execution_count": 28,
   "metadata": {},
   "outputs": [
    {
     "name": "stdout",
     "output_type": "stream",
     "text": [
      "Loading /data/perlman/moochie/analysis/CARE/NIRS_data_clean/50502/V0/50502_V0_fNIRS\n",
      "Reading 0 ... 14350  =      0.000 ...  1836.800 secs...\n"
     ]
    }
   ],
   "source": [
    "mne.viz.set_3d_backend('pyvista')\n",
    "raw_intensities = []\n",
    "\n",
    "for ses in session_dirs[:1]:\n",
    "    \n",
    "    evts = glob(ses + \"/*.evt\")\n",
    "    if len(evts) != 2:\n",
    "        print(\"There should be 2 evt files. Skipping:\", os.path.basename(ses))\n",
    "        continue\n",
    "    \n",
    "    raw_intensities.append(mne.io.read_raw_nirx(ses).load_data())\n",
    "#     raw_intensities[-1].resample(0.7) # downsample to 0.7 HZ to run faster\n",
    "    \n",
    "#     # replace raw_ints annotations with events from custom file. \n",
    "#     # read events from file\n",
    "#     events, event_dict = mne.read_events(join(ses, \"new_eve.txt\"))\n",
    "#     annot_from_events = mne.annotations_from_events(\n",
    "#         events=events,\n",
    "#         event_desc=event_dict,\n",
    "#         sfreq=raw_intensities[-1].info['sfreq'],\n",
    "#         orig_time=raw_intensities[-1].info['meas_date'])\n",
    "    \n",
    "#     raw_intensities[-1].set_annotations(annot_from_events)"
   ]
  },
  {
   "cell_type": "code",
   "execution_count": 29,
   "metadata": {},
   "outputs": [
    {
     "data": {
      "text/html": [
       "<table class=\"table table-hover table-striped table-sm table-responsive small\">\n",
       "    <tr>\n",
       "        <th>Measurement date</th>\n",
       "        \n",
       "        <td>October 24, 2021  10:53:53 GMT</td>\n",
       "        \n",
       "    </tr>\n",
       "    <tr>\n",
       "        <th>Experimenter</th>\n",
       "        \n",
       "        <td>Unknown</td>\n",
       "        \n",
       "    </tr>\n",
       "        <th>Participant</th>\n",
       "        \n",
       "            \n",
       "            <td>5050</td>\n",
       "            \n",
       "        \n",
       "    </tr>\n",
       "    <tr>\n",
       "        <th>Digitized points</th>\n",
       "        \n",
       "        <td>0 points</td>\n",
       "        \n",
       "    </tr>\n",
       "    <tr>\n",
       "        <th>Good channels</th>\n",
       "        <td>20 fNIRS (CW amplitude)</td>\n",
       "    </tr>\n",
       "    <tr>\n",
       "        <th>Bad channels</th>\n",
       "        <td>None</td>\n",
       "    </tr>\n",
       "    <tr>\n",
       "        <th>EOG channels</th>\n",
       "        <td>Not available</td>\n",
       "    </tr>\n",
       "    <tr>\n",
       "        <th>ECG channels</th>\n",
       "        <td>Not available</td>\n",
       "    \n",
       "    <tr>\n",
       "        <th>Sampling frequency</th>\n",
       "        <td>7.81 Hz</td>\n",
       "    </tr>\n",
       "    \n",
       "    \n",
       "    <tr>\n",
       "        <th>Highpass</th>\n",
       "        <td>0.00 Hz</td>\n",
       "    </tr>\n",
       "    \n",
       "    \n",
       "    <tr>\n",
       "        <th>Lowpass</th>\n",
       "        <td>3.91 Hz</td>\n",
       "    </tr>\n",
       "    \n",
       "    \n",
       "    \n",
       "    <tr>\n",
       "        <th>Filenames</th>\n",
       "        <td>50502_V0_fNIRS</td>\n",
       "    </tr>\n",
       "    \n",
       "    <tr>\n",
       "        <th>Duration</th>\n",
       "        <td>00:30:36 (HH:MM:SS)</td>\n",
       "    </tr>\n",
       "</table>"
      ],
      "text/plain": [
       "<RawNIRX | 50502_V0_fNIRS, 20 x 14351 (1836.8 s), ~2.2 MB, data loaded>"
      ]
     },
     "execution_count": 29,
     "metadata": {},
     "output_type": "execute_result"
    }
   ],
   "source": [
    "raw_intensities[0]"
   ]
  },
  {
   "cell_type": "code",
   "execution_count": 30,
   "metadata": {},
   "outputs": [
    {
     "data": {
      "image/png": "[encoded data removed]",
      "text/plain": [
       "<Figure size 720x720 with 1 Axes>"
      ]
     },
     "metadata": {
      "needs_background": "light"
     },
     "output_type": "display_data"
    },
    {
     "data": {
      "image/png": "[encoded data removed]",
      "text/plain": [
       "<Figure size 720x720 with 1 Axes>"
      ]
     },
     "execution_count": 30,
     "metadata": {},
     "output_type": "execute_result"
    }
   ],
   "source": [
    "raw_intensities[0].plot_sensors() # viz is screwed up lol"
   ]
  },
  {
   "cell_type": "code",
   "execution_count": 47,
   "metadata": {},
   "outputs": [
    {
     "name": "stdout",
     "output_type": "stream",
     "text": [
      "Channel types::\tfnirs_cw_amplitude: 20\n"
     ]
    }
   ],
   "source": [
    "fig = mne.viz.create_3d_figure(size=(800, 600), bgcolor='white')\n",
    "\n",
    "fig = mne.viz.plot_alignment(\n",
    "    raw_intensities[0].info,\n",
    "    show_axes=True,\n",
    "    subject='fsaverage',\n",
    "    coord_frame='mri',\n",
    "    trans='fsaverage',\n",
    "    surfaces=['brain'],\n",
    "    fnirs=[\n",
    "        'channels',\n",
    "        'pairs',\n",
    "        'sources',\n",
    "        'detectors'],\n",
    "    subjects_dir=\"/usr/local/pkg/freesurfer/subjects\",\n",
    "    fig=fig)"
   ]
  },
  {
   "cell_type": "code",
   "execution_count": 50,
   "metadata": {},
   "outputs": [
    {
     "name": "stdout",
     "output_type": "stream",
     "text": [
      "Reading labels from parcellation...\n",
      "   read 35 labels from /usr/local/pkg/freesurfer/subjects/fsaverage/label/lh.aparc.annot\n",
      "   read 34 labels from /usr/local/pkg/freesurfer/subjects/fsaverage/label/rh.aparc.annot\n"
     ]
    }
   ],
   "source": [
    "b = mne.viz.Brain(\n",
    "    'fsaverage',\n",
    "    'both',\n",
    "    'pial',\n",
    "    subjects_dir=\"/usr/local/pkg/freesurfer/subjects\",\n",
    "    figure=fig,\n",
    "    units='m',\n",
    "    alpha=0.2,\n",
    "    cortex='low_contrast')\n",
    "\n",
    "labels = mne.read_labels_from_annot(\n",
    "    'fsaverage', \n",
    "    subjects_dir=\"/usr/local/pkg/freesurfer/subjects\")\n",
    "\n",
    "ROIs = [\n",
    "    'frontalpole-lh',\n",
    "    'frontalpole-rh',\n",
    "    'temporalpole-lh',\n",
    "    'temporalpole-rh'\n",
    "]\n",
    "\n",
    "colors = [\n",
    "    'green',\n",
    "    'blue',\n",
    "    'red',\n",
    "    'orange',\n",
    "    'yellow'\n",
    "]\n",
    "\n",
    "aud_labels = [label for label in labels if label.name in ROIs]\n",
    "for i, label in enumerate(aud_labels):\n",
    "    b.add_label(label, borders=False, color=colors[len(colors)%(i+1)])"
   ]
  },
  {
   "cell_type": "code",
   "execution_count": 51,
   "metadata": {},
   "outputs": [],
   "source": [
    "from mne_nirs.experimental_design import make_first_level_design_matrix\n",
    "from mne_nirs.statistics import run_glm\n",
    "from mne_nirs.channels import (\n",
    "    get_long_channels,\n",
    "    get_short_channels,\n",
    "    picks_pair_to_idx)\n",
    "\n",
    "from nilearn.plotting import plot_design_matrix"
   ]
  },
  {
   "cell_type": "markdown",
   "metadata": {},
   "source": [
    "# Clean up annotations before analysis\n",
    "\n",
    "Next we update the annotations by assigning names to each trigger ID. Then we crop the recording to the section containing our experimental conditions."
   ]
  },
  {
   "cell_type": "code",
   "execution_count": 75,
   "metadata": {},
   "outputs": [],
   "source": [
    "durations = {\n",
    "    'Block 1 Start': 120,\n",
    "    'Block 2 Start': 105,\n",
    "    'Block 3 Start': 120,\n",
    "    'Stop Signal': 1}"
   ]
  },
  {
   "cell_type": "code",
   "execution_count": 76,
   "metadata": {},
   "outputs": [
    {
     "name": "stdout",
     "output_type": "stream",
     "text": [
      "<RawNIRX | 50502_V0_fNIRS, 20 x 14351 (1836.8 s), ~2.2 MB, data loaded>\n",
      "<Annotations | 24 segments: Block 1 Start (4), Block 2 Start (4), Block 3 ...>\n"
     ]
    },
    {
     "ename": "ValueError",
     "evalue": "Invalid Annotation description(s) {'1.0', '2.0', '4.0', '128.0'} are not present in data",
     "output_type": "error",
     "traceback": [
      "\u001b[0;31m---------------------------------------------------------------------------\u001b[0m",
      "\u001b[0;31mValueError\u001b[0m                                Traceback (most recent call last)",
      "\u001b[0;32m<ipython-input-76-57cb5ffc67a9>\u001b[0m in \u001b[0;36m<module>\u001b[0;34m\u001b[0m\n\u001b[1;32m      7\u001b[0m         \u001b[0;34m'2.0'\u001b[0m\u001b[0;34m:\u001b[0m \u001b[0;34m'Block 2 Start'\u001b[0m\u001b[0;34m,\u001b[0m\u001b[0;34m\u001b[0m\u001b[0;34m\u001b[0m\u001b[0m\n\u001b[1;32m      8\u001b[0m         \u001b[0;34m'4.0'\u001b[0m\u001b[0;34m:\u001b[0m \u001b[0;34m'Block 3 Start'\u001b[0m\u001b[0;34m,\u001b[0m\u001b[0;34m\u001b[0m\u001b[0;34m\u001b[0m\u001b[0m\n\u001b[0;32m----> 9\u001b[0;31m         '128.0': 'Stop Signal'})\n\u001b[0m",
      "\u001b[0;32m</usr/local/lib/python3.7/dist-packages/decorator.py:decorator-gen-227>\u001b[0m in \u001b[0;36mrename\u001b[0;34m(self, mapping, verbose)\u001b[0m\n",
      "\u001b[0;32m~/.local/lib/python3.7/site-packages/mne/annotations.py\u001b[0m in \u001b[0;36mrename\u001b[0;34m(self, mapping, verbose)\u001b[0m\n\u001b[1;32m    661\u001b[0m         \u001b[0m_validate_type\u001b[0m\u001b[0;34m(\u001b[0m\u001b[0mmapping\u001b[0m\u001b[0;34m,\u001b[0m \u001b[0mdict\u001b[0m\u001b[0;34m)\u001b[0m\u001b[0;34m\u001b[0m\u001b[0;34m\u001b[0m\u001b[0m\n\u001b[1;32m    662\u001b[0m         _check_dict_keys(mapping, self.description, valid_key_source=\"data\",\n\u001b[0;32m--> 663\u001b[0;31m                          key_description=\"Annotation description(s)\")\n\u001b[0m\u001b[1;32m    664\u001b[0m \u001b[0;34m\u001b[0m\u001b[0m\n\u001b[1;32m    665\u001b[0m         \u001b[0;32mfor\u001b[0m \u001b[0mold\u001b[0m\u001b[0;34m,\u001b[0m \u001b[0mnew\u001b[0m \u001b[0;32min\u001b[0m \u001b[0mmapping\u001b[0m\u001b[0;34m.\u001b[0m\u001b[0mitems\u001b[0m\u001b[0;34m(\u001b[0m\u001b[0;34m)\u001b[0m\u001b[0;34m:\u001b[0m\u001b[0;34m\u001b[0m\u001b[0;34m\u001b[0m\u001b[0m\n",
      "\u001b[0;32m~/.local/lib/python3.7/site-packages/mne/utils/check.py\u001b[0m in \u001b[0;36m_check_dict_keys\u001b[0;34m(mapping, valid_keys, key_description, valid_key_source)\u001b[0m\n\u001b[1;32m    679\u001b[0m         msg = (f'Invalid {key_description} {missing} {_is} not present in '\n\u001b[1;32m    680\u001b[0m                f'{valid_key_source}')\n\u001b[0;32m--> 681\u001b[0;31m         \u001b[0;32mraise\u001b[0m \u001b[0mValueError\u001b[0m\u001b[0;34m(\u001b[0m\u001b[0mmsg\u001b[0m\u001b[0;34m)\u001b[0m\u001b[0;34m\u001b[0m\u001b[0;34m\u001b[0m\u001b[0m\n\u001b[0m\u001b[1;32m    682\u001b[0m \u001b[0;34m\u001b[0m\u001b[0m\n\u001b[1;32m    683\u001b[0m     \u001b[0;32mreturn\u001b[0m \u001b[0mmapping\u001b[0m\u001b[0;34m\u001b[0m\u001b[0;34m\u001b[0m\u001b[0m\n",
      "\u001b[0;31mValueError\u001b[0m: Invalid Annotation description(s) {'1.0', '2.0', '4.0', '128.0'} are not present in data"
     ]
    }
   ],
   "source": [
    "for raw_ints in raw_intensities:\n",
    "    print(raw_ints)\n",
    "    print(raw_ints.annotations)\n",
    "    \n",
    "    raw_ints.annotations.rename({\n",
    "        '1.0': 'Block 1 Start',\n",
    "        '2.0': 'Block 2 Start',\n",
    "        '4.0': 'Block 3 Start',\n",
    "        '128.0': 'Stop Signal'})"
   ]
  },
  {
   "cell_type": "code",
   "execution_count": null,
   "metadata": {},
   "outputs": [],
   "source": [
    "for raw_ints in raw_intensities:\n",
    "    raw_ints.annotations.set_durations(durations, verbose=True)"
   ]
  },
  {
   "cell_type": "code",
   "execution_count": 77,
   "metadata": {},
   "outputs": [
    {
     "data": {
      "image/png": "[encoded data removed]",
      "text/plain": [
       "<Figure size 720x432 with 1 Axes>"
      ]
     },
     "metadata": {
      "needs_background": "light"
     },
     "output_type": "display_data"
    }
   ],
   "source": [
    "for raw_ints in raw_intensities:\n",
    "    events, event_dict = mne.events_from_annotations(\n",
    "        raw_ints,\n",
    "        verbose=False)\n",
    "\n",
    "    mne.viz.plot_events(events, event_id=event_dict, sfreq=raw_ints.info['sfreq'])"
   ]
  },
  {
   "cell_type": "code",
   "execution_count": 78,
   "metadata": {},
   "outputs": [
    {
     "name": "stdout",
     "output_type": "stream",
     "text": [
      "{'Block 1 Start': 1, 'Block 2 Start': 2, 'Block 3 Start': 3, 'Stop Signal': 4}\n"
     ]
    }
   ],
   "source": [
    "print(event_dict)"
   ]
  },
  {
   "cell_type": "code",
   "execution_count": null,
   "metadata": {},
   "outputs": [],
   "source": [
    "def create_boxcar(raw, event_id=None, stim_dur=1):\n",
    "    \"\"\"\n",
    "    Generate boxcar representation of the experimental paradigm.\n",
    "\n",
    "    Parameters\n",
    "    ----------\n",
    "    raw : instance of Raw\n",
    "        Haemoglobin data.\n",
    "    event_id : as specified in MNE\n",
    "        Information about events.\n",
    "    stim_dur : Number\n",
    "        The length of your stimulus.\n",
    "\n",
    "    Returns\n",
    "    -------\n",
    "    s : array\n",
    "        Returns an array for each annotation label.\n",
    "    \"\"\"\n",
    "    from scipy import signal\n",
    "    \n",
    "    events, ids = mne.events_from_annotations(raw, event_id=event_id)\n",
    "    s = np.zeros((len(raw.times), len(ids)))\n",
    "    for idx, id in enumerate(ids):\n",
    "        bc = signal.boxcar(round(raw.info['sfreq'] * stim_dur[id]))\n",
    "        \n",
    "        id_idx = [e[2] == idx + 1 for e in events]\n",
    "        id_evt = events[id_idx]\n",
    "        event_samples = [e[0] for e in id_evt]\n",
    "        s[event_samples, idx] = 1.\n",
    "        s[:, idx] = np.convolve(s[:, idx], bc)[:len(raw.times)]\n",
    "    return s"
   ]
  },
  {
   "cell_type": "code",
   "execution_count": 71,
   "metadata": {},
   "outputs": [
    {
     "name": "stdout",
     "output_type": "stream",
     "text": [
      "Used Annotations descriptions: ['Block 1 Start', 'Block 2 Start', 'Block 3 Start', 'Stop Signal']\n"
     ]
    }
   ],
   "source": [
    "s = mne_nirs.experimental_design.create_boxcar(\n",
    "    raw_ints,\n",
    "    stim_dur = [120])"
   ]
  },
  {
   "cell_type": "code",
   "execution_count": 80,
   "metadata": {},
   "outputs": [
    {
     "name": "stdout",
     "output_type": "stream",
     "text": [
      "Used Annotations descriptions: ['Block 1 Start', 'Block 2 Start', 'Block 3 Start', 'Stop Signal']\n",
      "Used Annotations descriptions: ['Block 1 Start', 'Block 2 Start', 'Block 3 Start', 'Stop Signal']\n",
      "Used Annotations descriptions: ['Block 1 Start', 'Block 2 Start', 'Block 3 Start', 'Stop Signal']\n",
      "Used Annotations descriptions: ['Block 1 Start', 'Block 2 Start', 'Block 3 Start', 'Stop Signal']\n"
     ]
    },
    {
     "data": {
      "image/png": "[encoded data removed]",
      "text/plain": [
       "<Figure size 1080x432 with 1 Axes>"
      ]
     },
     "metadata": {
      "needs_background": "light"
     },
     "output_type": "display_data"
    }
   ],
   "source": [
    "for raw_ints in raw_intensities:\n",
    "#     s = mne_nirs.experimental_design.create_boxcar(\n",
    "#         raw_ints,\n",
    "#         stim_dur = 120)\n",
    "    \n",
    "    events, event_dict = mne.events_from_annotations(\n",
    "        raw_ints,\n",
    "        event_id=None,\n",
    "        verbose=False)\n",
    "    \n",
    "    s = np.zeros((len(raw_ints.times), len(event_dict)))\n",
    "    \n",
    "    for i, key in enumerate(event_dict):\n",
    "        s += mne_nirs.experimental_design.create_boxcar(\n",
    "            raw_ints,\n",
    "            stim_dur=durations[key])\n",
    "    \n",
    "    fig, axes = plt.subplots(nrows=1, ncols=1, figsize=(15, 6))\n",
    "    plt.plot(raw_ints.times, s, axes=axes)\n",
    "    plt.legend([\n",
    "        \"Block 1 Start\",\n",
    "        \"Block 2 Start\",\n",
    "        \"Block 3 Start\"],\n",
    "        loc=\"upper right\")\n",
    "    plt.xlabel(\"Time (s)\")\n",
    "    plt.ylabel(\"Stimulus\")\n",
    "    plt.title(\"raw_ints\")\n",
    "    plt.xlim(0, 1800)"
   ]
  },
  {
   "cell_type": "markdown",
   "metadata": {},
   "source": [
    "# Preprocess NIRS Data"
   ]
  },
  {
   "cell_type": "code",
   "execution_count": 35,
   "metadata": {},
   "outputs": [],
   "source": [
    "raw_ods = []\n",
    "for raw_ints in raw_intensities:\n",
    "    raw_od = mne.preprocessing.nirs.optical_density(raw_ints)\n",
    "    raw_haemo = mne.preprocessing.nirs.beer_lambert_law(raw_od)\n",
    "    \n",
    "    #short_chs = get_short_channels(raw_haemo)\n",
    "    long_chs = get_long_channels(raw_haemo)"
   ]
  },
  {
   "cell_type": "code",
   "execution_count": 36,
   "metadata": {},
   "outputs": [
    {
     "data": {
      "text/html": [
       "<table class=\"table table-hover table-striped table-sm table-responsive small\">\n",
       "    <tr>\n",
       "        <th>Measurement date</th>\n",
       "        \n",
       "        <td>November 12, 2021  15:26:23 GMT</td>\n",
       "        \n",
       "    </tr>\n",
       "    <tr>\n",
       "        <th>Experimenter</th>\n",
       "        \n",
       "        <td>Unknown</td>\n",
       "        \n",
       "    </tr>\n",
       "        <th>Participant</th>\n",
       "        \n",
       "            \n",
       "            <td>5077-1</td>\n",
       "            \n",
       "        \n",
       "    </tr>\n",
       "    <tr>\n",
       "        <th>Digitized points</th>\n",
       "        \n",
       "        <td>0 points</td>\n",
       "        \n",
       "    </tr>\n",
       "    <tr>\n",
       "        <th>Good channels</th>\n",
       "        <td>8 Oxyhemoglobin, 8 Deoxyhemoglobin</td>\n",
       "    </tr>\n",
       "    <tr>\n",
       "        <th>Bad channels</th>\n",
       "        <td>None</td>\n",
       "    </tr>\n",
       "    <tr>\n",
       "        <th>EOG channels</th>\n",
       "        <td>Not available</td>\n",
       "    </tr>\n",
       "    <tr>\n",
       "        <th>ECG channels</th>\n",
       "        <td>Not available</td>\n",
       "    \n",
       "    <tr>\n",
       "        <th>Sampling frequency</th>\n",
       "        <td>0.70 Hz</td>\n",
       "    </tr>\n",
       "    \n",
       "    \n",
       "    <tr>\n",
       "        <th>Highpass</th>\n",
       "        <td>0.00 Hz</td>\n",
       "    </tr>\n",
       "    \n",
       "    \n",
       "    <tr>\n",
       "        <th>Lowpass</th>\n",
       "        <td>0.35 Hz</td>\n",
       "    </tr>\n",
       "    \n",
       "    \n",
       "    \n",
       "    <tr>\n",
       "        <th>Filenames</th>\n",
       "        <td>50771_V0_fNIRS</td>\n",
       "    </tr>\n",
       "    \n",
       "    <tr>\n",
       "        <th>Duration</th>\n",
       "        <td>00:32:24 (HH:MM:SS)</td>\n",
       "    </tr>\n",
       "</table>"
      ],
      "text/plain": [
       "<RawNIRX | 50771_V0_fNIRS, 16 x 1362 (1944.3 s), ~197 kB, data loaded>"
      ]
     },
     "execution_count": 36,
     "metadata": {},
     "output_type": "execute_result"
    }
   ],
   "source": [
    "long_chs"
   ]
  },
  {
   "cell_type": "markdown",
   "metadata": {},
   "source": [
    "# Create design matrix"
   ]
  },
  {
   "cell_type": "code",
   "execution_count": 37,
   "metadata": {},
   "outputs": [
    {
     "ename": "ValueError",
     "evalue": "At least one regressor name can't be used as a column identifier: ['10']",
     "output_type": "error",
     "traceback": [
      "\u001b[0;31m---------------------------------------------------------------------------\u001b[0m",
      "\u001b[0;31mValueError\u001b[0m                                Traceback (most recent call last)",
      "\u001b[0;32m<ipython-input-37-a9b749ef4fc4>\u001b[0m in \u001b[0;36m<module>\u001b[0;34m\u001b[0m\n\u001b[1;32m      4\u001b[0m     \u001b[0mstim_dur\u001b[0m\u001b[0;34m=\u001b[0m\u001b[0;36m5.0\u001b[0m\u001b[0;34m,\u001b[0m\u001b[0;34m\u001b[0m\u001b[0;34m\u001b[0m\u001b[0m\n\u001b[1;32m      5\u001b[0m     \u001b[0mdrift_order\u001b[0m\u001b[0;34m=\u001b[0m\u001b[0;36m3\u001b[0m\u001b[0;34m,\u001b[0m\u001b[0;34m\u001b[0m\u001b[0;34m\u001b[0m\u001b[0m\n\u001b[0;32m----> 6\u001b[0;31m     drift_model='polynomial')\n\u001b[0m",
      "\u001b[0;32m~/.local/lib/python3.7/site-packages/mne_nirs/experimental_design/_experimental_design.py\u001b[0m in \u001b[0;36mmake_first_level_design_matrix\u001b[0;34m(raw, stim_dur, hrf_model, drift_model, high_pass, drift_order, fir_delays, add_regs, add_reg_names, min_onset, oversampling)\u001b[0m\n\u001b[1;32m    100\u001b[0m                                         \u001b[0moversampling\u001b[0m\u001b[0;34m=\u001b[0m\u001b[0moversampling\u001b[0m\u001b[0;34m,\u001b[0m\u001b[0;34m\u001b[0m\u001b[0;34m\u001b[0m\u001b[0m\n\u001b[1;32m    101\u001b[0m                                         \u001b[0madd_reg_names\u001b[0m\u001b[0;34m=\u001b[0m\u001b[0madd_reg_names\u001b[0m\u001b[0;34m,\u001b[0m\u001b[0;34m\u001b[0m\u001b[0;34m\u001b[0m\u001b[0m\n\u001b[0;32m--> 102\u001b[0;31m                                         fir_delays=fir_delays)\n\u001b[0m\u001b[1;32m    103\u001b[0m \u001b[0;34m\u001b[0m\u001b[0m\n\u001b[1;32m    104\u001b[0m     \u001b[0;32mreturn\u001b[0m \u001b[0mdm\u001b[0m\u001b[0;34m\u001b[0m\u001b[0;34m\u001b[0m\u001b[0m\n",
      "\u001b[0;32m~/.local/lib/python3.7/site-packages/nilearn/glm/first_level/design_matrix.py\u001b[0m in \u001b[0;36mmake_first_level_design_matrix\u001b[0;34m(frame_times, events, hrf_model, drift_model, high_pass, drift_order, fir_delays, add_regs, add_reg_names, min_onset, oversampling)\u001b[0m\n\u001b[1;32m    360\u001b[0m         matrix, names = _convolve_regressors(\n\u001b[1;32m    361\u001b[0m             \u001b[0mevents\u001b[0m\u001b[0;34m,\u001b[0m \u001b[0mhrf_model\u001b[0m\u001b[0;34m,\u001b[0m \u001b[0mframe_times\u001b[0m\u001b[0;34m,\u001b[0m \u001b[0mfir_delays\u001b[0m\u001b[0;34m,\u001b[0m \u001b[0mmin_onset\u001b[0m\u001b[0;34m,\u001b[0m\u001b[0;34m\u001b[0m\u001b[0;34m\u001b[0m\u001b[0m\n\u001b[0;32m--> 362\u001b[0;31m             oversampling)\n\u001b[0m\u001b[1;32m    363\u001b[0m \u001b[0;34m\u001b[0m\u001b[0m\n\u001b[1;32m    364\u001b[0m     \u001b[0;31m# step 2: additional regressors\u001b[0m\u001b[0;34m\u001b[0m\u001b[0;34m\u001b[0m\u001b[0;34m\u001b[0m\u001b[0m\n",
      "\u001b[0;32m~/.local/lib/python3.7/site-packages/nilearn/glm/first_level/design_matrix.py\u001b[0m in \u001b[0;36m_convolve_regressors\u001b[0;34m(events, hrf_model, frame_times, fir_delays, min_onset, oversampling)\u001b[0m\n\u001b[1;32m    235\u001b[0m             \u001b[0mexp_condition\u001b[0m\u001b[0;34m,\u001b[0m \u001b[0mhrf_model\u001b[0m\u001b[0;34m,\u001b[0m \u001b[0mframe_times\u001b[0m\u001b[0;34m,\u001b[0m \u001b[0mcon_id\u001b[0m\u001b[0;34m=\u001b[0m\u001b[0mcondition\u001b[0m\u001b[0;34m,\u001b[0m\u001b[0;34m\u001b[0m\u001b[0;34m\u001b[0m\u001b[0m\n\u001b[1;32m    236\u001b[0m             \u001b[0mfir_delays\u001b[0m\u001b[0;34m=\u001b[0m\u001b[0mfir_delays\u001b[0m\u001b[0;34m,\u001b[0m \u001b[0moversampling\u001b[0m\u001b[0;34m=\u001b[0m\u001b[0moversampling\u001b[0m\u001b[0;34m,\u001b[0m\u001b[0;34m\u001b[0m\u001b[0;34m\u001b[0m\u001b[0m\n\u001b[0;32m--> 237\u001b[0;31m             min_onset=min_onset)\n\u001b[0m\u001b[1;32m    238\u001b[0m \u001b[0;34m\u001b[0m\u001b[0m\n\u001b[1;32m    239\u001b[0m         \u001b[0mregressor_names\u001b[0m \u001b[0;34m+=\u001b[0m \u001b[0mnames\u001b[0m\u001b[0;34m\u001b[0m\u001b[0;34m\u001b[0m\u001b[0m\n",
      "\u001b[0;32m~/.local/lib/python3.7/site-packages/nilearn/glm/first_level/hemodynamic_models.py\u001b[0m in \u001b[0;36mcompute_regressor\u001b[0;34m(exp_condition, hrf_model, frame_times, con_id, oversampling, fir_delays, min_onset)\u001b[0m\n\u001b[1;32m    585\u001b[0m \u001b[0;34m\u001b[0m\u001b[0m\n\u001b[1;32m    586\u001b[0m     \u001b[0;31m# 6 generate regressor names\u001b[0m\u001b[0;34m\u001b[0m\u001b[0;34m\u001b[0m\u001b[0;34m\u001b[0m\u001b[0m\n\u001b[0;32m--> 587\u001b[0;31m     \u001b[0mreg_names\u001b[0m \u001b[0;34m=\u001b[0m \u001b[0m_regressor_names\u001b[0m\u001b[0;34m(\u001b[0m\u001b[0mcon_id\u001b[0m\u001b[0;34m,\u001b[0m \u001b[0mhrf_model\u001b[0m\u001b[0;34m,\u001b[0m \u001b[0mfir_delays\u001b[0m\u001b[0;34m=\u001b[0m\u001b[0mfir_delays\u001b[0m\u001b[0;34m)\u001b[0m\u001b[0;34m\u001b[0m\u001b[0;34m\u001b[0m\u001b[0m\n\u001b[0m\u001b[1;32m    588\u001b[0m     \u001b[0;32mreturn\u001b[0m \u001b[0mcomputed_regressors\u001b[0m\u001b[0;34m,\u001b[0m \u001b[0mreg_names\u001b[0m\u001b[0;34m\u001b[0m\u001b[0;34m\u001b[0m\u001b[0m\n",
      "\u001b[0;32m~/.local/lib/python3.7/site-packages/nilearn/glm/first_level/hemodynamic_models.py\u001b[0m in \u001b[0;36m_regressor_names\u001b[0;34m(con_name, hrf_model, fir_delays)\u001b[0m\n\u001b[1;32m    433\u001b[0m     \u001b[0;31m# Check that all names look like proper pandas.DataFrame column names\u001b[0m\u001b[0;34m\u001b[0m\u001b[0;34m\u001b[0m\u001b[0;34m\u001b[0m\u001b[0m\n\u001b[1;32m    434\u001b[0m     \u001b[0;32mif\u001b[0m \u001b[0;32mnot\u001b[0m \u001b[0mall\u001b[0m\u001b[0;34m(\u001b[0m\u001b[0;34m[\u001b[0m\u001b[0mname\u001b[0m\u001b[0;34m.\u001b[0m\u001b[0misidentifier\u001b[0m\u001b[0;34m(\u001b[0m\u001b[0;34m)\u001b[0m \u001b[0;32mfor\u001b[0m \u001b[0mname\u001b[0m \u001b[0;32min\u001b[0m \u001b[0mnames\u001b[0m\u001b[0;34m]\u001b[0m\u001b[0;34m)\u001b[0m\u001b[0;34m:\u001b[0m\u001b[0;34m\u001b[0m\u001b[0;34m\u001b[0m\u001b[0m\n\u001b[0;32m--> 435\u001b[0;31m         raise ValueError(\"At least one regressor name can't be used \"\n\u001b[0m\u001b[1;32m    436\u001b[0m                          f\"as a column identifier: {names}\")\n\u001b[1;32m    437\u001b[0m \u001b[0;34m\u001b[0m\u001b[0m\n",
      "\u001b[0;31mValueError\u001b[0m: At least one regressor name can't be used as a column identifier: ['10']"
     ]
    }
   ],
   "source": [
    "design_matrix = make_first_level_design_matrix(\n",
    "    raw_haemo,\n",
    "    hrf_model='spm',\n",
    "    stim_dur=5.0,\n",
    "    drift_order=3,\n",
    "    drift_model='polynomial')"
   ]
  },
  {
   "cell_type": "code",
   "execution_count": null,
   "metadata": {},
   "outputs": [],
   "source": []
  }
 ],
 "metadata": {
  "kernelspec": {
   "display_name": "MRIenv",
   "language": "python",
   "name": "mrienv"
  },
  "language_info": {
   "codemirror_mode": {
    "name": "ipython",
    "version": 3
   },
   "file_extension": ".py",
   "mimetype": "text/x-python",
   "name": "python",
   "nbconvert_exporter": "python",
   "pygments_lexer": "ipython3",
   "version": "3.7.5"
  }
 },
 "nbformat": 4,
 "nbformat_minor": 4
}
