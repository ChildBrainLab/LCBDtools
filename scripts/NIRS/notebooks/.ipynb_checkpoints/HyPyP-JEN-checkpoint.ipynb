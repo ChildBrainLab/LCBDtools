{
 "cells": [
  {
   "cell_type": "code",
   "execution_count": 1,
   "metadata": {},
   "outputs": [],
   "source": [
    "from platform import python_version"
   ]
  },
  {
   "cell_type": "code",
   "execution_count": 2,
   "metadata": {},
   "outputs": [
    {
     "data": {
      "text/plain": [
       "'3.8.10'"
      ]
     },
     "execution_count": 2,
     "metadata": {},
     "output_type": "execute_result"
    }
   ],
   "source": [
    "python_version()"
   ]
  },
  {
   "cell_type": "code",
   "execution_count": 3,
   "metadata": {},
   "outputs": [],
   "source": [
    "# Interactive plotting\n",
    "%matplotlib qt\n",
    "\n",
    "import numpy as np\n",
    "import mne\n",
    "import os\n",
    "from glob import glob"
   ]
  },
  {
   "cell_type": "code",
   "execution_count": 4,
   "metadata": {},
   "outputs": [],
   "source": [
    "import hypyp"
   ]
  },
  {
   "cell_type": "code",
   "execution_count": 5,
   "metadata": {},
   "outputs": [
    {
     "name": "stdout",
     "output_type": "stream",
     "text": [
      "0.4.0b4\n"
     ]
    }
   ],
   "source": [
    "print(hypyp.__version__)"
   ]
  },
  {
   "cell_type": "code",
   "execution_count": 6,
   "metadata": {},
   "outputs": [],
   "source": [
    "import mne"
   ]
  },
  {
   "cell_type": "code",
   "execution_count": 7,
   "metadata": {},
   "outputs": [
    {
     "name": "stdout",
     "output_type": "stream",
     "text": [
      "1.0.3\n"
     ]
    }
   ],
   "source": [
    "print(mne.__version__)"
   ]
  },
  {
   "cell_type": "code",
   "execution_count": 8,
   "metadata": {},
   "outputs": [],
   "source": [
    "from hypyp.fnirs_tools import load_fnirs\n",
    "from hypyp.fnirs_tools import make_fnirs_montage\n",
    "from hypyp.fnirs_tools import fnirs_epoch\n",
    "from hypyp.fnirs_tools import fnirs_montage_ui"
   ]
  },
  {
   "cell_type": "code",
   "execution_count": 27,
   "metadata": {},
   "outputs": [],
   "source": [
    "# Some configuration variables\n",
    "study_dir = \"/home/clayton/science/LCBD/data/JEN/NIRS_data_clean\"\n",
    "participant_num_len = 4 # default length of participant numbers\n",
    "ex_subs = [] # any subjects to not include in the dataset\n",
    "\n",
    "durations = {\n",
    "    'Block 1': 105,\n",
    "    'Block 2': 120}"
   ]
  },
  {
   "cell_type": "code",
   "execution_count": 14,
   "metadata": {},
   "outputs": [],
   "source": [
    "session_dirs = [d for d in glob(study_dir+\"/*/V1/*/*\") \\\n",
    "    if os.path.basename(os.path.split(os.path.split(d)[1])[1]) not in ex_subs]\n",
    "\n",
    "# subjects = list(set([os.path.basename(d)[:participant_num_len] for d in session_dirs]))"
   ]
  },
  {
   "cell_type": "code",
   "execution_count": 36,
   "metadata": {},
   "outputs": [
    {
     "name": "stdout",
     "output_type": "stream",
     "text": [
      "/home/clayton/science/LCBD/data/JEN/NIRS_data_clean/7043/V1/2020-03-12_001/Subject1\n",
      "/home/clayton/science/LCBD/data/JEN/NIRS_data_clean/7043/V1/2020-03-12_001/Subject2\n",
      "There should be 2 evt files. Skipping: Subject1\n",
      "/home/clayton/science/LCBD/data/JEN/NIRS_data_clean/7032/V1/2020-02-01_001/Subject1\n",
      "/home/clayton/science/LCBD/data/JEN/NIRS_data_clean/7032/V1/2020-02-01_001/Subject2\n",
      "Loading /home/clayton/science/LCBD/data/JEN/NIRS_data_clean/7032/V1/2020-02-01_001/Subject1\n",
      "Loading /home/clayton/science/LCBD/data/JEN/NIRS_data_clean/7032/V1/2020-02-01_001/Subject2\n",
      "Loading /home/clayton/science/LCBD/data/JEN/NIRS_data_clean/7032/V1/2020-02-01_001/Subject1\n",
      "Loading /home/clayton/science/LCBD/data/JEN/NIRS_data_clean/7032/V1/2020-02-01_001/Subject2\n",
      "[[ 219    0    1]\n",
      " [1273    0    1]\n",
      " [2328    0    1]\n",
      " [3383    0    1]\n",
      " [5547    0    2]\n",
      " [6602    0    2]\n",
      " [7656    0    2]\n",
      " [8711    0    2]]\n",
      "{1: [(219, 1039), (1273, 2093), (2328, 3148), (3383, 4203)], 2: [(5547, 6484), (6602, 7540), (7656, 8594), (8711, 9648)]}\n",
      "Used Annotations descriptions: ['1.0', '2.0']\n",
      "Not setting metadata\n",
      "8 matching events found\n",
      "No baseline correction applied\n",
      "0 projection items activated\n",
      "Loading data for 8 events and 6407 original time points ...\n"
     ]
    },
    {
     "ename": "ValueError",
     "evalue": "No data in this range",
     "output_type": "error",
     "traceback": [
      "\u001b[0;31m---------------------------------------------------------------------------\u001b[0m",
      "\u001b[0;31mValueError\u001b[0m                                Traceback (most recent call last)",
      "Input \u001b[0;32mIn [36]\u001b[0m, in \u001b[0;36m<cell line: 3>\u001b[0;34m()\u001b[0m\n\u001b[1;32m     51\u001b[0m \u001b[38;5;28;01mfor\u001b[39;00m epoch_type \u001b[38;5;129;01min\u001b[39;00m epoch_ts:\n\u001b[1;32m     52\u001b[0m     \u001b[38;5;28;01mfor\u001b[39;00m epoch_t \u001b[38;5;129;01min\u001b[39;00m epoch_ts[epoch_type]:\n\u001b[0;32m---> 53\u001b[0m         epoch1 \u001b[38;5;241m=\u001b[39m \u001b[43mfnirs_epoch\u001b[49m\u001b[43m(\u001b[49m\n\u001b[1;32m     54\u001b[0m \u001b[43m            \u001b[49m\u001b[43mfnirs_participant_1\u001b[49m\u001b[43m,\u001b[49m\n\u001b[1;32m     55\u001b[0m \u001b[43m            \u001b[49m\u001b[43mfnirs_participant_2\u001b[49m\u001b[43m,\u001b[49m\n\u001b[1;32m     56\u001b[0m \u001b[43m            \u001b[49m\u001b[43mtmin\u001b[49m\u001b[38;5;241;43m=\u001b[39;49m\u001b[43mepoch_t\u001b[49m\u001b[43m[\u001b[49m\u001b[38;5;241;43m0\u001b[39;49m\u001b[43m]\u001b[49m\u001b[43m,\u001b[49m\n\u001b[1;32m     57\u001b[0m \u001b[43m            \u001b[49m\u001b[43mtmax\u001b[49m\u001b[38;5;241;43m=\u001b[39;49m\u001b[43mepoch_t\u001b[49m\u001b[43m[\u001b[49m\u001b[38;5;241;43m1\u001b[39;49m\u001b[43m]\u001b[49m\u001b[43m,\u001b[49m\n\u001b[1;32m     58\u001b[0m \u001b[43m            \u001b[49m\u001b[43mbaseline\u001b[49m\u001b[38;5;241;43m=\u001b[39;49m\u001b[38;5;28;43;01mNone\u001b[39;49;00m\u001b[43m,\u001b[49m\n\u001b[1;32m     59\u001b[0m \u001b[43m            \u001b[49m\u001b[43mpreload\u001b[49m\u001b[38;5;241;43m=\u001b[39;49m\u001b[38;5;28;43;01mTrue\u001b[39;49;00m\u001b[43m,\u001b[49m\n\u001b[1;32m     60\u001b[0m \u001b[43m            \u001b[49m\u001b[43mevent_repeated\u001b[49m\u001b[38;5;241;43m=\u001b[39;49m\u001b[38;5;124;43m'\u001b[39;49m\u001b[38;5;124;43mmerge\u001b[39;49m\u001b[38;5;124;43m'\u001b[39;49m\u001b[43m)\u001b[49m[\u001b[38;5;241m0\u001b[39m]\n\u001b[1;32m     62\u001b[0m         epoch2 \u001b[38;5;241m=\u001b[39m fnirs_epoch(\n\u001b[1;32m     63\u001b[0m             fnirs_participant_1,\n\u001b[1;32m     64\u001b[0m             fnirs_participant_2,\n\u001b[0;32m   (...)\u001b[0m\n\u001b[1;32m     68\u001b[0m             preload\u001b[38;5;241m=\u001b[39m\u001b[38;5;28;01mTrue\u001b[39;00m,\n\u001b[1;32m     69\u001b[0m             event_repeated\u001b[38;5;241m=\u001b[39m\u001b[38;5;124m'\u001b[39m\u001b[38;5;124mmerge\u001b[39m\u001b[38;5;124m'\u001b[39m)[\u001b[38;5;241m1\u001b[39m]\n\u001b[1;32m     71\u001b[0m         epochs\u001b[38;5;241m.\u001b[39mappend(epoch1)\n",
      "File \u001b[0;32m~/science/LCBD/HyPyPenv/lib/python3.8/site-packages/hypyp/fnirs_tools.py:199\u001b[0m, in \u001b[0;36mfnirs_epoch\u001b[0;34m(fnirs_participant_1, fnirs_participant_2, tmin, tmax, baseline, preload, event_repeated)\u001b[0m\n\u001b[1;32m    197\u001b[0m events1 \u001b[38;5;241m=\u001b[39m event1[\u001b[38;5;241m0\u001b[39m]\n\u001b[1;32m    198\u001b[0m events1id \u001b[38;5;241m=\u001b[39m event1[\u001b[38;5;241m1\u001b[39m]\n\u001b[0;32m--> 199\u001b[0m fnirs_epo1 \u001b[38;5;241m=\u001b[39m \u001b[43mmne\u001b[49m\u001b[38;5;241;43m.\u001b[39;49m\u001b[43mEpochs\u001b[49m\u001b[43m(\u001b[49m\u001b[43mfnirs_raw_1\u001b[49m\u001b[43m,\u001b[49m\u001b[43m \u001b[49m\u001b[43mevents1\u001b[49m\u001b[43m,\u001b[49m\u001b[43m \u001b[49m\u001b[43mevents1id\u001b[49m\u001b[43m,\u001b[49m\u001b[43m \u001b[49m\u001b[43mtmin\u001b[49m\u001b[38;5;241;43m=\u001b[39;49m\u001b[43mtmin\u001b[49m\u001b[43m,\u001b[49m\u001b[43m \u001b[49m\u001b[43mtmax\u001b[49m\u001b[38;5;241;43m=\u001b[39;49m\u001b[43mtmax\u001b[49m\u001b[43m,\u001b[49m\n\u001b[1;32m    200\u001b[0m \u001b[43m                \u001b[49m\u001b[43mbaseline\u001b[49m\u001b[38;5;241;43m=\u001b[39;49m\u001b[43mbaseline\u001b[49m\u001b[43m,\u001b[49m\u001b[43m \u001b[49m\u001b[43mpreload\u001b[49m\u001b[38;5;241;43m=\u001b[39;49m\u001b[43mpreload\u001b[49m\u001b[43m,\u001b[49m\u001b[43m \u001b[49m\u001b[43mevent_repeated\u001b[49m\u001b[38;5;241;43m=\u001b[39;49m\u001b[43mevent_repeated\u001b[49m\u001b[43m)\u001b[49m\n\u001b[1;32m    202\u001b[0m fnirs_raw_2 \u001b[38;5;241m=\u001b[39m fnirs_participant_2\n\u001b[1;32m    203\u001b[0m event2 \u001b[38;5;241m=\u001b[39m mne\u001b[38;5;241m.\u001b[39mevents_from_annotations(fnirs_raw_2)\n",
      "File \u001b[0;32m<decorator-gen-255>:12\u001b[0m, in \u001b[0;36m__init__\u001b[0;34m(self, raw, events, event_id, tmin, tmax, baseline, picks, preload, reject, flat, proj, decim, reject_tmin, reject_tmax, detrend, on_missing, reject_by_annotation, metadata, event_repeated, verbose)\u001b[0m\n",
      "File \u001b[0;32m~/science/LCBD/HyPyPenv/lib/python3.8/site-packages/mne/epochs.py:2650\u001b[0m, in \u001b[0;36mEpochs.__init__\u001b[0;34m(self, raw, events, event_id, tmin, tmax, baseline, picks, preload, reject, flat, proj, decim, reject_tmin, reject_tmax, detrend, on_missing, reject_by_annotation, metadata, event_repeated, verbose)\u001b[0m\n\u001b[1;32m   2647\u001b[0m raw_sfreq \u001b[38;5;241m=\u001b[39m raw\u001b[38;5;241m.\u001b[39minfo[\u001b[38;5;124m'\u001b[39m\u001b[38;5;124msfreq\u001b[39m\u001b[38;5;124m'\u001b[39m]\n\u001b[1;32m   2649\u001b[0m \u001b[38;5;66;03m# call BaseEpochs constructor\u001b[39;00m\n\u001b[0;32m-> 2650\u001b[0m \u001b[38;5;28;43msuper\u001b[39;49m\u001b[43m(\u001b[49m\u001b[43mEpochs\u001b[49m\u001b[43m,\u001b[49m\u001b[43m \u001b[49m\u001b[38;5;28;43mself\u001b[39;49m\u001b[43m)\u001b[49m\u001b[38;5;241;43m.\u001b[39;49m\u001b[38;5;21;43m__init__\u001b[39;49m\u001b[43m(\u001b[49m\n\u001b[1;32m   2651\u001b[0m \u001b[43m    \u001b[49m\u001b[43minfo\u001b[49m\u001b[43m,\u001b[49m\u001b[43m \u001b[49m\u001b[38;5;28;43;01mNone\u001b[39;49;00m\u001b[43m,\u001b[49m\u001b[43m \u001b[49m\u001b[43mevents\u001b[49m\u001b[43m,\u001b[49m\u001b[43m \u001b[49m\u001b[43mevent_id\u001b[49m\u001b[43m,\u001b[49m\u001b[43m \u001b[49m\u001b[43mtmin\u001b[49m\u001b[43m,\u001b[49m\u001b[43m \u001b[49m\u001b[43mtmax\u001b[49m\u001b[43m,\u001b[49m\n\u001b[1;32m   2652\u001b[0m \u001b[43m    \u001b[49m\u001b[43mmetadata\u001b[49m\u001b[38;5;241;43m=\u001b[39;49m\u001b[43mmetadata\u001b[49m\u001b[43m,\u001b[49m\u001b[43m \u001b[49m\u001b[43mbaseline\u001b[49m\u001b[38;5;241;43m=\u001b[39;49m\u001b[43mbaseline\u001b[49m\u001b[43m,\u001b[49m\u001b[43m \u001b[49m\u001b[43mraw\u001b[49m\u001b[38;5;241;43m=\u001b[39;49m\u001b[43mraw\u001b[49m\u001b[43m,\u001b[49m\u001b[43m \u001b[49m\u001b[43mpicks\u001b[49m\u001b[38;5;241;43m=\u001b[39;49m\u001b[43mpicks\u001b[49m\u001b[43m,\u001b[49m\n\u001b[1;32m   2653\u001b[0m \u001b[43m    \u001b[49m\u001b[43mreject\u001b[49m\u001b[38;5;241;43m=\u001b[39;49m\u001b[43mreject\u001b[49m\u001b[43m,\u001b[49m\u001b[43m \u001b[49m\u001b[43mflat\u001b[49m\u001b[38;5;241;43m=\u001b[39;49m\u001b[43mflat\u001b[49m\u001b[43m,\u001b[49m\u001b[43m \u001b[49m\u001b[43mdecim\u001b[49m\u001b[38;5;241;43m=\u001b[39;49m\u001b[43mdecim\u001b[49m\u001b[43m,\u001b[49m\u001b[43m \u001b[49m\u001b[43mreject_tmin\u001b[49m\u001b[38;5;241;43m=\u001b[39;49m\u001b[43mreject_tmin\u001b[49m\u001b[43m,\u001b[49m\n\u001b[1;32m   2654\u001b[0m \u001b[43m    \u001b[49m\u001b[43mreject_tmax\u001b[49m\u001b[38;5;241;43m=\u001b[39;49m\u001b[43mreject_tmax\u001b[49m\u001b[43m,\u001b[49m\u001b[43m \u001b[49m\u001b[43mdetrend\u001b[49m\u001b[38;5;241;43m=\u001b[39;49m\u001b[43mdetrend\u001b[49m\u001b[43m,\u001b[49m\n\u001b[1;32m   2655\u001b[0m \u001b[43m    \u001b[49m\u001b[43mproj\u001b[49m\u001b[38;5;241;43m=\u001b[39;49m\u001b[43mproj\u001b[49m\u001b[43m,\u001b[49m\u001b[43m \u001b[49m\u001b[43mon_missing\u001b[49m\u001b[38;5;241;43m=\u001b[39;49m\u001b[43mon_missing\u001b[49m\u001b[43m,\u001b[49m\u001b[43m \u001b[49m\u001b[43mpreload_at_end\u001b[49m\u001b[38;5;241;43m=\u001b[39;49m\u001b[43mpreload\u001b[49m\u001b[43m,\u001b[49m\n\u001b[1;32m   2656\u001b[0m \u001b[43m    \u001b[49m\u001b[43mevent_repeated\u001b[49m\u001b[38;5;241;43m=\u001b[39;49m\u001b[43mevent_repeated\u001b[49m\u001b[43m,\u001b[49m\u001b[43m \u001b[49m\u001b[43mverbose\u001b[49m\u001b[38;5;241;43m=\u001b[39;49m\u001b[43mverbose\u001b[49m\u001b[43m,\u001b[49m\n\u001b[1;32m   2657\u001b[0m \u001b[43m    \u001b[49m\u001b[43mraw_sfreq\u001b[49m\u001b[38;5;241;43m=\u001b[39;49m\u001b[43mraw_sfreq\u001b[49m\u001b[43m,\u001b[49m\u001b[43m \u001b[49m\u001b[43mannotations\u001b[49m\u001b[38;5;241;43m=\u001b[39;49m\u001b[43mraw\u001b[49m\u001b[38;5;241;43m.\u001b[39;49m\u001b[43mannotations\u001b[49m\u001b[43m)\u001b[49m\n",
      "File \u001b[0;32m<decorator-gen-242>:12\u001b[0m, in \u001b[0;36m__init__\u001b[0;34m(self, info, data, events, event_id, tmin, tmax, baseline, raw, picks, reject, flat, decim, reject_tmin, reject_tmax, detrend, proj, on_missing, preload_at_end, selection, drop_log, filename, metadata, event_repeated, verbose, raw_sfreq, annotations)\u001b[0m\n",
      "File \u001b[0;32m~/science/LCBD/HyPyPenv/lib/python3.8/site-packages/mne/epochs.py:587\u001b[0m, in \u001b[0;36mBaseEpochs.__init__\u001b[0;34m(***failed resolving arguments***)\u001b[0m\n\u001b[1;32m    585\u001b[0m     \u001b[38;5;28;01massert\u001b[39;00m \u001b[38;5;28mself\u001b[39m\u001b[38;5;241m.\u001b[39m_data \u001b[38;5;129;01mis\u001b[39;00m \u001b[38;5;28;01mNone\u001b[39;00m\n\u001b[1;32m    586\u001b[0m     \u001b[38;5;28;01massert\u001b[39;00m \u001b[38;5;28mself\u001b[39m\u001b[38;5;241m.\u001b[39mpreload \u001b[38;5;129;01mis\u001b[39;00m \u001b[38;5;28;01mFalse\u001b[39;00m\n\u001b[0;32m--> 587\u001b[0m     \u001b[38;5;28;43mself\u001b[39;49m\u001b[38;5;241;43m.\u001b[39;49m\u001b[43mload_data\u001b[49m\u001b[43m(\u001b[49m\u001b[43m)\u001b[49m  \u001b[38;5;66;03m# this will do the projection\u001b[39;00m\n\u001b[1;32m    588\u001b[0m \u001b[38;5;28;01melif\u001b[39;00m proj \u001b[38;5;129;01mis\u001b[39;00m \u001b[38;5;28;01mTrue\u001b[39;00m \u001b[38;5;129;01mand\u001b[39;00m \u001b[38;5;28mself\u001b[39m\u001b[38;5;241m.\u001b[39m_projector \u001b[38;5;129;01mis\u001b[39;00m \u001b[38;5;129;01mnot\u001b[39;00m \u001b[38;5;28;01mNone\u001b[39;00m \u001b[38;5;129;01mand\u001b[39;00m data \u001b[38;5;129;01mis\u001b[39;00m \u001b[38;5;129;01mnot\u001b[39;00m \u001b[38;5;28;01mNone\u001b[39;00m:\n\u001b[1;32m    589\u001b[0m     \u001b[38;5;66;03m# let's make sure we project if data was provided and proj\u001b[39;00m\n\u001b[1;32m    590\u001b[0m     \u001b[38;5;66;03m# requested\u001b[39;00m\n\u001b[1;32m    591\u001b[0m     \u001b[38;5;66;03m# we could do this with np.einsum, but iteration should be\u001b[39;00m\n\u001b[1;32m    592\u001b[0m     \u001b[38;5;66;03m# more memory safe in most instances\u001b[39;00m\n\u001b[1;32m    593\u001b[0m     \u001b[38;5;28;01mfor\u001b[39;00m ii, epoch \u001b[38;5;129;01min\u001b[39;00m \u001b[38;5;28menumerate\u001b[39m(\u001b[38;5;28mself\u001b[39m\u001b[38;5;241m.\u001b[39m_data):\n",
      "File \u001b[0;32m~/science/LCBD/HyPyPenv/lib/python3.8/site-packages/mne/epochs.py:644\u001b[0m, in \u001b[0;36mBaseEpochs.load_data\u001b[0;34m(self)\u001b[0m\n\u001b[1;32m    642\u001b[0m \u001b[38;5;28;01mif\u001b[39;00m \u001b[38;5;28mself\u001b[39m\u001b[38;5;241m.\u001b[39mpreload:\n\u001b[1;32m    643\u001b[0m     \u001b[38;5;28;01mreturn\u001b[39;00m \u001b[38;5;28mself\u001b[39m\n\u001b[0;32m--> 644\u001b[0m \u001b[38;5;28mself\u001b[39m\u001b[38;5;241m.\u001b[39m_data \u001b[38;5;241m=\u001b[39m \u001b[38;5;28;43mself\u001b[39;49m\u001b[38;5;241;43m.\u001b[39;49m\u001b[43m_get_data\u001b[49m\u001b[43m(\u001b[49m\u001b[43m)\u001b[49m\n\u001b[1;32m    645\u001b[0m \u001b[38;5;28mself\u001b[39m\u001b[38;5;241m.\u001b[39mpreload \u001b[38;5;241m=\u001b[39m \u001b[38;5;28;01mTrue\u001b[39;00m\n\u001b[1;32m    646\u001b[0m \u001b[38;5;28mself\u001b[39m\u001b[38;5;241m.\u001b[39m_do_baseline \u001b[38;5;241m=\u001b[39m \u001b[38;5;28;01mFalse\u001b[39;00m\n",
      "File \u001b[0;32m<decorator-gen-249>:12\u001b[0m, in \u001b[0;36m_get_data\u001b[0;34m(self, out, picks, item, units, tmin, tmax, verbose)\u001b[0m\n",
      "File \u001b[0;32m~/science/LCBD/HyPyPenv/lib/python3.8/site-packages/mne/epochs.py:1485\u001b[0m, in \u001b[0;36mBaseEpochs._get_data\u001b[0;34m(self, out, picks, item, units, tmin, tmax, verbose)\u001b[0m\n\u001b[1;32m   1483\u001b[0m         epoch \u001b[38;5;241m=\u001b[39m \u001b[38;5;28mself\u001b[39m\u001b[38;5;241m.\u001b[39m_data[idx]\n\u001b[1;32m   1484\u001b[0m \u001b[38;5;28;01melse\u001b[39;00m:  \u001b[38;5;66;03m# from disk\u001b[39;00m\n\u001b[0;32m-> 1485\u001b[0m     epoch_noproj \u001b[38;5;241m=\u001b[39m \u001b[38;5;28;43mself\u001b[39;49m\u001b[38;5;241;43m.\u001b[39;49m\u001b[43m_get_epoch_from_raw\u001b[49m\u001b[43m(\u001b[49m\u001b[43midx\u001b[49m\u001b[43m)\u001b[49m\n\u001b[1;32m   1486\u001b[0m     epoch_noproj \u001b[38;5;241m=\u001b[39m \u001b[38;5;28mself\u001b[39m\u001b[38;5;241m.\u001b[39m_detrend_offset_decim(\n\u001b[1;32m   1487\u001b[0m         epoch_noproj, detrend_picks)\n\u001b[1;32m   1488\u001b[0m     epoch \u001b[38;5;241m=\u001b[39m \u001b[38;5;28mself\u001b[39m\u001b[38;5;241m.\u001b[39m_project_epoch(epoch_noproj)\n",
      "File \u001b[0;32m<decorator-gen-256>:12\u001b[0m, in \u001b[0;36m_get_epoch_from_raw\u001b[0;34m(self, idx, verbose)\u001b[0m\n",
      "File \u001b[0;32m~/science/LCBD/HyPyPenv/lib/python3.8/site-packages/mne/epochs.py:2698\u001b[0m, in \u001b[0;36mEpochs._get_epoch_from_raw\u001b[0;34m(self, idx, verbose)\u001b[0m\n\u001b[1;32m   2695\u001b[0m reject_stop \u001b[38;5;241m=\u001b[39m stop \u001b[38;5;241m-\u001b[39m diff\n\u001b[1;32m   2697\u001b[0m logger\u001b[38;5;241m.\u001b[39mdebug(\u001b[38;5;124m'\u001b[39m\u001b[38;5;124m    Getting epoch for \u001b[39m\u001b[38;5;132;01m%d\u001b[39;00m\u001b[38;5;124m-\u001b[39m\u001b[38;5;132;01m%d\u001b[39;00m\u001b[38;5;124m'\u001b[39m \u001b[38;5;241m%\u001b[39m (start, stop))\n\u001b[0;32m-> 2698\u001b[0m data \u001b[38;5;241m=\u001b[39m \u001b[38;5;28;43mself\u001b[39;49m\u001b[38;5;241;43m.\u001b[39;49m\u001b[43m_raw\u001b[49m\u001b[38;5;241;43m.\u001b[39;49m\u001b[43m_check_bad_segment\u001b[49m\u001b[43m(\u001b[49m\u001b[43mstart\u001b[49m\u001b[43m,\u001b[49m\u001b[43m \u001b[49m\u001b[43mstop\u001b[49m\u001b[43m,\u001b[49m\u001b[43m \u001b[49m\u001b[38;5;28;43mself\u001b[39;49m\u001b[38;5;241;43m.\u001b[39;49m\u001b[43mpicks\u001b[49m\u001b[43m,\u001b[49m\n\u001b[1;32m   2699\u001b[0m \u001b[43m                                    \u001b[49m\u001b[43mreject_start\u001b[49m\u001b[43m,\u001b[49m\u001b[43m \u001b[49m\u001b[43mreject_stop\u001b[49m\u001b[43m,\u001b[49m\n\u001b[1;32m   2700\u001b[0m \u001b[43m                                    \u001b[49m\u001b[38;5;28;43mself\u001b[39;49m\u001b[38;5;241;43m.\u001b[39;49m\u001b[43mreject_by_annotation\u001b[49m\u001b[43m)\u001b[49m\n\u001b[1;32m   2701\u001b[0m \u001b[38;5;28;01mreturn\u001b[39;00m data\n",
      "File \u001b[0;32m~/science/LCBD/HyPyPenv/lib/python3.8/site-packages/mne/io/base.py:534\u001b[0m, in \u001b[0;36mBaseRaw._check_bad_segment\u001b[0;34m(self, start, stop, picks, reject_start, reject_stop, reject_by_annotation)\u001b[0m\n\u001b[1;32m    532\u001b[0m         \u001b[38;5;28;01mif\u001b[39;00m descr\u001b[38;5;241m.\u001b[39mlower()\u001b[38;5;241m.\u001b[39mstartswith(\u001b[38;5;124m'\u001b[39m\u001b[38;5;124mbad\u001b[39m\u001b[38;5;124m'\u001b[39m):\n\u001b[1;32m    533\u001b[0m             \u001b[38;5;28;01mreturn\u001b[39;00m descr\n\u001b[0;32m--> 534\u001b[0m \u001b[38;5;28;01mreturn\u001b[39;00m \u001b[38;5;28;43mself\u001b[39;49m\u001b[38;5;241;43m.\u001b[39;49m\u001b[43m_getitem\u001b[49m\u001b[43m(\u001b[49m\u001b[43m(\u001b[49m\u001b[43mpicks\u001b[49m\u001b[43m,\u001b[49m\u001b[43m \u001b[49m\u001b[38;5;28;43mslice\u001b[39;49m\u001b[43m(\u001b[49m\u001b[43mstart\u001b[49m\u001b[43m,\u001b[49m\u001b[43m \u001b[49m\u001b[43mstop\u001b[49m\u001b[43m)\u001b[49m\u001b[43m)\u001b[49m\u001b[43m,\u001b[49m\u001b[43m \u001b[49m\u001b[43mreturn_times\u001b[49m\u001b[38;5;241;43m=\u001b[39;49m\u001b[38;5;28;43;01mFalse\u001b[39;49;00m\u001b[43m)\u001b[49m\n",
      "File \u001b[0;32m~/science/LCBD/HyPyPenv/lib/python3.8/site-packages/mne/io/base.py:816\u001b[0m, in \u001b[0;36mBaseRaw._getitem\u001b[0;34m(self, item, return_times)\u001b[0m\n\u001b[1;32m    814\u001b[0m     data \u001b[38;5;241m=\u001b[39m \u001b[38;5;28mself\u001b[39m\u001b[38;5;241m.\u001b[39m_data[sel, start:stop]\n\u001b[1;32m    815\u001b[0m \u001b[38;5;28;01melse\u001b[39;00m:\n\u001b[0;32m--> 816\u001b[0m     data \u001b[38;5;241m=\u001b[39m \u001b[38;5;28;43mself\u001b[39;49m\u001b[38;5;241;43m.\u001b[39;49m\u001b[43m_read_segment\u001b[49m\u001b[43m(\u001b[49m\u001b[43mstart\u001b[49m\u001b[38;5;241;43m=\u001b[39;49m\u001b[43mstart\u001b[49m\u001b[43m,\u001b[49m\u001b[43m \u001b[49m\u001b[43mstop\u001b[49m\u001b[38;5;241;43m=\u001b[39;49m\u001b[43mstop\u001b[49m\u001b[43m,\u001b[49m\u001b[43m \u001b[49m\u001b[43msel\u001b[49m\u001b[38;5;241;43m=\u001b[39;49m\u001b[43msel\u001b[49m\u001b[43m,\u001b[49m\n\u001b[1;32m    817\u001b[0m \u001b[43m                              \u001b[49m\u001b[43mprojector\u001b[49m\u001b[38;5;241;43m=\u001b[39;49m\u001b[38;5;28;43mself\u001b[39;49m\u001b[38;5;241;43m.\u001b[39;49m\u001b[43m_projector\u001b[49m\u001b[43m)\u001b[49m\n\u001b[1;32m    819\u001b[0m \u001b[38;5;28;01mif\u001b[39;00m return_times:\n\u001b[1;32m    820\u001b[0m     \u001b[38;5;66;03m# Rather than compute the entire thing just compute the subset\u001b[39;00m\n\u001b[1;32m    821\u001b[0m     \u001b[38;5;66;03m# times = self.times[start:stop]\u001b[39;00m\n\u001b[1;32m    822\u001b[0m     \u001b[38;5;66;03m# stop can be None here so don't use it directly\u001b[39;00m\n\u001b[1;32m    823\u001b[0m     times \u001b[38;5;241m=\u001b[39m np\u001b[38;5;241m.\u001b[39marange(start, start \u001b[38;5;241m+\u001b[39m data\u001b[38;5;241m.\u001b[39mshape[\u001b[38;5;241m1\u001b[39m], dtype\u001b[38;5;241m=\u001b[39m\u001b[38;5;28mfloat\u001b[39m)\n",
      "File \u001b[0;32m<decorator-gen-205>:12\u001b[0m, in \u001b[0;36m_read_segment\u001b[0;34m(self, start, stop, sel, data_buffer, projector, verbose)\u001b[0m\n",
      "File \u001b[0;32m~/science/LCBD/HyPyPenv/lib/python3.8/site-packages/mne/io/base.py:376\u001b[0m, in \u001b[0;36mBaseRaw._read_segment\u001b[0;34m(self, start, stop, sel, data_buffer, projector, verbose)\u001b[0m\n\u001b[1;32m    373\u001b[0m stop \u001b[38;5;241m=\u001b[39m \u001b[38;5;28mself\u001b[39m\u001b[38;5;241m.\u001b[39mn_times \u001b[38;5;28;01mif\u001b[39;00m stop \u001b[38;5;129;01mis\u001b[39;00m \u001b[38;5;28;01mNone\u001b[39;00m \u001b[38;5;28;01melse\u001b[39;00m \u001b[38;5;28mmin\u001b[39m([\u001b[38;5;28mint\u001b[39m(stop), \u001b[38;5;28mself\u001b[39m\u001b[38;5;241m.\u001b[39mn_times])\n\u001b[1;32m    375\u001b[0m \u001b[38;5;28;01mif\u001b[39;00m start \u001b[38;5;241m>\u001b[39m\u001b[38;5;241m=\u001b[39m stop:\n\u001b[0;32m--> 376\u001b[0m     \u001b[38;5;28;01mraise\u001b[39;00m \u001b[38;5;167;01mValueError\u001b[39;00m(\u001b[38;5;124m'\u001b[39m\u001b[38;5;124mNo data in this range\u001b[39m\u001b[38;5;124m'\u001b[39m)\n\u001b[1;32m    378\u001b[0m \u001b[38;5;66;03m#  Initialize the data and calibration vector\u001b[39;00m\n\u001b[1;32m    379\u001b[0m \u001b[38;5;28;01mif\u001b[39;00m sel \u001b[38;5;129;01mis\u001b[39;00m \u001b[38;5;28;01mNone\u001b[39;00m:\n",
      "\u001b[0;31mValueError\u001b[0m: No data in this range"
     ]
    }
   ],
   "source": [
    "scans = []\n",
    "\n",
    "for dyad_dir in list(set([os.path.split(ses)[0] for ses in session_dirs])):\n",
    "#     try:\n",
    "    sub1 = os.path.join(dyad_dir, \"Subject1\")\n",
    "    sub2 = os.path.join(dyad_dir, \"Subject2\")\n",
    "\n",
    "    print(sub1)\n",
    "    print(sub2)\n",
    "\n",
    "    evts = glob(sub1 + \"/*.evt\")\n",
    "    if len(evts) != 2:\n",
    "        print(\"There should be 2 evt files. Skipping:\", os.path.basename(sub1))\n",
    "        continue\n",
    "\n",
    "    fnirs_participant_1 = load_fnirs(sub1, sub2, attr=None, preload=False, verbose=None)[0]\n",
    "    fnirs_participant_2 = load_fnirs(sub1, sub2, attr=None, preload=False, verbose=None)[1]\n",
    "\n",
    "    scans.append(fnirs_participant_1)\n",
    "    scans.append(fnirs_participant_2)\n",
    "\n",
    "    # need to read from events dictionaries to \n",
    "    # read times as appropriate epochs\n",
    "    # per event type\n",
    "    # and making baseline epochs for betweens NOPE\n",
    "    events, event_dict = mne.events_from_annotations(\n",
    "        fnirs_participant_1,\n",
    "        verbose=False)\n",
    "\n",
    "    epoch_ts = {}\n",
    "\n",
    "    print(events)\n",
    "\n",
    "    sfreq = fnirs_participant_1.info['sfreq']\n",
    "\n",
    "    for event_type in list(set(event_dict.values())):\n",
    "        epoch_ts[event_type] = []\n",
    "    \n",
    "    for event in events:\n",
    "        epoch_ts[event[2]].append((\n",
    "            round(event[0] / sfreq),\n",
    "            round(event[0]+durations['Block {}'.format(event[2])])))\n",
    "\n",
    "    print(epoch_ts)\n",
    "    \n",
    "    epochs = []\n",
    "\n",
    "#     location = make_fnirs_montage(mne_standard = 'artinis-octamon')\n",
    "\n",
    "    # for each of those epoch windows, make an MNE epoch\n",
    "    for epoch_type in epoch_ts:\n",
    "        for epoch_t in epoch_ts[epoch_type]:\n",
    "            epoch1 = fnirs_epoch(\n",
    "                fnirs_participant_1,\n",
    "                fnirs_participant_2,\n",
    "                tmin=epoch_t[0],\n",
    "                tmax=epoch_t[1],\n",
    "                baseline=None,\n",
    "                preload=True,\n",
    "                event_repeated='merge')[0]\n",
    "\n",
    "            epoch2 = fnirs_epoch(\n",
    "                fnirs_participant_1,\n",
    "                fnirs_participant_2,\n",
    "                tmin=epoch_t[0],\n",
    "                tmax=epoch_t[1],\n",
    "                baseline=None,\n",
    "                preload=True,\n",
    "                event_repeated='merge')[1]\n",
    "\n",
    "            epochs.append(epoch1)\n",
    "            epochs.append(epoch2)\n",
    "\n",
    "    #         epoch1.set_montage(location)\n",
    "    #         epoch2.set_montage(location)\n",
    "\n",
    "            epoch1.plot_sensors(show_names=True)\n",
    "            epoch2.plot_sensors(show_names=True)\n",
    "\n",
    "            epoch1.plot()\n",
    "            epoch2.plot()\n",
    "\n",
    "#     except:\n",
    "#         print(\"Not both subject dirs available:\", dyad_dir)\n",
    "#         continue"
   ]
  },
  {
   "cell_type": "code",
   "execution_count": 21,
   "metadata": {},
   "outputs": [
    {
     "data": {
      "text/plain": [
       "32"
      ]
     },
     "execution_count": 21,
     "metadata": {},
     "output_type": "execute_result"
    }
   ],
   "source": [
    "len(scans)"
   ]
  },
  {
   "cell_type": "code",
   "execution_count": null,
   "metadata": {},
   "outputs": [],
   "source": [
    "# #Sources ' labels: S#\n",
    "# source_labels = ['S1','S2','S3','S4]\n",
    "# #Sources ' labels: D#\n",
    "# detector_labels = ['D1','D2','D3','D4','D5','D6','D7','D8']\n",
    "# #directory of the probeInfo.mat file\n",
    "# prob_mat_file = '../data/FNIRS/MCARE_01_probeInfo.mat'\n",
    "# #3D Coordination of the tip of the nose: [x, y, z] in mm\n",
    "# Nz_coord = [12.62, 17.33, 16.74]\n",
    "# #3D Coordination of the right preauricular: [x, y, z] in mm\n",
    "# RPA = [21.0121020904262, 15.9632489747085, 17.2796094659563]\n",
    "# #3D Coordination of the left preauricular: [x, y, z] in mm\n",
    "# LPA = [4.55522116441745, 14.6744377188919, 18.3544292678269]\n",
    "# #Head size in mm\n",
    "# head_size = 0.16\n",
    "\n",
    "# location = make_fnirs_montage(source_labels, detector_labels, prob_mat_file,\n",
    "#                               Nz_coord, RPA, LPA, head_size)"
   ]
  }
 ],
 "metadata": {
  "kernelspec": {
   "display_name": "HyPyPenv",
   "language": "python",
   "name": "hypypenv"
  },
  "language_info": {
   "codemirror_mode": {
    "name": "ipython",
    "version": 3
   },
   "file_extension": ".py",
   "mimetype": "text/x-python",
   "name": "python",
   "nbconvert_exporter": "python",
   "pygments_lexer": "ipython3",
   "version": "3.8.10"
  }
 },
 "nbformat": 4,
 "nbformat_minor": 4
}
