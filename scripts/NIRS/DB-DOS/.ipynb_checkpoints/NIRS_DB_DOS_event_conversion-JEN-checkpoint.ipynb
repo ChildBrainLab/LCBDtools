{
 "cells": [
  {
   "cell_type": "code",
   "execution_count": 23,
   "metadata": {},
   "outputs": [],
   "source": [
    "import sys\n",
    "import os, shutil\n",
    "from os.path import join\n",
    "from glob import glob\n",
    "from tqdm import tqdm\n",
    "import pandas as pd\n",
    "import numpy as np"
   ]
  },
  {
   "cell_type": "code",
   "execution_count": 24,
   "metadata": {},
   "outputs": [],
   "source": [
    "sys.path.append('../../../..')\n",
    "from LCBDtools.scripts import argParser"
   ]
  },
  {
   "cell_type": "code",
   "execution_count": 25,
   "metadata": {},
   "outputs": [],
   "source": [
    "# parameters\n",
    "\n",
    "nirs_dir = \"/data/perlman/moochie/analysis/Neurophotonics/JEN/NIRS_data_clean/\"\n",
    "# psypy_dir = \"/data/perlman/moochie/study_data/JEN/task_data/DB_DOS/\"\n",
    "ex_subs = []\n",
    "participant_num_len = 4\n",
    "sample_rate = 7.81250\n",
    "n_blocks = 2"
   ]
  },
  {
   "cell_type": "code",
   "execution_count": 26,
   "metadata": {},
   "outputs": [],
   "source": [
    "nirs_session_dirs = [os.path.split(d)[0] for d in glob(\n",
    "    nirs_dir+\"**/*_probeInfo.mat\",\n",
    "    recursive=True) \\\n",
    "    if d.strip(nirs_dir).strip(\"/\")[:participant_num_len] not in ex_subs]"
   ]
  },
  {
   "cell_type": "code",
   "execution_count": 27,
   "metadata": {},
   "outputs": [],
   "source": [
    "nirs_session_dirs = [ses for ses in nirs_session_dirs if \"V1\" in ses]"
   ]
  },
  {
   "cell_type": "code",
   "execution_count": 28,
   "metadata": {},
   "outputs": [
    {
     "name": "stdout",
     "output_type": "stream",
     "text": [
      "/data/perlman/moochie/analysis/Neurophotonics/JEN/NIRS_data_clean/7024/V1/2019-12-11_003/Subject1\n"
     ]
    }
   ],
   "source": [
    "print(nirs_session_dirs[0])"
   ]
  },
  {
   "cell_type": "code",
   "execution_count": 31,
   "metadata": {},
   "outputs": [],
   "source": [
    "start_keys = {\n",
    "#     '7021 V1': (),\n",
    "    '7031 V1': (52, 684),\n",
    "    '7033 V1': (17, 656),\n",
    "#     '7017 V1': (),\n",
    "    '7022 V1': (25, 650),\n",
    "#     '7023 V1': (42, 38),\n",
    "    '7024 V1': (25, 637),\n",
    "    '7025 V1': (23, 722),\n",
    "    '7026 V1': (33, 684),\n",
    "    '7027 V1': (115, 743),\n",
    "    '7029 V1': (16, 713),\n",
    "#     '7030 V1': (),\n",
    "    '7032 V1': (28, 710),\n",
    "    '7034 V1': (28, 683),\n",
    "    '7035 V1': (20, 675),\n",
    "    '7036 V1': (18, 684),\n",
    "    '7038 V1': (10, 630),\n",
    "#     '7039 V1': (),\n",
    "    '7040 V1': (46, 640),\n",
    "    '7041 V1': (13, 613),\n",
    "    '7042 V1': (10, 625),\n",
    "#     '7043 V1': (21, 24)\n",
    "}\n",
    "\n",
    "task_lengths = {\n",
    "    0: (105, 30), # duration, rest following\n",
    "    1: (120, 15)\n",
    "}"
   ]
  },
  {
   "cell_type": "code",
   "execution_count": 32,
   "metadata": {},
   "outputs": [
    {
     "ename": "SyntaxError",
     "evalue": "invalid syntax (<ipython-input-32-e167a92ea616>, line 52)",
     "output_type": "error",
     "traceback": [
      "\u001b[0;36m  File \u001b[0;32m\"<ipython-input-32-e167a92ea616>\"\u001b[0;36m, line \u001b[0;32m52\u001b[0m\n\u001b[0;31m    for i in range(3):\u001b[0m\n\u001b[0m                     ^\u001b[0m\n\u001b[0;31mSyntaxError\u001b[0m\u001b[0;31m:\u001b[0m invalid syntax\n"
     ]
    }
   ],
   "source": [
    "for ses in tqdm(nirs_session_dirs):\n",
    "    # should always work, even with multiple-runs. \n",
    "    # TODO remember that these exist, where 2 runs are collected\n",
    "    # for the same dyad of parent/child, for unknown reason. \n",
    "    # potentially check for truncated run while parsing this data in other\n",
    "    # mne processing software\n",
    "    \n",
    "#     if (\"50170_V0_fNIRS\" in ses) or (\"50171_V0_fNIRS\" in ses):\n",
    "#         pass\n",
    "#     else:\n",
    "#         continue\n",
    "\n",
    "    subject = ses.strip(nirs_dir).split('/')[0]\n",
    "    visit = ses.strip(nirs_dir).split('/')[1]\n",
    "\n",
    "    # check that it's at least in the start keys\n",
    "    if subject in [key.split(' ')[0] for key in start_keys.keys()]:\n",
    "        pass\n",
    "    else:\n",
    "        print(\"Subject not found in keys, skipping:\", ses)\n",
    "        continue\n",
    "        \n",
    "    starts = start_keys[' '.join(\n",
    "        ses.strip(nirs_dir).split('/')[:2])]\n",
    "    \n",
    "#     print(subject, starts)\n",
    "    \n",
    "    og_evt = glob(ses+\"/*.evt\")\n",
    "    if len(og_evt) != 1:\n",
    "        print(\"Error: found\", len(og_evt), \"evt files for the given sub / visit.\")\n",
    "        print(\"Skipping:\", ses)\n",
    "        continue\n",
    "    else:\n",
    "        og_evt = og_evt[0]\n",
    "    \n",
    "    stims = []\n",
    "    \n",
    "    skip = False\n",
    "    # block 1 and 2 (0 and 1)\n",
    "    for block in range(len(task_lengths.keys())):\n",
    "        \n",
    "        # actual bit stim value\n",
    "        val = str(block+1) + \"\\t0\"*7\n",
    "        \n",
    "        try:\n",
    "            start = start_keys[' '.join(subject, visit)][block]\n",
    "            \n",
    "            \n",
    "            stims.append((start, val))\n",
    "            \n",
    "            # for each subsequent box in run\n",
    "            for i in range(3):\n",
    "                # add stim of start time plus num its and spacing (duration + rest)\n",
    "                stims.append(((start + (sum(task_lengths[block])*i+1))), val)\n",
    "            \n",
    "        except:\n",
    "            print(\"Subject / visit not in start keys, skipping:\", ses)\n",
    "            skip = True\n",
    "            continue\n",
    "                         \n",
    "    if skip is True:\n",
    "        continue\n",
    "                \n",
    "    shutil.move(\n",
    "        og_evt,\n",
    "        og_evt.replace(\".evt\", \"_old.evt\"))\n",
    "                         \n",
    "    f = open(join(ses, og_evt), 'w')\n",
    "\n",
    "    for (time, val) in stims:\n",
    "        f.write(time)\n",
    "        f.write('\\t')\n",
    "        f.write(val)\n",
    "        f.write('\\n')\n",
    "                         \n",
    "    f.close()"
   ]
  },
  {
   "cell_type": "code",
   "execution_count": 11,
   "metadata": {},
   "outputs": [],
   "source": [
    "def timeconvert_psychopy_to_nirstar(\n",
    "    sample_rate,\n",
    "    NSstim1_t,\n",
    "    PSstim1_t,\n",
    "    PSevent_t):\n",
    "    \n",
    "    NSevent_t = NSstim1_t + (PSevent_t - PSstim1_t) * sample_rate\n",
    "    return NSevent_t"
   ]
  },
  {
   "cell_type": "code",
   "execution_count": null,
   "metadata": {},
   "outputs": [],
   "source": []
  }
 ],
 "metadata": {
  "kernelspec": {
   "display_name": "MRIenv",
   "language": "python",
   "name": "mrienv"
  },
  "language_info": {
   "codemirror_mode": {
    "name": "ipython",
    "version": 3
   },
   "file_extension": ".py",
   "mimetype": "text/x-python",
   "name": "python",
   "nbconvert_exporter": "python",
   "pygments_lexer": "ipython3",
   "version": "3.7.5"
  }
 },
 "nbformat": 4,
 "nbformat_minor": 4
}
