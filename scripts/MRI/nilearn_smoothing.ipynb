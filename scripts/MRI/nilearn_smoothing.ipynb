{
 "cells": [
  {
   "cell_type": "code",
   "execution_count": 7,
   "metadata": {},
   "outputs": [],
   "source": [
    "from nilearn import datasets, plotting, image\n",
    "from nilearn.image import smooth_img\n",
    "from nilearn.glm.first_level import FirstLevelModel\n",
    "import nibabel as nib"
   ]
  },
  {
   "cell_type": "code",
   "execution_count": 8,
   "metadata": {},
   "outputs": [],
   "source": [
    "import os\n",
    "from os.path import join\n",
    "from glob import glob"
   ]
  },
  {
   "cell_type": "code",
   "execution_count": 9,
   "metadata": {},
   "outputs": [],
   "source": [
    "# some parameters\n",
    "\n",
    "bids_root = \"/data/perlman/moochie/analysis/CARE/MRI_data_clean\"\n",
    "task_label = 'movie'\n",
    "space_label = 'MNIPediatricAsym'\n",
    "derivatives_folder = join(bids_root, 'derivatives/fmriprep')\n",
    "TR = 0.8\n",
    "templateflow_home = \"/data/perlman/moochie/resources/templateflow\""
   ]
  },
  {
   "cell_type": "code",
   "execution_count": 10,
   "metadata": {},
   "outputs": [],
   "source": [
    "fmriprepped = [os.path.split(fname)[0] for fname in \\\n",
    "    glob(join(derivatives_folder, \"sub-*\", \"ses-*\", \"func\", \"*\"+task_label+\"*timeseries*.tsv\"))]\n",
    "\n",
    "niis = []\n",
    "for fprep in fmriprepped:\n",
    "    fnames = glob(join(fprep, \"*\"+space_label+\"*res-2\"+\"*preproc_bold.nii.gz\"))\n",
    "    for fname in fnames:\n",
    "        niis.append(fname)"
   ]
  },
  {
   "cell_type": "code",
   "execution_count": 11,
   "metadata": {},
   "outputs": [],
   "source": [
    "# tenatively 7mm smoothing res\n",
    "\n",
    "# result_img = smooth_img(\n",
    "#     niis[0],\n",
    "#     fwhm=7)"
   ]
  },
  {
   "cell_type": "code",
   "execution_count": 12,
   "metadata": {},
   "outputs": [
    {
     "name": "stdout",
     "output_type": "stream",
     "text": [
      "/data/perlman/moochie/analysis/CARE/MRI_data_clean/derivatives/fmriprep/sub-50701/ses-0/func/sub-50701_ses-0_task-movieC_dir-PA_run-1_space-MNIPediatricAsym_cohort-2_res-2_desc-preproc_bold_smoothed7mm.nii.gz\n",
      "/data/perlman/moochie/analysis/CARE/MRI_data_clean/derivatives/fmriprep/sub-50032/ses-0/func/sub-50032_ses-0_task-movieA_dir-PA_run-1_space-MNIPediatricAsym_cohort-2_res-2_desc-preproc_bold_smoothed7mm.nii.gz\n",
      "/data/perlman/moochie/analysis/CARE/MRI_data_clean/derivatives/fmriprep/sub-50021/ses-1/func/sub-50021_ses-1_task-movieC_dir-PA_run-1_space-MNIPediatricAsym_cohort-2_res-2_desc-preproc_bold_smoothed7mm.nii.gz\n",
      "/data/perlman/moochie/analysis/CARE/MRI_data_clean/derivatives/fmriprep/sub-50021/ses-0/func/sub-50021_ses-0_task-movieB_dir-PA_run-1_space-MNIPediatricAsym_cohort-2_res-2_desc-preproc_bold_smoothed7mm.nii.gz\n",
      "/data/perlman/moochie/analysis/CARE/MRI_data_clean/derivatives/fmriprep/sub-50841/ses-0/func/sub-50841_ses-0_task-movieA_dir-PA_run-1_space-MNIPediatricAsym_cohort-2_res-2_desc-preproc_bold_smoothed7mm.nii.gz\n",
      "/data/perlman/moochie/analysis/CARE/MRI_data_clean/derivatives/fmriprep/sub-50461/ses-0/func/sub-50461_ses-0_task-movieA_dir-PA_run-1_space-MNIPediatricAsym_cohort-2_res-2_desc-preproc_bold_smoothed7mm.nii.gz\n",
      "/data/perlman/moochie/analysis/CARE/MRI_data_clean/derivatives/fmriprep/sub-50511/ses-0/func/sub-50511_ses-0_task-movieA_dir-PA_run-1_space-MNIPediatricAsym_cohort-2_res-2_desc-preproc_bold_smoothed7mm.nii.gz\n",
      "/data/perlman/moochie/analysis/CARE/MRI_data_clean/derivatives/fmriprep/sub-50121/ses-0/func/sub-50121_ses-0_task-movieA_dir-PA_run-1_space-MNIPediatricAsym_cohort-2_res-2_desc-preproc_bold_smoothed7mm.nii.gz\n",
      "/data/perlman/moochie/analysis/CARE/MRI_data_clean/derivatives/fmriprep/sub-50502/ses-0/func/sub-50502_ses-0_task-movieB_dir-PA_run-1_space-MNIPediatricAsym_cohort-2_res-2_desc-preproc_bold_smoothed7mm.nii.gz\n",
      "/data/perlman/moochie/analysis/CARE/MRI_data_clean/derivatives/fmriprep/sub-50771/ses-0/func/sub-50771_ses-0_task-movieC_dir-PA_run-1_space-MNIPediatricAsym_cohort-2_res-2_desc-preproc_bold_smoothed7mm.nii.gz\n",
      "/data/perlman/moochie/analysis/CARE/MRI_data_clean/derivatives/fmriprep/sub-50601/ses-0/func/sub-50601_ses-0_task-movieA_dir-PA_run-1_space-MNIPediatricAsym_cohort-2_res-2_desc-preproc_bold_smoothed7mm.nii.gz\n",
      "/data/perlman/moochie/analysis/CARE/MRI_data_clean/derivatives/fmriprep/sub-50401/ses-0/func/sub-50401_ses-0_task-movieC_dir-PA_run-1_space-MNIPediatricAsym_cohort-2_res-2_desc-preproc_bold_smoothed7mm.nii.gz\n",
      "/data/perlman/moochie/analysis/CARE/MRI_data_clean/derivatives/fmriprep/sub-50321/ses-0/func/sub-50321_ses-0_task-movieA_dir-PA_run-1_space-MNIPediatricAsym_cohort-2_res-2_desc-preproc_bold_smoothed7mm.nii.gz\n",
      "/data/perlman/moochie/analysis/CARE/MRI_data_clean/derivatives/fmriprep/sub-50251/ses-0/func/sub-50251_ses-0_task-movieB_dir-PA_run-1_space-MNIPediatricAsym_cohort-2_res-2_desc-preproc_bold_smoothed7mm.nii.gz\n",
      "/data/perlman/moochie/analysis/CARE/MRI_data_clean/derivatives/fmriprep/sub-50251/ses-1/func/sub-50251_ses-1_task-movieC_dir-PA_run-1_space-MNIPediatricAsym_cohort-2_res-2_desc-preproc_bold_smoothed7mm.nii.gz\n",
      "/data/perlman/moochie/analysis/CARE/MRI_data_clean/derivatives/fmriprep/sub-50761/ses-0/func/sub-50761_ses-0_task-movieB_dir-PA_run-1_space-MNIPediatricAsym_cohort-2_res-2_desc-preproc_bold_smoothed7mm.nii.gz\n",
      "/data/perlman/moochie/analysis/CARE/MRI_data_clean/derivatives/fmriprep/sub-50351/ses-0/func/sub-50351_ses-0_task-movieB_dir-PA_run-1_space-MNIPediatricAsym_cohort-2_res-2_desc-preproc_bold_smoothed7mm.nii.gz\n",
      "/data/perlman/moochie/analysis/CARE/MRI_data_clean/derivatives/fmriprep/sub-50221/ses-0/func/sub-50221_ses-0_task-movieC_dir-PA_run-1_space-MNIPediatricAsym_cohort-2_res-2_desc-preproc_bold_smoothed7mm.nii.gz\n",
      "/data/perlman/moochie/analysis/CARE/MRI_data_clean/derivatives/fmriprep/sub-50611/ses-0/func/sub-50611_ses-0_task-movieA_dir-PA_run-1_space-MNIPediatricAsym_cohort-2_res-2_desc-preproc_bold_smoothed7mm.nii.gz\n",
      "/data/perlman/moochie/analysis/CARE/MRI_data_clean/derivatives/fmriprep/sub-50832/ses-0/func/sub-50832_ses-0_task-movieA_dir-PA_run-1_space-MNIPediatricAsym_cohort-2_res-2_desc-preproc_bold_smoothed7mm.nii.gz\n",
      "/data/perlman/moochie/analysis/CARE/MRI_data_clean/derivatives/fmriprep/sub-50602/ses-0/func/sub-50602_ses-0_task-movieB_dir-PA_run-1_space-MNIPediatricAsym_cohort-2_res-2_desc-preproc_bold_smoothed7mm.nii.gz\n",
      "/data/perlman/moochie/analysis/CARE/MRI_data_clean/derivatives/fmriprep/sub-50342/ses-0/func/sub-50342_ses-0_task-movieA_dir-PA_run-1_space-MNIPediatricAsym_cohort-2_res-2_desc-preproc_bold_smoothed7mm.nii.gz\n",
      "/data/perlman/moochie/analysis/CARE/MRI_data_clean/derivatives/fmriprep/sub-50691/ses-0/func/sub-50691_ses-0_task-movieB_dir-PA_run-1_space-MNIPediatricAsym_cohort-2_res-2_desc-preproc_bold_smoothed7mm.nii.gz\n",
      "/data/perlman/moochie/analysis/CARE/MRI_data_clean/derivatives/fmriprep/sub-50501/ses-0/func/sub-50501_ses-0_task-movieA_dir-PA_run-1_space-MNIPediatricAsym_cohort-2_res-2_desc-preproc_bold_smoothed7mm.nii.gz\n",
      "/data/perlman/moochie/analysis/CARE/MRI_data_clean/derivatives/fmriprep/sub-50131/ses-1/func/sub-50131_ses-1_task-movieA_dir-PA_run-1_space-MNIPediatricAsym_cohort-2_res-2_desc-preproc_bold_smoothed7mm.nii.gz\n",
      "/data/perlman/moochie/analysis/CARE/MRI_data_clean/derivatives/fmriprep/sub-50131/ses-0/func/sub-50131_ses-0_task-movieB_dir-PA_run-1_space-MNIPediatricAsym_cohort-2_res-2_desc-preproc_bold_smoothed7mm.nii.gz\n",
      "/data/perlman/moochie/analysis/CARE/MRI_data_clean/derivatives/fmriprep/sub-50441/ses-0/func/sub-50441_ses-0_task-movieC_dir-PA_run-1_space-MNIPediatricAsym_cohort-2_res-2_desc-preproc_bold_smoothed7mm.nii.gz\n",
      "/data/perlman/moochie/analysis/CARE/MRI_data_clean/derivatives/fmriprep/sub-50071/ses-0/func/sub-50071_ses-0_task-movieB_dir-PA_run-1_space-MNIPediatricAsym_cohort-2_res-2_desc-preproc_bold_smoothed7mm.nii.gz\n",
      "/data/perlman/moochie/analysis/CARE/MRI_data_clean/derivatives/fmriprep/sub-50531/ses-0/func/sub-50531_ses-0_task-movieC_dir-PA_run-1_space-MNIPediatricAsym_cohort-2_res-2_desc-preproc_bold_smoothed7mm.nii.gz\n",
      "/data/perlman/moochie/analysis/CARE/MRI_data_clean/derivatives/fmriprep/sub-50291/ses-0/func/sub-50291_ses-0_task-movieC_dir-PA_run-1_space-MNIPediatricAsym_cohort-2_res-2_desc-preproc_bold_smoothed7mm.nii.gz\n",
      "/data/perlman/moochie/analysis/CARE/MRI_data_clean/derivatives/fmriprep/sub-50361/ses-0/func/sub-50361_ses-0_task-movieC_dir-PA_run-1_space-MNIPediatricAsym_cohort-2_res-2_desc-preproc_bold_smoothed7mm.nii.gz\n",
      "/data/perlman/moochie/analysis/CARE/MRI_data_clean/derivatives/fmriprep/sub-50621/ses-0/func/sub-50621_ses-0_task-movieB_dir-PA_run-1_space-MNIPediatricAsym_cohort-2_res-2_desc-preproc_bold_smoothed7mm.nii.gz\n",
      "/data/perlman/moochie/analysis/CARE/MRI_data_clean/derivatives/fmriprep/sub-50211/ses-0/func/sub-50211_ses-0_task-movieA_dir-PA_run-1_space-MNIPediatricAsym_cohort-2_res-2_desc-preproc_bold_smoothed7mm.nii.gz\n",
      "/data/perlman/moochie/analysis/CARE/MRI_data_clean/derivatives/fmriprep/sub-50721/ses-0/func/sub-50721_ses-0_task-movieA_dir-PA_run-1_space-MNIPediatricAsym_cohort-2_res-2_desc-preproc_bold_smoothed7mm.nii.gz\n",
      "/data/perlman/moochie/analysis/CARE/MRI_data_clean/derivatives/fmriprep/sub-50261/ses-0/func/sub-50261_ses-0_task-movieA_dir-PA_run-1_space-MNIPediatricAsym_cohort-2_res-2_desc-preproc_bold_smoothed7mm.nii.gz\n",
      "/data/perlman/moochie/analysis/CARE/MRI_data_clean/derivatives/fmriprep/sub-50081/ses-0/func/sub-50081_ses-0_task-movieA_dir-PA_run-1_space-MNIPediatricAsym_cohort-2_res-2_desc-preproc_bold_smoothed7mm.nii.gz\n",
      "/data/perlman/moochie/analysis/CARE/MRI_data_clean/derivatives/fmriprep/sub-50081/ses-1/func/sub-50081_ses-1_task-movieB_dir-PA_run-1_space-MNIPediatricAsym_cohort-2_res-2_desc-preproc_bold_smoothed7mm.nii.gz\n",
      "/data/perlman/moochie/analysis/CARE/MRI_data_clean/derivatives/fmriprep/sub-50422/ses-0/func/sub-50422_ses-0_task-movieC_dir-PA_run-1_space-MNIPediatricAsym_cohort-2_res-2_desc-preproc_bold_smoothed7mm.nii.gz\n",
      "/data/perlman/moochie/analysis/CARE/MRI_data_clean/derivatives/fmriprep/sub-50391/ses-0/func/sub-50391_ses-0_task-movieA_dir-PA_run-1_space-MNIPediatricAsym_cohort-2_res-2_desc-preproc_bold_smoothed7mm.nii.gz\n",
      "/data/perlman/moochie/analysis/CARE/MRI_data_clean/derivatives/fmriprep/sub-50431/ses-0/func/sub-50431_ses-0_task-movieC_dir-PA_run-1_space-MNIPediatricAsym_cohort-2_res-2_desc-preproc_bold_smoothed7mm.nii.gz\n",
      "/data/perlman/moochie/analysis/CARE/MRI_data_clean/derivatives/fmriprep/sub-50001/ses-0/func/sub-50001_ses-0_task-movieB_dir-PA_run-1_space-MNIPediatricAsym_cohort-2_res-2_desc-preproc_bold_smoothed7mm.nii.gz\n",
      "/data/perlman/moochie/analysis/CARE/MRI_data_clean/derivatives/fmriprep/sub-50631/ses-0/func/sub-50631_ses-0_task-movieB_dir-PA_run-1_space-MNIPediatricAsym_cohort-2_res-2_desc-preproc_bold_smoothed7mm.nii.gz\n",
      "/data/perlman/moochie/analysis/CARE/MRI_data_clean/derivatives/fmriprep/sub-50451/ses-0/func/sub-50451_ses-0_task-movieB_dir-PA_run-1_space-MNIPediatricAsym_cohort-2_res-2_desc-preproc_bold_smoothed7mm.nii.gz\n",
      "/data/perlman/moochie/analysis/CARE/MRI_data_clean/derivatives/fmriprep/sub-50111/ses-0/func/sub-50111_ses-0_task-movieB_dir-PA_run-1_space-MNIPediatricAsym_cohort-2_res-2_desc-preproc_bold_smoothed7mm.nii.gz\n",
      "/data/perlman/moochie/analysis/CARE/MRI_data_clean/derivatives/fmriprep/sub-50521/ses-0/func/sub-50521_ses-0_task-movieB_dir-PA_run-1_space-MNIPediatricAsym_cohort-2_res-2_desc-preproc_bold_smoothed7mm.nii.gz\n",
      "/data/perlman/moochie/analysis/CARE/MRI_data_clean/derivatives/fmriprep/sub-50801/ses-0/func/sub-50801_ses-0_task-movieB_dir-PA_run-1_space-MNIPediatricAsym_cohort-2_res-2_desc-preproc_bold_smoothed7mm.nii.gz\n",
      "/data/perlman/moochie/analysis/CARE/MRI_data_clean/derivatives/fmriprep/sub-50421/ses-0/func/sub-50421_ses-0_task-movieB_dir-PA_run-1_space-MNIPediatricAsym_cohort-2_res-2_desc-preproc_bold_smoothed7mm.nii.gz\n",
      "/data/perlman/moochie/analysis/CARE/MRI_data_clean/derivatives/fmriprep/sub-50551/ses-0/func/sub-50551_ses-0_task-movieA_dir-PA_run-1_space-MNIPediatricAsym_cohort-2_res-2_desc-preproc_bold_smoothed7mm.nii.gz\n",
      "/data/perlman/moochie/analysis/CARE/MRI_data_clean/derivatives/fmriprep/sub-50381/ses-0/func/sub-50381_ses-0_task-movieB_dir-PA_run-1_space-MNIPediatricAsym_cohort-2_res-2_desc-preproc_bold_smoothed7mm.nii.gz\n",
      "/data/perlman/moochie/analysis/CARE/MRI_data_clean/derivatives/fmriprep/sub-50091/ses-1/func/sub-50091_ses-1_task-movieA_dir-PA_run-1_space-MNIPediatricAsym_cohort-2_res-2_desc-preproc_bold_smoothed7mm.nii.gz\n",
      "/data/perlman/moochie/analysis/CARE/MRI_data_clean/derivatives/fmriprep/sub-50091/ses-0/func/sub-50091_ses-0_task-movieA_dir-PA_run-1_space-MNIPediatricAsym_cohort-2_res-2_desc-preproc_bold_smoothed7mm.nii.gz\n",
      "/data/perlman/moochie/analysis/CARE/MRI_data_clean/derivatives/fmriprep/sub-50301/ses-1/func/sub-50301_ses-1_task-movieC_dir-PA_run-1_space-MNIPediatricAsym_cohort-2_res-2_desc-preproc_bold_smoothed7mm.nii.gz\n",
      "/data/perlman/moochie/analysis/CARE/MRI_data_clean/derivatives/fmriprep/sub-50301/ses-0/func/sub-50301_ses-0_task-movieB_dir-PA_run-1_space-MNIPediatricAsym_cohort-2_res-2_desc-preproc_bold_smoothed7mm.nii.gz\n"
     ]
    }
   ],
   "source": [
    "for img in niis:\n",
    "    smoothed_fname = img.split('.')[0]+\"_smoothed7mm.\"+'.'.join(img.split('.')[1:])\n",
    "    \n",
    "    print(smoothed_fname)\n",
    "    \n",
    "    if not os.path.exists(smoothed_fname):\n",
    "        smoothed_img = smooth_img(\n",
    "            img,\n",
    "            fwhm=7)\n",
    "\n",
    "        print(type(smoothed_img))\n",
    "\n",
    "        smoothed_img.to_filename(smoothed_fname)"
   ]
  },
  {
   "cell_type": "code",
   "execution_count": null,
   "metadata": {},
   "outputs": [],
   "source": []
  },
  {
   "cell_type": "code",
   "execution_count": null,
   "metadata": {},
   "outputs": [],
   "source": []
  }
 ],
 "metadata": {
  "kernelspec": {
   "display_name": "MRIenv",
   "language": "python",
   "name": "mrienv"
  },
  "language_info": {
   "codemirror_mode": {
    "name": "ipython",
    "version": 3
   },
   "file_extension": ".py",
   "mimetype": "text/x-python",
   "name": "python",
   "nbconvert_exporter": "python",
   "pygments_lexer": "ipython3",
   "version": "3.7.5"
  }
 },
 "nbformat": 4,
 "nbformat_minor": 4
}
