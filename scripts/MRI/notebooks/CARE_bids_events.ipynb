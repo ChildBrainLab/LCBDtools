{
 "cells": [
  {
   "cell_type": "code",
   "execution_count": 12,
   "metadata": {},
   "outputs": [],
   "source": [
    "import os\n",
    "from os.path import join\n",
    "import shutil\n",
    "from glob import glob"
   ]
  },
  {
   "cell_type": "code",
   "execution_count": 13,
   "metadata": {},
   "outputs": [],
   "source": [
    "# some parameters\n",
    "\n",
    "bids_root = \"/data/perlman/moochie/analysis/CARE/MRI_data_clean\"\n",
    "task_label = 'movie'"
   ]
  },
  {
   "cell_type": "code",
   "execution_count": 14,
   "metadata": {},
   "outputs": [],
   "source": [
    "# make list of paths to all event files in BIDS data\n",
    "fnames = [fname for fname in glob(join(\n",
    "    bids_root, \"sub-*\", \"ses-*\", \"func\", \"*events*.tsv\"))]\n",
    "\n",
    "# and of the new event files (which should already exist in bids_dir) that will replace them\n",
    "new_events = [fname for fname in glob(join(\n",
    "    bids_root, \"*events*.tsv\"))]"
   ]
  },
  {
   "cell_type": "code",
   "execution_count": 17,
   "metadata": {},
   "outputs": [
    {
     "name": "stdout",
     "output_type": "stream",
     "text": [
      "/data/perlman/moochie/analysis/CARE/MRI_data_clean/sub-50081/ses-1/func/sub-50081_ses-1_task-movieB_dir-PA_run-01_events.tsv\n",
      "/data/perlman/moochie/analysis/CARE/MRI_data_clean/sub-50081/ses-0/func/sub-50081_ses-0_task-movieA_dir-PA_run-01_events.tsv\n",
      "/data/perlman/moochie/analysis/CARE/MRI_data_clean/sub-50422/ses-0/func/sub-50422_ses-0_task-movieC_dir-PA_run-01_events.tsv\n",
      "/data/perlman/moochie/analysis/CARE/MRI_data_clean/sub-50721/ses-0/func/sub-50721_ses-0_task-movieA_dir-PA_run-01_events.tsv\n",
      "/data/perlman/moochie/analysis/CARE/MRI_data_clean/sub-50261/ses-0/func/sub-50261_ses-0_task-movieA_dir-PA_run-01_events.tsv\n",
      "/data/perlman/moochie/analysis/CARE/MRI_data_clean/sub-50001/ses-0/func/sub-50001_ses-0_task-movieB_dir-PA_run-01_events.tsv\n",
      "/data/perlman/moochie/analysis/CARE/MRI_data_clean/sub-50431/ses-0/func/sub-50431_ses-0_task-movieC_dir-PA_run-01_events.tsv\n",
      "/data/perlman/moochie/analysis/CARE/MRI_data_clean/sub-50092/ses-1/func/sub-50092_ses-1_task-movieB_dir-PA_run-01_events.tsv\n",
      "/data/perlman/moochie/analysis/CARE/MRI_data_clean/sub-50092/ses-0/func/sub-50092_ses-0_task-movieC_dir-PA_run-01_events.tsv\n",
      "/data/perlman/moochie/analysis/CARE/MRI_data_clean/sub-50171/ses-0/func/sub-50171_ses-0_task-movieC_dir-PA_run-01_events.tsv\n",
      "/data/perlman/moochie/analysis/CARE/MRI_data_clean/sub-50171/ses-1/func/sub-50171_ses-1_task-movieA_dir-PA_run-01_events.tsv\n",
      "/data/perlman/moochie/analysis/CARE/MRI_data_clean/sub-50391/ses-0/func/sub-50391_ses-0_task-movieA_dir-PA_run-01_events.tsv\n",
      "/data/perlman/moochie/analysis/CARE/MRI_data_clean/sub-50291/ses-0/func/sub-50291_ses-0_task-movieC_dir-PA_run-01_events.tsv\n",
      "/data/perlman/moochie/analysis/CARE/MRI_data_clean/sub-50071/ses-0/func/sub-50071_ses-0_task-movieB_dir-PA_run-01_events.tsv\n",
      "/data/perlman/moochie/analysis/CARE/MRI_data_clean/sub-50441/ses-0/func/sub-50441_ses-0_task-movieC_dir-PA_run-01_events.tsv\n",
      "/data/perlman/moochie/analysis/CARE/MRI_data_clean/sub-50531/ses-0/func/sub-50531_ses-0_task-movieC_dir-PA_run-01_events.tsv\n",
      "/data/perlman/moochie/analysis/CARE/MRI_data_clean/sub-50361/ses-0/func/sub-50361_ses-0_task-movieC_dir-PA_run-01_events.tsv\n",
      "/data/perlman/moochie/analysis/CARE/MRI_data_clean/sub-50211/ses-0/func/sub-50211_ses-0_task-movieA_dir-PA_run-01_events.tsv\n",
      "/data/perlman/moochie/analysis/CARE/MRI_data_clean/sub-50621/ses-0/func/sub-50621_ses-0_task-movieB_dir-PA_run-01_events.tsv\n",
      "/data/perlman/moochie/analysis/CARE/MRI_data_clean/sub-50802/ses-0/func/sub-50802_ses-0_task-movieC_dir-PA_run-01_events.tsv\n",
      "/data/perlman/moochie/analysis/CARE/MRI_data_clean/sub-50181/ses-0/func/sub-50181_ses-0_task-movieC_dir-PA_run-01_events.tsv\n",
      "/data/perlman/moochie/analysis/CARE/MRI_data_clean/sub-50381/ses-0/func/sub-50381_ses-0_task-movieB_dir-PA_run-01_events.tsv\n",
      "/data/perlman/moochie/analysis/CARE/MRI_data_clean/sub-50421/ses-0/func/sub-50421_ses-0_task-movieB_dir-PA_run-01_events.tsv\n",
      "/data/perlman/moochie/analysis/CARE/MRI_data_clean/sub-50551/ses-0/func/sub-50551_ses-0_task-movieA_dir-PA_run-01_events.tsv\n",
      "/data/perlman/moochie/analysis/CARE/MRI_data_clean/sub-50731/ses-0/func/sub-50731_ses-0_task-movieC_dir-PA_run-01_events.tsv\n",
      "/data/perlman/moochie/analysis/CARE/MRI_data_clean/sub-50301/ses-0/func/sub-50301_ses-0_task-movieB_dir-PA_run-01_events.tsv\n",
      "/data/perlman/moochie/analysis/CARE/MRI_data_clean/sub-50301/ses-1/func/sub-50301_ses-1_task-movieC_dir-PA_run-01_events.tsv\n",
      "/data/perlman/moochie/analysis/CARE/MRI_data_clean/sub-50091/ses-0/func/sub-50091_ses-0_task-movieA_dir-PA_run-01_events.tsv\n",
      "/data/perlman/moochie/analysis/CARE/MRI_data_clean/sub-50091/ses-1/func/sub-50091_ses-1_task-movieA_dir-PA_run-01_events.tsv\n",
      "/data/perlman/moochie/analysis/CARE/MRI_data_clean/sub-50191/ses-0/func/sub-50191_ses-0_task-movieB_dir-PA_run-01_events.tsv\n",
      "/data/perlman/moochie/analysis/CARE/MRI_data_clean/sub-50371/ses-0/func/sub-50371_ses-0_task-movieB_dir-PA_run-01_events.tsv\n",
      "/data/perlman/moochie/analysis/CARE/MRI_data_clean/sub-50631/ses-0/func/sub-50631_ses-0_task-movieB_dir-PA_run-01_events.tsv\n",
      "/data/perlman/moochie/analysis/CARE/MRI_data_clean/sub-50451/ses-0/func/sub-50451_ses-0_task-movieB_dir-PA_run-01_events.tsv\n",
      "/data/perlman/moochie/analysis/CARE/MRI_data_clean/sub-50521/ses-0/func/sub-50521_ses-0_task-movieB_dir-PA_run-01_events.tsv\n",
      "/data/perlman/moochie/analysis/CARE/MRI_data_clean/sub-50801/ses-0/func/sub-50801_ses-0_task-movieB_dir-PA_run-01_events.tsv\n",
      "/data/perlman/moochie/analysis/CARE/MRI_data_clean/sub-50111/ses-0/func/sub-50111_ses-0_task-movieB_dir-PA_run-01_events.tsv\n",
      "/data/perlman/moochie/analysis/CARE/MRI_data_clean/sub-50461/ses-0/func/sub-50461_ses-0_task-movieA_dir-PA_run-01_events.tsv\n",
      "/data/perlman/moochie/analysis/CARE/MRI_data_clean/sub-50121/ses-0/func/sub-50121_ses-0_task-movieA_dir-PA_run-01_events.tsv\n",
      "/data/perlman/moochie/analysis/CARE/MRI_data_clean/sub-50511/ses-0/func/sub-50511_ses-0_task-movieA_dir-PA_run-01_events.tsv\n",
      "/data/perlman/moochie/analysis/CARE/MRI_data_clean/sub-50341/ses-0/func/sub-50341_ses-0_task-movieC_dir-PA_run-01_events.tsv\n",
      "/data/perlman/moochie/analysis/CARE/MRI_data_clean/sub-50771/ses-0/func/sub-50771_ses-0_task-movieC_dir-PA_run-01_events.tsv\n",
      "/data/perlman/moochie/analysis/CARE/MRI_data_clean/sub-50601/ses-0/func/sub-50601_ses-0_task-movieA_dir-PA_run-01_events.tsv\n",
      "/data/perlman/moochie/analysis/CARE/MRI_data_clean/sub-50231/ses-0/func/sub-50231_ses-0_task-movieC_dir-PA_run-01_events.tsv\n",
      "/data/perlman/moochie/analysis/CARE/MRI_data_clean/sub-50231/ses-1/func/sub-50231_ses-1_task-movieA_dir-PA_run-01_events.tsv\n",
      "/data/perlman/moochie/analysis/CARE/MRI_data_clean/sub-50502/ses-0/func/sub-50502_ses-0_task-movieB_dir-PA_run-01_events.tsv\n",
      "/data/perlman/moochie/analysis/CARE/MRI_data_clean/sub-50032/ses-0/func/sub-50032_ses-0_task-movieA_dir-PA_run-01_events.tsv\n",
      "/data/perlman/moochie/analysis/CARE/MRI_data_clean/sub-50331/ses-0/func/sub-50331_ses-0_task-movieC_dir-PA_run-01_events.tsv\n",
      "/data/perlman/moochie/analysis/CARE/MRI_data_clean/sub-50701/ses-0/func/sub-50701_ses-0_task-movieC_dir-PA_run-01_events.tsv\n",
      "/data/perlman/moochie/analysis/CARE/MRI_data_clean/sub-50241/ses-1/func/sub-50241_ses-1_task-movieB_dir-PA_run-01_events.tsv\n",
      "/data/perlman/moochie/analysis/CARE/MRI_data_clean/sub-50241/ses-0/func/sub-50241_ses-0_task-movieA_dir-PA_run-01_events.tsv\n",
      "/data/perlman/moochie/analysis/CARE/MRI_data_clean/sub-50021/ses-1/func/sub-50021_ses-1_task-movieC_dir-PA_run-01_events.tsv\n",
      "/data/perlman/moochie/analysis/CARE/MRI_data_clean/sub-50021/ses-0/func/sub-50021_ses-0_task-movieB_dir-PA_run-01_events.tsv\n",
      "/data/perlman/moochie/analysis/CARE/MRI_data_clean/sub-50841/ses-0/func/sub-50841_ses-0_task-movieA_dir-PA_run-01_events.tsv\n",
      "/data/perlman/moochie/analysis/CARE/MRI_data_clean/sub-50832/ses-0/func/sub-50832_ses-0_task-movieA_dir-PA_run-01_events.tsv\n",
      "/data/perlman/moochie/analysis/CARE/MRI_data_clean/sub-50351/ses-0/func/sub-50351_ses-0_task-movieB_dir-PA_run-01_events.tsv\n",
      "/data/perlman/moochie/analysis/CARE/MRI_data_clean/sub-50761/ses-0/func/sub-50761_ses-0_task-movieB_dir-PA_run-01_events.tsv\n",
      "/data/perlman/moochie/analysis/CARE/MRI_data_clean/sub-50611/ses-0/func/sub-50611_ses-0_task-movieA_dir-PA_run-01_events.tsv\n",
      "/data/perlman/moochie/analysis/CARE/MRI_data_clean/sub-50221/ses-0/func/sub-50221_ses-0_task-movieC_dir-PA_run-01_events.tsv\n",
      "/data/perlman/moochie/analysis/CARE/MRI_data_clean/sub-50131/ses-0/func/sub-50131_ses-0_task-movieB_dir-PA_run-01_events.tsv\n",
      "/data/perlman/moochie/analysis/CARE/MRI_data_clean/sub-50131/ses-1/func/sub-50131_ses-1_task-movieA_dir-PA_run-01_events.tsv\n",
      "/data/perlman/moochie/analysis/CARE/MRI_data_clean/sub-50501/ses-0/func/sub-50501_ses-0_task-movieA_dir-PA_run-01_events.tsv\n",
      "/data/perlman/moochie/analysis/CARE/MRI_data_clean/sub-50602/ses-0/func/sub-50602_ses-0_task-movieB_dir-PA_run-01_events.tsv\n",
      "/data/perlman/moochie/analysis/CARE/MRI_data_clean/sub-50691/ses-0/func/sub-50691_ses-0_task-movieB_dir-PA_run-01_events.tsv\n",
      "/data/perlman/moochie/analysis/CARE/MRI_data_clean/sub-50342/ses-0/func/sub-50342_ses-0_task-movieA_dir-PA_run-01_events.tsv\n",
      "/data/perlman/moochie/analysis/CARE/MRI_data_clean/sub-50401/ses-0/func/sub-50401_ses-0_task-movieC_dir-PA_run-01_events.tsv\n",
      "/data/perlman/moochie/analysis/CARE/MRI_data_clean/sub-50321/ses-0/func/sub-50321_ses-0_task-movieA_dir-PA_run-01_events.tsv\n",
      "/data/perlman/moochie/analysis/CARE/MRI_data_clean/sub-50711/ses-0/func/sub-50711_ses-0_task-movieA_dir-PA_run-01_events.tsv\n",
      "/data/perlman/moochie/analysis/CARE/MRI_data_clean/sub-50251/ses-1/func/sub-50251_ses-1_task-movieC_dir-PA_run-01_events.tsv\n",
      "/data/perlman/moochie/analysis/CARE/MRI_data_clean/sub-50251/ses-0/func/sub-50251_ses-0_task-movieB_dir-PA_run-01_events.tsv\n",
      "/data/perlman/moochie/analysis/CARE/MRI_data_clean/sub-50481/ses-0/func/sub-50481_ses-0_task-movieC_dir-PA_run-01_events.tsv\n"
     ]
    }
   ],
   "source": [
    "for fname in fnames:\n",
    "    print(fname)\n",
    "    # get which movie (e.g. \"task-movieA\")\n",
    "    task = [sec for sec in os.path.basename(fname).split('_') if task_label in sec][0]\n",
    "    \n",
    "    # get which new event file\n",
    "    new_event = [evt for evt in new_events if task in evt][0]\n",
    "    \n",
    "#     print(\"Will copy:\", new_event, \"to\", fname)\n",
    "    os.remove(fname)\n",
    "\n",
    "    shutil.copy(new_event, fname)"
   ]
  },
  {
   "cell_type": "code",
   "execution_count": null,
   "metadata": {},
   "outputs": [],
   "source": []
  }
 ],
 "metadata": {
  "kernelspec": {
   "display_name": "MRIenv",
   "language": "python",
   "name": "mrienv"
  },
  "language_info": {
   "codemirror_mode": {
    "name": "ipython",
    "version": 3
   },
   "file_extension": ".py",
   "mimetype": "text/x-python",
   "name": "python",
   "nbconvert_exporter": "python",
   "pygments_lexer": "ipython3",
   "version": "3.7.5"
  }
 },
 "nbformat": 4,
 "nbformat_minor": 4
}
