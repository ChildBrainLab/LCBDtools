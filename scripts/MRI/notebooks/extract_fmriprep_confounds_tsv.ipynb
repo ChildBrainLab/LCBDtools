{
 "cells": [
  {
   "cell_type": "code",
   "execution_count": 1,
   "metadata": {},
   "outputs": [],
   "source": [
    "# coding: utf-8\n",
    "\n",
    "####RUN THIS SCRIPT USING this line in the terminal, changing the directory to your fmriprep directory####:\n",
    "\n",
    "#$ python extract_confounds.py --fmriprepDir=\"/data/projects/learning_lemurs/derivatives/fmriprep/\"\n",
    "\n",
    "# TO DO:\n",
    "# 1. write to subject folders, create if it doesn't exist\n",
    "# 2. simplify input argument to project name. all paths should be standardized within a project folder\n",
    "# 3. check for existence of output before overwiting older output. helps with version control on datalad.\n",
    "# 4. give option to overwrite existing output"
   ]
  },
  {
   "cell_type": "code",
   "execution_count": 4,
   "metadata": {},
   "outputs": [],
   "source": [
    "import numpy as np\n",
    "import pandas as pd\n",
    "import argparse\n",
    "import os\n",
    "import re\n",
    "from os.path import join"
   ]
  },
  {
   "cell_type": "code",
   "execution_count": 5,
   "metadata": {},
   "outputs": [],
   "source": [
    "# some parameters\n",
    "\n",
    "bids_root = \"/data/perlman/moochie/analysis/CARE/MRI_data_clean\"\n",
    "task_label = 'movie'\n",
    "space_label = 'MNIPediatricAsym'\n",
    "derivatives_folder = join(bids_root, 'derivatives/fmriprep')\n",
    "TR = 0.8"
   ]
  },
  {
   "cell_type": "code",
   "execution_count": 7,
   "metadata": {},
   "outputs": [
    {
     "name": "stdout",
     "output_type": "stream",
     "text": [
      "finding confound files located in /data/perlman/moochie/analysis/CARE/MRI_data_clean/derivatives/fmriprep\n"
     ]
    }
   ],
   "source": [
    "# parser = argparse.ArgumentParser(description='Give me a path to your fmriprep output')\n",
    "# group = parser.add_mutually_exclusive_group(required=True)\n",
    "\n",
    "# group.add_argument('--fmriprepDir',default=None, type=str,help=\"This is the full path to your fmriprep dir\")\n",
    "# args = parser.parse_args()\n",
    "\n",
    "# fmriprep_path = args.fmriprepDir\n",
    "\n",
    "print(\"finding confound files located in %s\"%(derivatives_folder))\n",
    "#make list of confound tsvs\n",
    "cons=[]\n",
    "for root, dirs, files in os.walk(derivatives_folder):\n",
    "    for f in files:\n",
    "        if f.endswith('-confounds_timeseries.tsv'):\n",
    "            cons.append(os.path.join(root, f))"
   ]
  },
  {
   "cell_type": "code",
   "execution_count": null,
   "metadata": {},
   "outputs": [],
   "source": [
    "for f in cons:\n",
    "    sub=re.search('/func/(.*)_task', f).group(1)\n",
    "    run=re.search('_run-(.*)_desc', f).group(1)\n",
    "    task=re.search('_task-(.*)_run',f).group(1)\n",
    "    derivitive_path=re.search('(.*)fmriprep/sub',f).group(1)\n",
    "\n",
    "\n",
    "    outfile=\"%s_task-%s_run-%s_desc-fslConfounds.tsv\"%(sub,task,run)\n",
    "\n",
    "\n",
    "    #read in the confounds, aroma mixing, and aroma confound indexes\n",
    "    con_regs=pd.read_csv(f,sep='\\t')\n",
    "\n",
    "    other=['csf','white_matter']\n",
    "    cosine = [col for col in con_regs if col.startswith('cosine')]\n",
    "    NSS = [col for col in con_regs if col.startswith('non_steady_state')]\n",
    "    #motion_out=[col for col in con_regs if col.startswith('motion_outlier')]\n",
    "    aroma_motion=[col for col in con_regs if col.startswith('aroma')]\n",
    "\n",
    "    filter_col=np.concatenate([cosine,NSS,aroma_motion,other])#here we combine all NSS AROMA motion & the rest\n",
    "\n",
    "    #This Dataframe will be the full filter matrix\n",
    "    df_all=con_regs[filter_col]\n",
    "    #change this dir to where you want your output (this puts it in individual subject folders)\n",
    "    outdir=derivitive_path+\"/confounds/%s/\" %(sub)\n",
    "\n",
    "    if not os.path.exists(outdir):\n",
    "        os.makedirs(outdir)\n",
    "    output=outdir+outfile\n",
    "    print(sub,run,task)\n",
    "\n",
    "    df_all.to_csv(output,index=False,sep='\\t',header=False)"
   ]
  }
 ],
 "metadata": {
  "kernelspec": {
   "display_name": "Python 3",
   "language": "python",
   "name": "python3"
  },
  "language_info": {
   "codemirror_mode": {
    "name": "ipython",
    "version": 3
   },
   "file_extension": ".py",
   "mimetype": "text/x-python",
   "name": "python",
   "nbconvert_exporter": "python",
   "pygments_lexer": "ipython3",
   "version": "3.8.3"
  }
 },
 "nbformat": 4,
 "nbformat_minor": 4
}
