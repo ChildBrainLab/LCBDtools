{
 "cells": [
  {
   "cell_type": "code",
   "execution_count": 12,
   "metadata": {},
   "outputs": [],
   "source": [
    "import pandas as pd\n",
    "import numpy as np"
   ]
  },
  {
   "cell_type": "code",
   "execution_count": 9,
   "metadata": {},
   "outputs": [],
   "source": [
    "import os\n",
    "from os.path import join\n",
    "from glob import glob"
   ]
  },
  {
   "cell_type": "code",
   "execution_count": 10,
   "metadata": {},
   "outputs": [],
   "source": [
    "# some parameters\n",
    "\n",
    "bids_root = \"/data/perlman/moochie/analysis/CARE/MRI_data_clean\"\n",
    "task_label = 'movie'\n",
    "space_label = 'MNIPediatricAsym'\n",
    "derivatives_folder = join(bids_root, 'derivatives/fmriprep')\n",
    "TR = 0.8\n",
    "templateflow_home = \"/data/perlman/moochie/resources/templateflow\""
   ]
  },
  {
   "cell_type": "code",
   "execution_count": 11,
   "metadata": {},
   "outputs": [],
   "source": [
    "confounds_fnames = [fname for fname in \\\n",
    "    glob(join(derivatives_folder, \"sub-*\", \"ses-*\", \"func\", \"*\"+task_label+\"*timeseries*.tsv\"))]"
   ]
  },
  {
   "cell_type": "code",
   "execution_count": 22,
   "metadata": {},
   "outputs": [],
   "source": [
    "COIs = [\n",
    "    \"trans_x\",\n",
    "    \"trans_y\",\n",
    "    \"trans_z\",\n",
    "    \"rot_x\",\n",
    "    \"rot_y\",\n",
    "    \"rot_z\"\n",
    "]"
   ]
  },
  {
   "cell_type": "code",
   "execution_count": 37,
   "metadata": {},
   "outputs": [
    {
     "name": "stdout",
     "output_type": "stream",
     "text": [
      "/data/perlman/moochie/analysis/CARE/MRI_data_clean/derivatives/fmriprep/sub-50701/ses-0/func/sub-50701_ses-0_task-movieC_dir-PA_run-1_desc-confounds_timeseries.tsv\n",
      "/data/perlman/moochie/analysis/CARE/MRI_data_clean/derivatives/fmriprep/sub-50032/ses-0/func/sub-50032_ses-0_task-movieA_dir-PA_run-1_desc-confounds_timeseries.tsv\n",
      "/data/perlman/moochie/analysis/CARE/MRI_data_clean/derivatives/fmriprep/sub-50021/ses-1/func/sub-50021_ses-1_task-movieC_dir-PA_run-1_desc-confounds_timeseries.tsv\n",
      "/data/perlman/moochie/analysis/CARE/MRI_data_clean/derivatives/fmriprep/sub-50021/ses-0/func/sub-50021_ses-0_task-movieB_dir-PA_run-1_desc-confounds_timeseries.tsv\n",
      "/data/perlman/moochie/analysis/CARE/MRI_data_clean/derivatives/fmriprep/sub-50841/ses-0/func/sub-50841_ses-0_task-movieA_dir-PA_run-1_desc-confounds_timeseries.tsv\n",
      "/data/perlman/moochie/analysis/CARE/MRI_data_clean/derivatives/fmriprep/sub-50461/ses-0/func/sub-50461_ses-0_task-movieA_dir-PA_run-1_desc-confounds_timeseries.tsv\n",
      "/data/perlman/moochie/analysis/CARE/MRI_data_clean/derivatives/fmriprep/sub-50511/ses-0/func/sub-50511_ses-0_task-movieA_dir-PA_run-1_desc-confounds_timeseries.tsv\n",
      "/data/perlman/moochie/analysis/CARE/MRI_data_clean/derivatives/fmriprep/sub-50121/ses-0/func/sub-50121_ses-0_task-movieA_dir-PA_run-1_desc-confounds_timeseries.tsv\n",
      "/data/perlman/moochie/analysis/CARE/MRI_data_clean/derivatives/fmriprep/sub-50502/ses-0/func/sub-50502_ses-0_task-movieB_dir-PA_run-1_desc-confounds_timeseries.tsv\n",
      "/data/perlman/moochie/analysis/CARE/MRI_data_clean/derivatives/fmriprep/sub-50771/ses-0/func/sub-50771_ses-0_task-movieC_dir-PA_run-1_desc-confounds_timeseries.tsv\n",
      "/data/perlman/moochie/analysis/CARE/MRI_data_clean/derivatives/fmriprep/sub-50231/ses-0/func/sub-50231_ses-0_task-movieC_dir-PA_run-1_desc-confounds_timeseries.tsv\n",
      "/data/perlman/moochie/analysis/CARE/MRI_data_clean/derivatives/fmriprep/sub-50601/ses-0/func/sub-50601_ses-0_task-movieA_dir-PA_run-1_desc-confounds_timeseries.tsv\n",
      "/data/perlman/moochie/analysis/CARE/MRI_data_clean/derivatives/fmriprep/sub-50401/ses-0/func/sub-50401_ses-0_task-movieC_dir-PA_run-1_desc-confounds_timeseries.tsv\n",
      "/data/perlman/moochie/analysis/CARE/MRI_data_clean/derivatives/fmriprep/sub-50481/ses-0/func/sub-50481_ses-0_task-movieC_dir-PA_run-1_desc-confounds_timeseries.tsv\n",
      "/data/perlman/moochie/analysis/CARE/MRI_data_clean/derivatives/fmriprep/sub-50321/ses-0/func/sub-50321_ses-0_task-movieA_dir-PA_run-1_desc-confounds_timeseries.tsv\n",
      "/data/perlman/moochie/analysis/CARE/MRI_data_clean/derivatives/fmriprep/sub-50251/ses-0/func/sub-50251_ses-0_task-movieB_dir-PA_run-1_desc-confounds_timeseries.tsv\n",
      "/data/perlman/moochie/analysis/CARE/MRI_data_clean/derivatives/fmriprep/sub-50251/ses-1/func/sub-50251_ses-1_task-movieC_dir-PA_run-1_desc-confounds_timeseries.tsv\n",
      "/data/perlman/moochie/analysis/CARE/MRI_data_clean/derivatives/fmriprep/sub-50761/ses-0/func/sub-50761_ses-0_task-movieB_dir-PA_run-1_desc-confounds_timeseries.tsv\n",
      "/data/perlman/moochie/analysis/CARE/MRI_data_clean/derivatives/fmriprep/sub-50351/ses-0/func/sub-50351_ses-0_task-movieB_dir-PA_run-1_desc-confounds_timeseries.tsv\n",
      "/data/perlman/moochie/analysis/CARE/MRI_data_clean/derivatives/fmriprep/sub-50221/ses-0/func/sub-50221_ses-0_task-movieC_dir-PA_run-1_desc-confounds_timeseries.tsv\n",
      "/data/perlman/moochie/analysis/CARE/MRI_data_clean/derivatives/fmriprep/sub-50611/ses-0/func/sub-50611_ses-0_task-movieA_dir-PA_run-1_desc-confounds_timeseries.tsv\n",
      "/data/perlman/moochie/analysis/CARE/MRI_data_clean/derivatives/fmriprep/sub-50832/ses-0/func/sub-50832_ses-0_task-movieA_dir-PA_run-1_desc-confounds_timeseries.tsv\n",
      "/data/perlman/moochie/analysis/CARE/MRI_data_clean/derivatives/fmriprep/sub-50602/ses-0/func/sub-50602_ses-0_task-movieB_dir-PA_run-1_desc-confounds_timeseries.tsv\n",
      "/data/perlman/moochie/analysis/CARE/MRI_data_clean/derivatives/fmriprep/sub-50342/ses-0/func/sub-50342_ses-0_task-movieA_dir-PA_run-1_desc-confounds_timeseries.tsv\n",
      "/data/perlman/moochie/analysis/CARE/MRI_data_clean/derivatives/fmriprep/sub-50691/ses-0/func/sub-50691_ses-0_task-movieB_dir-PA_run-1_desc-confounds_timeseries.tsv\n",
      "/data/perlman/moochie/analysis/CARE/MRI_data_clean/derivatives/fmriprep/sub-50501/ses-0/func/sub-50501_ses-0_task-movieA_dir-PA_run-1_desc-confounds_timeseries.tsv\n",
      "/data/perlman/moochie/analysis/CARE/MRI_data_clean/derivatives/fmriprep/sub-50131/ses-1/func/sub-50131_ses-1_task-movieA_dir-PA_run-1_desc-confounds_timeseries.tsv\n",
      "/data/perlman/moochie/analysis/CARE/MRI_data_clean/derivatives/fmriprep/sub-50131/ses-0/func/sub-50131_ses-0_task-movieB_dir-PA_run-1_desc-confounds_timeseries.tsv\n",
      "/data/perlman/moochie/analysis/CARE/MRI_data_clean/derivatives/fmriprep/sub-50441/ses-0/func/sub-50441_ses-0_task-movieC_dir-PA_run-1_desc-confounds_timeseries.tsv\n",
      "/data/perlman/moochie/analysis/CARE/MRI_data_clean/derivatives/fmriprep/sub-50071/ses-0/func/sub-50071_ses-0_task-movieB_dir-PA_run-1_desc-confounds_timeseries.tsv\n",
      "/data/perlman/moochie/analysis/CARE/MRI_data_clean/derivatives/fmriprep/sub-50531/ses-0/func/sub-50531_ses-0_task-movieC_dir-PA_run-1_desc-confounds_timeseries.tsv\n",
      "/data/perlman/moochie/analysis/CARE/MRI_data_clean/derivatives/fmriprep/sub-50291/ses-0/func/sub-50291_ses-0_task-movieC_dir-PA_run-1_desc-confounds_timeseries.tsv\n",
      "/data/perlman/moochie/analysis/CARE/MRI_data_clean/derivatives/fmriprep/sub-50181/ses-0/func/sub-50181_ses-0_task-movieC_dir-PA_run-1_desc-confounds_timeseries.tsv\n",
      "/data/perlman/moochie/analysis/CARE/MRI_data_clean/derivatives/fmriprep/sub-50361/ses-0/func/sub-50361_ses-0_task-movieC_dir-PA_run-1_desc-confounds_timeseries.tsv\n",
      "/data/perlman/moochie/analysis/CARE/MRI_data_clean/derivatives/fmriprep/sub-50621/ses-0/func/sub-50621_ses-0_task-movieB_dir-PA_run-1_desc-confounds_timeseries.tsv\n",
      "/data/perlman/moochie/analysis/CARE/MRI_data_clean/derivatives/fmriprep/sub-50211/ses-0/func/sub-50211_ses-0_task-movieA_dir-PA_run-1_desc-confounds_timeseries.tsv\n",
      "/data/perlman/moochie/analysis/CARE/MRI_data_clean/derivatives/fmriprep/sub-50721/ses-0/func/sub-50721_ses-0_task-movieA_dir-PA_run-1_desc-confounds_timeseries.tsv\n",
      "/data/perlman/moochie/analysis/CARE/MRI_data_clean/derivatives/fmriprep/sub-50261/ses-0/func/sub-50261_ses-0_task-movieA_dir-PA_run-1_desc-confounds_timeseries.tsv\n",
      "/data/perlman/moochie/analysis/CARE/MRI_data_clean/derivatives/fmriprep/sub-50081/ses-0/func/sub-50081_ses-0_task-movieA_dir-PA_run-1_desc-confounds_timeseries.tsv\n",
      "/data/perlman/moochie/analysis/CARE/MRI_data_clean/derivatives/fmriprep/sub-50081/ses-1/func/sub-50081_ses-1_task-movieB_dir-PA_run-1_desc-confounds_timeseries.tsv\n",
      "/data/perlman/moochie/analysis/CARE/MRI_data_clean/derivatives/fmriprep/sub-50422/ses-0/func/sub-50422_ses-0_task-movieC_dir-PA_run-1_desc-confounds_timeseries.tsv\n",
      "/data/perlman/moochie/analysis/CARE/MRI_data_clean/derivatives/fmriprep/sub-50391/ses-0/func/sub-50391_ses-0_task-movieA_dir-PA_run-1_desc-confounds_timeseries.tsv\n",
      "/data/perlman/moochie/analysis/CARE/MRI_data_clean/derivatives/fmriprep/sub-50431/ses-0/func/sub-50431_ses-0_task-movieC_dir-PA_run-1_desc-confounds_timeseries.tsv\n",
      "/data/perlman/moochie/analysis/CARE/MRI_data_clean/derivatives/fmriprep/sub-50001/ses-0/func/sub-50001_ses-0_task-movieB_dir-PA_run-1_desc-confounds_timeseries.tsv\n",
      "/data/perlman/moochie/analysis/CARE/MRI_data_clean/derivatives/fmriprep/sub-50092/ses-1/func/sub-50092_ses-1_task-movieB_dir-PA_run-1_desc-confounds_timeseries.tsv\n",
      "/data/perlman/moochie/analysis/CARE/MRI_data_clean/derivatives/fmriprep/sub-50631/ses-0/func/sub-50631_ses-0_task-movieB_dir-PA_run-1_desc-confounds_timeseries.tsv\n",
      "/data/perlman/moochie/analysis/CARE/MRI_data_clean/derivatives/fmriprep/sub-50451/ses-0/func/sub-50451_ses-0_task-movieB_dir-PA_run-1_desc-confounds_timeseries.tsv\n",
      "/data/perlman/moochie/analysis/CARE/MRI_data_clean/derivatives/fmriprep/sub-50111/ses-0/func/sub-50111_ses-0_task-movieB_dir-PA_run-1_desc-confounds_timeseries.tsv\n",
      "/data/perlman/moochie/analysis/CARE/MRI_data_clean/derivatives/fmriprep/sub-50521/ses-0/func/sub-50521_ses-0_task-movieB_dir-PA_run-1_desc-confounds_timeseries.tsv\n",
      "/data/perlman/moochie/analysis/CARE/MRI_data_clean/derivatives/fmriprep/sub-50801/ses-0/func/sub-50801_ses-0_task-movieB_dir-PA_run-1_desc-confounds_timeseries.tsv\n",
      "/data/perlman/moochie/analysis/CARE/MRI_data_clean/derivatives/fmriprep/sub-50421/ses-0/func/sub-50421_ses-0_task-movieB_dir-PA_run-1_desc-confounds_timeseries.tsv\n",
      "/data/perlman/moochie/analysis/CARE/MRI_data_clean/derivatives/fmriprep/sub-50551/ses-0/func/sub-50551_ses-0_task-movieA_dir-PA_run-1_desc-confounds_timeseries.tsv\n",
      "/data/perlman/moochie/analysis/CARE/MRI_data_clean/derivatives/fmriprep/sub-50381/ses-0/func/sub-50381_ses-0_task-movieB_dir-PA_run-1_desc-confounds_timeseries.tsv\n",
      "/data/perlman/moochie/analysis/CARE/MRI_data_clean/derivatives/fmriprep/sub-50091/ses-1/func/sub-50091_ses-1_task-movieA_dir-PA_run-1_desc-confounds_timeseries.tsv\n",
      "/data/perlman/moochie/analysis/CARE/MRI_data_clean/derivatives/fmriprep/sub-50091/ses-0/func/sub-50091_ses-0_task-movieA_dir-PA_run-1_desc-confounds_timeseries.tsv\n",
      "/data/perlman/moochie/analysis/CARE/MRI_data_clean/derivatives/fmriprep/sub-50301/ses-1/func/sub-50301_ses-1_task-movieC_dir-PA_run-1_desc-confounds_timeseries.tsv\n",
      "/data/perlman/moochie/analysis/CARE/MRI_data_clean/derivatives/fmriprep/sub-50301/ses-0/func/sub-50301_ses-0_task-movieB_dir-PA_run-1_desc-confounds_timeseries.tsv\n"
     ]
    }
   ],
   "source": [
    "for fname in confounds_fnames:\n",
    "    df = pd.read_csv(fname, delimiter=\"\\t\", usecols=COIs)\n",
    "    for col in COIs:\n",
    "        series = df[col]\n",
    "        \n",
    "        new_fname = fname.replace(\"timeseries\", col).replace(\"tsv\", \"txt\")\n",
    "        \n",
    "        if not os.path.exists(new_fname):\n",
    "        \n",
    "            f = open(new_fname, 'w')\n",
    "\n",
    "            for i, val in enumerate(series):\n",
    "                if i > 0:\n",
    "                    f.write('\\n')\n",
    "                f.write(str(val))\n",
    "\n",
    "            f.close()\n",
    "\n",
    "    print(fname)"
   ]
  }
 ],
 "metadata": {
  "kernelspec": {
   "display_name": "MRIenv",
   "language": "python",
   "name": "mrienv"
  },
  "language_info": {
   "codemirror_mode": {
    "name": "ipython",
    "version": 3
   },
   "file_extension": ".py",
   "mimetype": "text/x-python",
   "name": "python",
   "nbconvert_exporter": "python",
   "pygments_lexer": "ipython3",
   "version": "3.7.5"
  }
 },
 "nbformat": 4,
 "nbformat_minor": 4
}
