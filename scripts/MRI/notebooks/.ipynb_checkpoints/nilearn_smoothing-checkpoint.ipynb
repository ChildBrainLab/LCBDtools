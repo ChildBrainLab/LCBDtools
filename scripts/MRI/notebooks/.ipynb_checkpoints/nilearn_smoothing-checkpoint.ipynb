{
 "cells": [
  {
   "cell_type": "code",
   "execution_count": 2,
   "metadata": {},
   "outputs": [],
   "source": [
    "from nilearn import datasets, plotting, image\n",
    "from nilearn.image import smooth_img\n",
    "from nilearn.glm.first_level import FirstLevelModel\n",
    "import nibabel as nib"
   ]
  },
  {
   "cell_type": "code",
   "execution_count": 3,
   "metadata": {},
   "outputs": [],
   "source": [
    "import os\n",
    "from os.path import join\n",
    "from glob import glob"
   ]
  },
  {
   "cell_type": "code",
   "execution_count": 4,
   "metadata": {},
   "outputs": [],
   "source": [
    "# some parameters\n",
    "\n",
    "# bids_root = \"/data/perlman/moochie/analysis/CARE/MRI_data_clean\"\n",
    "bids_root = \"/home/claytons/scratch/EmoGrow_MRI_data_clean\"\n",
    "task_label = 'fetch'\n",
    "space_label = 'MNIPediatricAsym'\n",
    "derivatives_folder = join(bids_root, 'derivatives/fmriprep')\n",
    "TR = 0.8\n",
    "# templateflow_home = \"/data/perlman/moochie/resources/templateflow\""
   ]
  },
  {
   "cell_type": "code",
   "execution_count": 5,
   "metadata": {},
   "outputs": [],
   "source": [
    "# fmriprepped = [os.path.split(fname)[0] for fname in \\\n",
    "#     glob(join(derivatives_folder, \"sub-*\", \"ses-*\", \"func\", \"*\"+task_label+\"*timeseries*.tsv\"))]\n",
    "fmriprepped = [os.path.split(fname)[0] for fname in \\\n",
    "    glob(join(derivatives_folder, \"sub-*\", \"func\", \"*\"+task_label+\"*timeseries*.tsv\"))]\n",
    "\n",
    "niis = []\n",
    "for fprep in fmriprepped:\n",
    "    fnames = glob(join(fprep, \"*\"+space_label+\"*preproc_bold.nii.gz\"))\n",
    "    for fname in fnames:\n",
    "        niis.append(fname)"
   ]
  },
  {
   "cell_type": "code",
   "execution_count": 6,
   "metadata": {},
   "outputs": [
    {
     "data": {
      "text/plain": [
       "206"
      ]
     },
     "execution_count": 6,
     "metadata": {},
     "output_type": "execute_result"
    }
   ],
   "source": [
    "len(niis)"
   ]
  },
  {
   "cell_type": "code",
   "execution_count": 7,
   "metadata": {},
   "outputs": [],
   "source": [
    "# tenatively 7mm smoothing res\n",
    "\n",
    "# result_img = smooth_img(\n",
    "#     niis[0],\n",
    "#     fwhm=7)"
   ]
  },
  {
   "cell_type": "code",
   "execution_count": null,
   "metadata": {},
   "outputs": [
    {
     "name": "stdout",
     "output_type": "stream",
     "text": [
      "/home/claytons/scratch/EmoGrow_MRI_data_clean/derivatives/fmriprep/sub-006/func/sub-006_task-fetch_run-1_space-MNIPediatricAsym_cohort-2_desc-preproc_bold_smoothed7mm.nii\n",
      "/home/claytons/scratch/EmoGrow_MRI_data_clean/derivatives/fmriprep/sub-006/func/sub-006_task-fetch_run-1_space-MNIPediatricAsym_cohort-2_res-1_desc-preproc_bold_smoothed7mm.nii\n"
     ]
    }
   ],
   "source": [
    "for img in niis:\n",
    "    smoothed_fname = img.split('.')[0]+\"_smoothed7mm.\"+'.'.join(img.split('.')[1:])\n",
    "    \n",
    "    print(smoothed_fname)\n",
    "    \n",
    "    if not os.path.exists(smoothed_fname):\n",
    "        smoothed_img = smooth_img(\n",
    "            img,\n",
    "            fwhm=7)\n",
    "\n",
    "        print(type(smoothed_img))\n",
    "\n",
    "        smoothed_img.to_filename(smoothed_fname)"
   ]
  },
  {
   "cell_type": "code",
   "execution_count": null,
   "metadata": {},
   "outputs": [],
   "source": []
  }
 ],
 "metadata": {
  "kernelspec": {
   "display_name": "LCBDenv",
   "language": "python",
   "name": "lcbdenv"
  },
  "language_info": {
   "codemirror_mode": {
    "name": "ipython",
    "version": 3
   },
   "file_extension": ".py",
   "mimetype": "text/x-python",
   "name": "python",
   "nbconvert_exporter": "python",
   "pygments_lexer": "ipython3",
   "version": "3.8.3"
  }
 },
 "nbformat": 4,
 "nbformat_minor": 4
}
