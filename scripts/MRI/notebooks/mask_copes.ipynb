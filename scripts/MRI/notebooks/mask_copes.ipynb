{
 "cells": [
  {
   "cell_type": "code",
   "execution_count": 1,
   "metadata": {},
   "outputs": [
    {
     "name": "stderr",
     "output_type": "stream",
     "text": [
      "/usr/lib/python3/dist-packages/requests/__init__.py:80: RequestsDependencyWarning: urllib3 (1.26.9) or chardet (3.0.4) doesn't match a supported version!\n",
      "  RequestsDependencyWarning)\n"
     ]
    },
    {
     "name": "stdout",
     "output_type": "stream",
     "text": [
      "220618-11:25:23,496 nipype.utils WARNING:\n",
      "\t A newer version (1.8.1) of nipy/nipype is available. You are using 1.7.0\n"
     ]
    }
   ],
   "source": [
    "from nipype.interfaces.fsl import maths\n",
    "from glob import glob\n",
    "import os\n",
    "from os.path import join"
   ]
  },
  {
   "cell_type": "code",
   "execution_count": 2,
   "metadata": {},
   "outputs": [],
   "source": [
    "# some parameters\n",
    "\n",
    "bids_root = \"/data/perlman/moochie/analysis/CARE/MRI_data_clean\"\n",
    "task_label = 'movie'\n",
    "space_label = 'MNIPediatricAsym'\n",
    "derivatives_folder = join(bids_root, 'derivatives/fmriprep')"
   ]
  },
  {
   "cell_type": "code",
   "execution_count": 3,
   "metadata": {},
   "outputs": [
    {
     "data": {
      "text/plain": [
       "nipype.interfaces.fsl.maths.ApplyMask"
      ]
     },
     "execution_count": 3,
     "metadata": {},
     "output_type": "execute_result"
    }
   ],
   "source": [
    "maths.ApplyMask"
   ]
  },
  {
   "cell_type": "code",
   "execution_count": 4,
   "metadata": {},
   "outputs": [],
   "source": [
    "# get list of all cope images\n",
    "\n",
    "copes = glob(join(\n",
    "    derivatives_folder,\n",
    "    \"sub-*\",\n",
    "    \"ses-*\",\n",
    "    \"func\",\n",
    "    \"first_level.feat\",\n",
    "    \"stats\",\n",
    "    \"cope1.nii.gz\"))"
   ]
  },
  {
   "cell_type": "code",
   "execution_count": 5,
   "metadata": {},
   "outputs": [],
   "source": [
    "for cope in copes:\n",
    "    mask = glob(join(\n",
    "        cope.replace(\"/first_level.feat/stats/cope1.nii.gz\", \"\"),\n",
    "        \"*res-2_desc-brain_mask.nii.gz\"))[0]\n",
    "    \n",
    "    masked = maths.ApplyMask(\n",
    "        in_file=cope,\n",
    "        mask_file=mask,\n",
    "        out_file=cope.replace(\"cope1.nii.gz\", \"cope1_masked.nii.gz\"))\n",
    "    \n",
    "    masked.run()"
   ]
  },
  {
   "cell_type": "code",
   "execution_count": null,
   "metadata": {},
   "outputs": [],
   "source": [
    "# maybe in a tuple with their respective mask?"
   ]
  }
 ],
 "metadata": {
  "kernelspec": {
   "display_name": "MRIenv",
   "language": "python",
   "name": "mrienv"
  },
  "language_info": {
   "codemirror_mode": {
    "name": "ipython",
    "version": 3
   },
   "file_extension": ".py",
   "mimetype": "text/x-python",
   "name": "python",
   "nbconvert_exporter": "python",
   "pygments_lexer": "ipython3",
   "version": "3.7.5"
  }
 },
 "nbformat": 4,
 "nbformat_minor": 4
}
