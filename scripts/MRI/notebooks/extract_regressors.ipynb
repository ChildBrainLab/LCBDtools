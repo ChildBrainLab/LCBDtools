{
 "cells": [
  {
   "cell_type": "code",
   "execution_count": 9,
   "metadata": {},
   "outputs": [],
   "source": [
    "import os\n",
    "from os.path import join\n",
    "from glob import glob\n",
    "import pandas as pd\n",
    "import numpy as np"
   ]
  },
  {
   "cell_type": "code",
   "execution_count": 10,
   "metadata": {},
   "outputs": [],
   "source": [
    "# some parameters\n",
    "\n",
    "# bids_root = \"/data/perlman/moochie/analysis/CARE/MRI_data_clean\"\n",
    "bids_root = \"/home/claytons/scratch/EmoGrow_MRI_data_clean\"\n",
    "task_label = 'fetch'\n",
    "space_label = 'MNIPediatricAsym'\n",
    "derivatives_folder = join(bids_root, 'derivatives/fmriprep')\n",
    "TR = 0.8\n",
    "# templateflow_home = \"/data/perlman/moochie/resources/templateflow\""
   ]
  },
  {
   "cell_type": "code",
   "execution_count": 11,
   "metadata": {},
   "outputs": [],
   "source": [
    "# fmriprepped = [os.path.split(fname)[0] for fname in \\\n",
    "#     glob(join(derivatives_folder, \"sub-*\", \"ses-*\", \"func\", \"*\"+task_label+\"*timeseries*.tsv\"))]\n",
    "fmriprepped = [fname for fname in \\\n",
    "    glob(join(derivatives_folder, \"sub-*\", \"func\", \"*\"+task_label+\"*timeseries*.tsv\"))]\n",
    "\n",
    "# confounds = []\n",
    "# for fprep in fmriprepped:\n",
    "#     fnames = glob(join(fprep, \"*\"+space_label+\"*preproc_bold.nii.gz\"))\n",
    "#     for fname in fnames:\n",
    "#         confounds.append(fname)"
   ]
  },
  {
   "cell_type": "code",
   "execution_count": 19,
   "metadata": {},
   "outputs": [],
   "source": [
    "for fname in fmriprepped:\n",
    "    if \"sub-006\" not in fname:\n",
    "        df = pd.read_csv(fname, delimiter='\\t')[[\"framewise_displacement\", \"trans_x\", \"trans_y\", \"trans_z\", \"rot_x\", \"rot_y\", \"rot_z\"]]\n",
    "        df = df.fillna(0)\n",
    "        df.to_csv(os.path.split(fname)[0]+\"/regressors.txt\", header=None, index=None, sep=' ')"
   ]
  },
  {
   "cell_type": "code",
   "execution_count": null,
   "metadata": {},
   "outputs": [],
   "source": []
  }
 ],
 "metadata": {
  "kernelspec": {
   "display_name": "LCBDenv",
   "language": "python",
   "name": "lcbdenv"
  },
  "language_info": {
   "codemirror_mode": {
    "name": "ipython",
    "version": 3
   },
   "file_extension": ".py",
   "mimetype": "text/x-python",
   "name": "python",
   "nbconvert_exporter": "python",
   "pygments_lexer": "ipython3",
   "version": "3.8.3"
  }
 },
 "nbformat": 4,
 "nbformat_minor": 4
}
