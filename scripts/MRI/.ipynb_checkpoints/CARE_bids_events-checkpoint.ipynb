{
 "cells": [
  {
   "cell_type": "code",
   "execution_count": 3,
   "metadata": {},
   "outputs": [],
   "source": [
    "import os\n",
    "from os.path import join\n",
    "import shutil\n",
    "from glob import glob"
   ]
  },
  {
   "cell_type": "code",
   "execution_count": 4,
   "metadata": {},
   "outputs": [],
   "source": [
    "# some parameters\n",
    "\n",
    "bids_root = \"/data/perlman/moochie/analysis/CARE/MRI_data_clean\"\n",
    "task_label = 'movie'"
   ]
  },
  {
   "cell_type": "code",
   "execution_count": 9,
   "metadata": {},
   "outputs": [],
   "source": [
    "# make list of paths to all event files in BIDS data\n",
    "fnames = [fname for fname in glob(join(\n",
    "    bids_root, \"sub-*\", \"ses-*\", \"func\", \"*events*.tsv\"))]\n",
    "\n",
    "# and of the new event files (which should already exist in bids_dir) that will replace them\n",
    "new_events = [fname for fname in glob(join(\n",
    "    bids_root, \"*events*.tsv\"))]"
   ]
  },
  {
   "cell_type": "code",
   "execution_count": 11,
   "metadata": {},
   "outputs": [],
   "source": [
    "for fname in fnames:\n",
    "    # get which movie (e.g. \"task-movieA\")\n",
    "    task = [sec for sec in os.path.basename(fname).split('_') if task_label in sec][0]\n",
    "    \n",
    "    # get which new event file\n",
    "    new_event = [evt for evt in new_events if task in evt][0]\n",
    "    \n",
    "#     print(\"Will copy:\", new_event, \"to\", fname)\n",
    "    shutil.copy(new_event, fname)"
   ]
  },
  {
   "cell_type": "code",
   "execution_count": null,
   "metadata": {},
   "outputs": [],
   "source": []
  }
 ],
 "metadata": {
  "kernelspec": {
   "display_name": "MRIenv",
   "language": "python",
   "name": "mrienv"
  },
  "language_info": {
   "codemirror_mode": {
    "name": "ipython",
    "version": 3
   },
   "file_extension": ".py",
   "mimetype": "text/x-python",
   "name": "python",
   "nbconvert_exporter": "python",
   "pygments_lexer": "ipython3",
   "version": "3.7.5"
  }
 },
 "nbformat": 4,
 "nbformat_minor": 4
}
