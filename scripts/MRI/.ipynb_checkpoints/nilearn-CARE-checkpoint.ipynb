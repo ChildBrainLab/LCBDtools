{
 "cells": [
  {
   "cell_type": "code",
   "execution_count": 2,
   "metadata": {},
   "outputs": [],
   "source": [
    "from nilearn import datasets, plotting, image\n",
    "from nilearn.image import smooth_img\n",
    "from nilearn.glm.first_level import FirstLevelModel\n",
    "import nibabel as nib"
   ]
  },
  {
   "cell_type": "code",
   "execution_count": 3,
   "metadata": {},
   "outputs": [],
   "source": [
    "import os\n",
    "from os.path import join\n",
    "from glob import glob"
   ]
  },
  {
   "cell_type": "code",
   "execution_count": 4,
   "metadata": {},
   "outputs": [],
   "source": [
    "# some parameters\n",
    "\n",
    "bids_root = \"/data/perlman/moochie/analysis/CARE/MRI_data_clean\"\n",
    "task_label = 'movieB'\n",
    "space_label = 'MNIPediatricAsym'\n",
    "derivatives_folder = join(bids_root, 'derivatives/fmriprep')\n",
    "TR = 0.8\n",
    "templateflow_home = \"/data/perlman/moochie/resources/templateflow\""
   ]
  },
  {
   "cell_type": "code",
   "execution_count": 5,
   "metadata": {},
   "outputs": [],
   "source": [
    "fmriprepped = [os.path.split(fname)[0] for fname in \\\n",
    "    glob(join(derivatives_folder, \"sub-*\", \"ses-*\", \"func\", \"*\"+task_label+\"*timeseries*.tsv\"))]\n",
    "\n",
    "niis = []\n",
    "for fprep in fmriprepped:\n",
    "    fnames = glob(join(fprep, \"*\"+space_label+\"*res-2\"+\"*preproc_bold.nii.gz\"))\n",
    "    for fname in fnames:\n",
    "        niis.append(fname)"
   ]
  },
  {
   "cell_type": "code",
   "execution_count": 6,
   "metadata": {},
   "outputs": [
    {
     "data": {
      "text/plain": [
       "['/data/perlman/moochie/analysis/CARE/MRI_data_clean/derivatives/fmriprep/sub-50021/ses-0/func/sub-50021_ses-0_task-movieB_dir-PA_run-1_space-MNIPediatricAsym_cohort-2_res-2_desc-preproc_bold.nii.gz',\n",
       " '/data/perlman/moochie/analysis/CARE/MRI_data_clean/derivatives/fmriprep/sub-50502/ses-0/func/sub-50502_ses-0_task-movieB_dir-PA_run-1_space-MNIPediatricAsym_cohort-2_res-2_desc-preproc_bold.nii.gz',\n",
       " '/data/perlman/moochie/analysis/CARE/MRI_data_clean/derivatives/fmriprep/sub-50251/ses-0/func/sub-50251_ses-0_task-movieB_dir-PA_run-1_space-MNIPediatricAsym_cohort-2_res-2_desc-preproc_bold.nii.gz',\n",
       " '/data/perlman/moochie/analysis/CARE/MRI_data_clean/derivatives/fmriprep/sub-50761/ses-0/func/sub-50761_ses-0_task-movieB_dir-PA_run-1_space-MNIPediatricAsym_cohort-2_res-2_desc-preproc_bold.nii.gz',\n",
       " '/data/perlman/moochie/analysis/CARE/MRI_data_clean/derivatives/fmriprep/sub-50351/ses-0/func/sub-50351_ses-0_task-movieB_dir-PA_run-1_space-MNIPediatricAsym_cohort-2_res-2_desc-preproc_bold.nii.gz',\n",
       " '/data/perlman/moochie/analysis/CARE/MRI_data_clean/derivatives/fmriprep/sub-50602/ses-0/func/sub-50602_ses-0_task-movieB_dir-PA_run-1_space-MNIPediatricAsym_cohort-2_res-2_desc-preproc_bold.nii.gz',\n",
       " '/data/perlman/moochie/analysis/CARE/MRI_data_clean/derivatives/fmriprep/sub-50691/ses-0/func/sub-50691_ses-0_task-movieB_dir-PA_run-1_space-MNIPediatricAsym_cohort-2_res-2_desc-preproc_bold.nii.gz',\n",
       " '/data/perlman/moochie/analysis/CARE/MRI_data_clean/derivatives/fmriprep/sub-50131/ses-0/func/sub-50131_ses-0_task-movieB_dir-PA_run-1_space-MNIPediatricAsym_cohort-2_res-2_desc-preproc_bold.nii.gz',\n",
       " '/data/perlman/moochie/analysis/CARE/MRI_data_clean/derivatives/fmriprep/sub-50071/ses-0/func/sub-50071_ses-0_task-movieB_dir-PA_run-1_space-MNIPediatricAsym_cohort-2_res-2_desc-preproc_bold.nii.gz',\n",
       " '/data/perlman/moochie/analysis/CARE/MRI_data_clean/derivatives/fmriprep/sub-50621/ses-0/func/sub-50621_ses-0_task-movieB_dir-PA_run-1_space-MNIPediatricAsym_cohort-2_res-2_desc-preproc_bold.nii.gz',\n",
       " '/data/perlman/moochie/analysis/CARE/MRI_data_clean/derivatives/fmriprep/sub-50081/ses-1/func/sub-50081_ses-1_task-movieB_dir-PA_run-1_space-MNIPediatricAsym_cohort-2_res-2_desc-preproc_bold.nii.gz',\n",
       " '/data/perlman/moochie/analysis/CARE/MRI_data_clean/derivatives/fmriprep/sub-50001/ses-0/func/sub-50001_ses-0_task-movieB_dir-PA_run-1_space-MNIPediatricAsym_cohort-2_res-2_desc-preproc_bold.nii.gz',\n",
       " '/data/perlman/moochie/analysis/CARE/MRI_data_clean/derivatives/fmriprep/sub-50631/ses-0/func/sub-50631_ses-0_task-movieB_dir-PA_run-1_space-MNIPediatricAsym_cohort-2_res-2_desc-preproc_bold.nii.gz',\n",
       " '/data/perlman/moochie/analysis/CARE/MRI_data_clean/derivatives/fmriprep/sub-50451/ses-0/func/sub-50451_ses-0_task-movieB_dir-PA_run-1_space-MNIPediatricAsym_cohort-2_res-2_desc-preproc_bold.nii.gz',\n",
       " '/data/perlman/moochie/analysis/CARE/MRI_data_clean/derivatives/fmriprep/sub-50521/ses-0/func/sub-50521_ses-0_task-movieB_dir-PA_run-1_space-MNIPediatricAsym_cohort-2_res-2_desc-preproc_bold.nii.gz',\n",
       " '/data/perlman/moochie/analysis/CARE/MRI_data_clean/derivatives/fmriprep/sub-50801/ses-0/func/sub-50801_ses-0_task-movieB_dir-PA_run-1_space-MNIPediatricAsym_cohort-2_res-2_desc-preproc_bold.nii.gz',\n",
       " '/data/perlman/moochie/analysis/CARE/MRI_data_clean/derivatives/fmriprep/sub-50421/ses-0/func/sub-50421_ses-0_task-movieB_dir-PA_run-1_space-MNIPediatricAsym_cohort-2_res-2_desc-preproc_bold.nii.gz',\n",
       " '/data/perlman/moochie/analysis/CARE/MRI_data_clean/derivatives/fmriprep/sub-50381/ses-0/func/sub-50381_ses-0_task-movieB_dir-PA_run-1_space-MNIPediatricAsym_cohort-2_res-2_desc-preproc_bold.nii.gz']"
      ]
     },
     "execution_count": 6,
     "metadata": {},
     "output_type": "execute_result"
    }
   ],
   "source": [
    "niis"
   ]
  },
  {
   "cell_type": "code",
   "execution_count": 7,
   "metadata": {},
   "outputs": [
    {
     "name": "stdout",
     "output_type": "stream",
     "text": [
      "/data/perlman/moochie/analysis/CARE/MRI_data_clean/derivatives/fmriprep/sub-50021/ses-0/func/sub-50021_ses-0_task-movieB_dir-PA_run-1_space-MNIPediatricAsym_cohort-2_res-2_desc-preproc_bold.nii.gz\n",
      "(99, 117, 95, 1705)\n",
      "/data/perlman/moochie/analysis/CARE/MRI_data_clean/derivatives/fmriprep/sub-50502/ses-0/func/sub-50502_ses-0_task-movieB_dir-PA_run-1_space-MNIPediatricAsym_cohort-2_res-2_desc-preproc_bold.nii.gz\n",
      "(99, 117, 95, 1705)\n",
      "/data/perlman/moochie/analysis/CARE/MRI_data_clean/derivatives/fmriprep/sub-50251/ses-0/func/sub-50251_ses-0_task-movieB_dir-PA_run-1_space-MNIPediatricAsym_cohort-2_res-2_desc-preproc_bold.nii.gz\n",
      "(99, 117, 95, 1705)\n",
      "/data/perlman/moochie/analysis/CARE/MRI_data_clean/derivatives/fmriprep/sub-50761/ses-0/func/sub-50761_ses-0_task-movieB_dir-PA_run-1_space-MNIPediatricAsym_cohort-2_res-2_desc-preproc_bold.nii.gz\n",
      "(99, 117, 95, 1705)\n",
      "/data/perlman/moochie/analysis/CARE/MRI_data_clean/derivatives/fmriprep/sub-50351/ses-0/func/sub-50351_ses-0_task-movieB_dir-PA_run-1_space-MNIPediatricAsym_cohort-2_res-2_desc-preproc_bold.nii.gz\n",
      "(99, 117, 95, 1705)\n",
      "/data/perlman/moochie/analysis/CARE/MRI_data_clean/derivatives/fmriprep/sub-50602/ses-0/func/sub-50602_ses-0_task-movieB_dir-PA_run-1_space-MNIPediatricAsym_cohort-2_res-2_desc-preproc_bold.nii.gz\n",
      "(99, 117, 95, 1705)\n",
      "/data/perlman/moochie/analysis/CARE/MRI_data_clean/derivatives/fmriprep/sub-50691/ses-0/func/sub-50691_ses-0_task-movieB_dir-PA_run-1_space-MNIPediatricAsym_cohort-2_res-2_desc-preproc_bold.nii.gz\n",
      "(99, 117, 95, 1705)\n",
      "/data/perlman/moochie/analysis/CARE/MRI_data_clean/derivatives/fmriprep/sub-50131/ses-0/func/sub-50131_ses-0_task-movieB_dir-PA_run-1_space-MNIPediatricAsym_cohort-2_res-2_desc-preproc_bold.nii.gz\n",
      "(99, 117, 95, 1705)\n",
      "/data/perlman/moochie/analysis/CARE/MRI_data_clean/derivatives/fmriprep/sub-50071/ses-0/func/sub-50071_ses-0_task-movieB_dir-PA_run-1_space-MNIPediatricAsym_cohort-2_res-2_desc-preproc_bold.nii.gz\n",
      "(99, 117, 95, 1705)\n",
      "/data/perlman/moochie/analysis/CARE/MRI_data_clean/derivatives/fmriprep/sub-50621/ses-0/func/sub-50621_ses-0_task-movieB_dir-PA_run-1_space-MNIPediatricAsym_cohort-2_res-2_desc-preproc_bold.nii.gz\n",
      "(99, 117, 95, 1705)\n",
      "/data/perlman/moochie/analysis/CARE/MRI_data_clean/derivatives/fmriprep/sub-50081/ses-1/func/sub-50081_ses-1_task-movieB_dir-PA_run-1_space-MNIPediatricAsym_cohort-2_res-2_desc-preproc_bold.nii.gz\n",
      "(99, 117, 95, 377)\n",
      "/data/perlman/moochie/analysis/CARE/MRI_data_clean/derivatives/fmriprep/sub-50001/ses-0/func/sub-50001_ses-0_task-movieB_dir-PA_run-1_space-MNIPediatricAsym_cohort-2_res-2_desc-preproc_bold.nii.gz\n",
      "(99, 117, 95, 1705)\n",
      "/data/perlman/moochie/analysis/CARE/MRI_data_clean/derivatives/fmriprep/sub-50631/ses-0/func/sub-50631_ses-0_task-movieB_dir-PA_run-1_space-MNIPediatricAsym_cohort-2_res-2_desc-preproc_bold.nii.gz\n",
      "(99, 117, 95, 1705)\n",
      "/data/perlman/moochie/analysis/CARE/MRI_data_clean/derivatives/fmriprep/sub-50451/ses-0/func/sub-50451_ses-0_task-movieB_dir-PA_run-1_space-MNIPediatricAsym_cohort-2_res-2_desc-preproc_bold.nii.gz\n",
      "(99, 117, 95, 1705)\n",
      "/data/perlman/moochie/analysis/CARE/MRI_data_clean/derivatives/fmriprep/sub-50521/ses-0/func/sub-50521_ses-0_task-movieB_dir-PA_run-1_space-MNIPediatricAsym_cohort-2_res-2_desc-preproc_bold.nii.gz\n",
      "(99, 117, 95, 1705)\n",
      "/data/perlman/moochie/analysis/CARE/MRI_data_clean/derivatives/fmriprep/sub-50801/ses-0/func/sub-50801_ses-0_task-movieB_dir-PA_run-1_space-MNIPediatricAsym_cohort-2_res-2_desc-preproc_bold.nii.gz\n",
      "(99, 117, 95, 1705)\n",
      "/data/perlman/moochie/analysis/CARE/MRI_data_clean/derivatives/fmriprep/sub-50421/ses-0/func/sub-50421_ses-0_task-movieB_dir-PA_run-1_space-MNIPediatricAsym_cohort-2_res-2_desc-preproc_bold.nii.gz\n",
      "(99, 117, 95, 1705)\n",
      "/data/perlman/moochie/analysis/CARE/MRI_data_clean/derivatives/fmriprep/sub-50381/ses-0/func/sub-50381_ses-0_task-movieB_dir-PA_run-1_space-MNIPediatricAsym_cohort-2_res-2_desc-preproc_bold.nii.gz\n",
      "(99, 117, 95, 562)\n"
     ]
    }
   ],
   "source": [
    "for nii in niis:\n",
    "    mri = nib.load(nii)\n",
    "    print(nii)\n",
    "    print(mri.shape)"
   ]
  },
  {
   "cell_type": "code",
   "execution_count": null,
   "metadata": {},
   "outputs": [],
   "source": [
    "# tenatively 7mm smoothing res\n",
    "\n",
    "result_img = smooth_img(\n",
    "    niis,\n",
    "    fwhm=7)"
   ]
  },
  {
   "cell_type": "code",
   "execution_count": null,
   "metadata": {},
   "outputs": [],
   "source": [
    "result_img"
   ]
  },
  {
   "cell_type": "code",
   "execution_count": 17,
   "metadata": {},
   "outputs": [],
   "source": [
    "first_level_model = FirstLevelModel(TR)"
   ]
  },
  {
   "cell_type": "code",
   "execution_count": null,
   "metadata": {},
   "outputs": [],
   "source": []
  }
 ],
 "metadata": {
  "kernelspec": {
   "display_name": "MRIenv",
   "language": "python",
   "name": "mrienv"
  },
  "language_info": {
   "codemirror_mode": {
    "name": "ipython",
    "version": 3
   },
   "file_extension": ".py",
   "mimetype": "text/x-python",
   "name": "python",
   "nbconvert_exporter": "python",
   "pygments_lexer": "ipython3",
   "version": "3.7.5"
  }
 },
 "nbformat": 4,
 "nbformat_minor": 4
}
