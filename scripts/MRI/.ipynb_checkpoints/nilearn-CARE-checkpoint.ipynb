{
 "cells": [
  {
   "cell_type": "code",
   "execution_count": 1,
   "metadata": {},
   "outputs": [],
   "source": [
    "from nilearn import datasets, plotting, image\n",
    "from nilearn.image import smooth_img\n",
    "from nilearn.glm.first_level import FirstLevelModel\n",
    "import nibabel as nib"
   ]
  },
  {
   "cell_type": "code",
   "execution_count": 2,
   "metadata": {},
   "outputs": [],
   "source": [
    "import os\n",
    "from os.path import join\n",
    "from glob import glob"
   ]
  },
  {
   "cell_type": "code",
   "execution_count": 3,
   "metadata": {},
   "outputs": [],
   "source": [
    "from nilearn.glm.first_level import first_level_from_bids"
   ]
  },
  {
   "cell_type": "code",
   "execution_count": 4,
   "metadata": {},
   "outputs": [],
   "source": [
    "# some parameters\n",
    "bids_root = \"/data/perlman/moochie/analysis/CARE/MRI_data_clean\"\n",
    "task_label = 'movieB'\n",
    "space_label = 'MNIPediatricAsym'\n",
    "\n",
    "derivatives_folder = join(bids_root, 'derivatives/fmriprep')\n",
    "smoothing_fwhm = 7.0\n",
    "TR = 0.8\n",
    "templateflow_home = \"/data/perlman/moochie/resources/templateflow\""
   ]
  },
  {
   "cell_type": "code",
   "execution_count": null,
   "metadata": {},
   "outputs": [],
   "source": [
    "for movie in ['movieA', 'movieB', 'movieC']:\n",
    "    fnames = [fname for fname in glob(join(\n",
    "        derivatives_folder, \"sub-*\", \"ses-*\", \"func\", \"*_\"\n",
    "    ))]"
   ]
  },
  {
   "cell_type": "code",
   "execution_count": 5,
   "metadata": {},
   "outputs": [
    {
     "name": "stderr",
     "output_type": "stream",
     "text": [
      "/home/usr/schneiderc/.local/lib/python3.7/site-packages/nilearn/glm/first_level/first_level.py:905: UserWarning: SliceTimingRef not found in file /data/perlman/moochie/analysis/CARE/MRI_data_clean/derivatives/fmriprep/sub-50001/ses-0/func/sub-50001_ses-0_task-movieB_dir-PA_run-1_space-MNI152NLin6Asym_desc-smoothAROMAnonaggr_bold.json. It will be assumed that the slice timing reference is 0.0 percent of the repetition time. If it is not the case it will need to be set manually in the generated list of models\n",
      "  img_specs[0])\n"
     ]
    },
    {
     "ename": "ValueError",
     "evalue": "No events.tsv files found",
     "output_type": "error",
     "traceback": [
      "\u001b[0;31m---------------------------------------------------------------------------\u001b[0m",
      "\u001b[0;31mValueError\u001b[0m                                Traceback (most recent call last)",
      "\u001b[0;32m<ipython-input-5-750fb1ef7725>\u001b[0m in \u001b[0;36m<module>\u001b[0;34m\u001b[0m\n\u001b[1;32m      5\u001b[0m         \u001b[0mspace_label\u001b[0m\u001b[0;34m,\u001b[0m\u001b[0;34m\u001b[0m\u001b[0;34m\u001b[0m\u001b[0m\n\u001b[1;32m      6\u001b[0m         \u001b[0msmoothing_fwhm\u001b[0m\u001b[0;34m=\u001b[0m\u001b[0msmoothing_fwhm\u001b[0m\u001b[0;34m,\u001b[0m\u001b[0;34m\u001b[0m\u001b[0;34m\u001b[0m\u001b[0m\n\u001b[0;32m----> 7\u001b[0;31m         derivatives_folder=derivatives_folder)\n\u001b[0m",
      "\u001b[0;32m~/.local/lib/python3.7/site-packages/nilearn/glm/first_level/first_level.py\u001b[0m in \u001b[0;36mfirst_level_from_bids\u001b[0;34m(dataset_path, task_label, space_label, img_filters, t_r, slice_time_ref, hrf_model, drift_model, high_pass, drift_order, fir_delays, min_onset, mask_img, target_affine, target_shape, smoothing_fwhm, memory, memory_level, standardize, signal_scaling, noise_model, verbose, n_jobs, minimize_memory, derivatives_folder)\u001b[0m\n\u001b[1;32m   1013\u001b[0m             \u001b[0mmodels_events\u001b[0m\u001b[0;34m.\u001b[0m\u001b[0mappend\u001b[0m\u001b[0;34m(\u001b[0m\u001b[0mevents\u001b[0m\u001b[0;34m)\u001b[0m\u001b[0;34m\u001b[0m\u001b[0;34m\u001b[0m\u001b[0m\n\u001b[1;32m   1014\u001b[0m         \u001b[0;32melse\u001b[0m\u001b[0;34m:\u001b[0m\u001b[0;34m\u001b[0m\u001b[0;34m\u001b[0m\u001b[0m\n\u001b[0;32m-> 1015\u001b[0;31m             \u001b[0;32mraise\u001b[0m \u001b[0mValueError\u001b[0m\u001b[0;34m(\u001b[0m\u001b[0;34m'No events.tsv files found'\u001b[0m\u001b[0;34m)\u001b[0m\u001b[0;34m\u001b[0m\u001b[0;34m\u001b[0m\u001b[0m\n\u001b[0m\u001b[1;32m   1016\u001b[0m \u001b[0;34m\u001b[0m\u001b[0m\n\u001b[1;32m   1017\u001b[0m         \u001b[0;31m# Get confounds. If not found it will be assumed there are none.\u001b[0m\u001b[0;34m\u001b[0m\u001b[0;34m\u001b[0m\u001b[0;34m\u001b[0m\u001b[0m\n",
      "\u001b[0;31mValueError\u001b[0m: No events.tsv files found"
     ]
    }
   ],
   "source": [
    "models, models_run_imgs, models_events, models_confounds = \\\n",
    "    first_level_from_bids(\n",
    "        bids_root,\n",
    "        task_label,\n",
    "        space_label,\n",
    "        smoothing_fwhm=smoothing_fwhm,\n",
    "        derivatives_folder=derivatives_folder)"
   ]
  },
  {
   "cell_type": "code",
   "execution_count": null,
   "metadata": {},
   "outputs": [],
   "source": []
  }
 ],
 "metadata": {
  "kernelspec": {
   "display_name": "MRIenv",
   "language": "python",
   "name": "mrienv"
  },
  "language_info": {
   "codemirror_mode": {
    "name": "ipython",
    "version": 3
   },
   "file_extension": ".py",
   "mimetype": "text/x-python",
   "name": "python",
   "nbconvert_exporter": "python",
   "pygments_lexer": "ipython3",
   "version": "3.7.5"
  }
 },
 "nbformat": 4,
 "nbformat_minor": 4
}
