{
 "cells": [
  {
   "cell_type": "code",
   "execution_count": 8,
   "metadata": {},
   "outputs": [],
   "source": [
    "from nilearn import datasets, plotting, image\n",
    "from nilearn.image import smooth_img\n",
    "from nilearn.glm.first_level import FirstLevelModel\n",
    "import nibabel as nib"
   ]
  },
  {
   "cell_type": "code",
   "execution_count": 9,
   "metadata": {},
   "outputs": [],
   "source": [
    "import os\n",
    "from os.path import join\n",
    "from glob import glob"
   ]
  },
  {
   "cell_type": "code",
   "execution_count": 10,
   "metadata": {},
   "outputs": [],
   "source": [
    "from nilearn.glm.first_level import first_level_from_bids"
   ]
  },
  {
   "cell_type": "code",
   "execution_count": 40,
   "metadata": {},
   "outputs": [],
   "source": [
    "# some parameters\n",
    "bids_root = \"/data/perlman/moochie/analysis/CARE/MRI_data_clean\"\n",
    "task_label = 'movieB'\n",
    "space_label = 'MNIPediatricAsym'\n",
    "\n",
    "derivatives_folder = join(bids_root, 'derivatives/fmriprep')\n",
    "smoothing_fwhm = 7.0\n",
    "TR = 0.8\n",
    "templateflow_home = \"/data/perlman/moochie/resources/templateflow\""
   ]
  },
  {
   "cell_type": "code",
   "execution_count": 48,
   "metadata": {},
   "outputs": [],
   "source": [
    "fmriprepped = [fname for fname in glob(join(\n",
    "    derivatives_folder, \"sub-*\", \"ses-*\", \"func\", \"*\"+task_label+\"*\"+space_label+\"*_bold.nii.gz\"\n",
    "))]\n",
    "\n",
    "fmriprepped_ss = [os.path.basename(fname) for fname in fmriprepped]"
   ]
  },
  {
   "cell_type": "code",
   "execution_count": 49,
   "metadata": {},
   "outputs": [],
   "source": [
    "evts = [fname for fname in glob(join(\n",
    "    bids_root, \"sub-*\", \"ses-*\", \"func\", \"*\"+task_label+\"*events.tsv\"\n",
    "))]\n",
    "\n",
    "evtfs = [os.path.basename(fname) for fname in evts]"
   ]
  },
  {
   "cell_type": "code",
   "execution_count": 62,
   "metadata": {},
   "outputs": [
    {
     "name": "stdout",
     "output_type": "stream",
     "text": [
      "['sub-50021_ses-0_task-movieB_dir-PA_run-01_events.tsv']\n",
      "['sub-50502_ses-0_task-movieB_dir-PA_run-01_events.tsv']\n",
      "['sub-50251_ses-0_task-movieB_dir-PA_run-01_events.tsv']\n",
      "['sub-50761_ses-0_task-movieB_dir-PA_run-01_events.tsv']\n",
      "['sub-50761_ses-0_task-movieB_dir-PA_run-01_events.tsv']\n",
      "['sub-50761_ses-0_task-movieB_dir-PA_run-01_events.tsv']\n",
      "['sub-50351_ses-0_task-movieB_dir-PA_run-01_events.tsv']\n",
      "['sub-50602_ses-0_task-movieB_dir-PA_run-01_events.tsv']\n",
      "['sub-50691_ses-0_task-movieB_dir-PA_run-01_events.tsv']\n",
      "['sub-50131_ses-0_task-movieB_dir-PA_run-01_events.tsv']\n",
      "['sub-50071_ses-0_task-movieB_dir-PA_run-01_events.tsv']\n",
      "['sub-50621_ses-0_task-movieB_dir-PA_run-01_events.tsv']\n",
      "['sub-50081_ses-1_task-movieB_dir-PA_run-01_events.tsv']\n",
      "['sub-50081_ses-1_task-movieB_dir-PA_run-01_events.tsv']\n",
      "['sub-50081_ses-1_task-movieB_dir-PA_run-01_events.tsv']\n",
      "['sub-50001_ses-0_task-movieB_dir-PA_run-01_events.tsv']\n",
      "['sub-50092_ses-1_task-movieB_dir-PA_run-01_events.tsv']\n",
      "['sub-50092_ses-1_task-movieB_dir-PA_run-01_events.tsv']\n",
      "['sub-50371_ses-0_task-movieB_dir-PA_run-01_events.tsv']\n",
      "['sub-50631_ses-0_task-movieB_dir-PA_run-01_events.tsv']\n",
      "['sub-50451_ses-0_task-movieB_dir-PA_run-01_events.tsv']\n",
      "['sub-50111_ses-0_task-movieB_dir-PA_run-01_events.tsv']\n",
      "['sub-50521_ses-0_task-movieB_dir-PA_run-01_events.tsv']\n",
      "['sub-50801_ses-0_task-movieB_dir-PA_run-01_events.tsv']\n",
      "['sub-50421_ses-0_task-movieB_dir-PA_run-01_events.tsv']\n",
      "['sub-50381_ses-0_task-movieB_dir-PA_run-01_events.tsv']\n",
      "['sub-50381_ses-0_task-movieB_dir-PA_run-01_events.tsv']\n",
      "['sub-50381_ses-0_task-movieB_dir-PA_run-01_events.tsv']\n",
      "['sub-50301_ses-0_task-movieB_dir-PA_run-01_events.tsv']\n"
     ]
    }
   ],
   "source": [
    "for fprep in fmriprepped_ss:\n",
    "    matches = [evt for evt in evtfs \\\n",
    "        if ('_'.join(fprep.split('_')[:3])) in evt]\n",
    "    print(matches)"
   ]
  },
  {
   "cell_type": "code",
   "execution_count": 63,
   "metadata": {},
   "outputs": [],
   "source": [
    "# for task_label in ['movieA', 'movieB', 'movieC']:\n",
    "#     print(\"task:\", task_label)\n",
    "    \n",
    "#     fmriprepped = [os.path.split(fname)[0] for fname in \\\n",
    "#         glob(join(derivatives_folder, \"sub-*\", \"ses-*\", \"func\", \"*\"+task_label+\"*timeseries*.tsv\"))]\n",
    "\n",
    "#     niis = []\n",
    "#     for fprep in fmriprepped:\n",
    "#         fnames = glob(join(fprep, \"*\"+space_label+\"*res-2\"+\"*preproc_bold.nii.gz\"))\n",
    "#         for fname in fnames:\n",
    "#             niis.append(fname)\n",
    "            \n",
    "#     for nii in niis:\n",
    "#         mri = nib.load(nii)\n",
    "#         print(mri.shape)"
   ]
  },
  {
   "cell_type": "code",
   "execution_count": 64,
   "metadata": {},
   "outputs": [
    {
     "ename": "ValueError",
     "evalue": "No events.tsv files found",
     "output_type": "error",
     "traceback": [
      "\u001b[0;31m---------------------------------------------------------------------------\u001b[0m",
      "\u001b[0;31mValueError\u001b[0m                                Traceback (most recent call last)",
      "\u001b[0;32m<ipython-input-64-b355ca308930>\u001b[0m in \u001b[0;36m<module>\u001b[0;34m\u001b[0m\n\u001b[1;32m      5\u001b[0m         \u001b[0mspace_label\u001b[0m\u001b[0;34m,\u001b[0m\u001b[0;34m\u001b[0m\u001b[0;34m\u001b[0m\u001b[0m\n\u001b[1;32m      6\u001b[0m         \u001b[0msmoothing_fwhm\u001b[0m\u001b[0;34m=\u001b[0m\u001b[0msmoothing_fwhm\u001b[0m\u001b[0;34m,\u001b[0m\u001b[0;34m\u001b[0m\u001b[0;34m\u001b[0m\u001b[0m\n\u001b[0;32m----> 7\u001b[0;31m         \u001b[0mderivatives_folder\u001b[0m\u001b[0;34m=\u001b[0m\u001b[0mderivatives_folder\u001b[0m\u001b[0;34m,\u001b[0m\u001b[0;34m\u001b[0m\u001b[0;34m\u001b[0m\u001b[0m\n\u001b[0m\u001b[1;32m      8\u001b[0m \u001b[0;31m#         img_filters=[('run', '01'), ('run', '1')],\u001b[0m\u001b[0;34m\u001b[0m\u001b[0;34m\u001b[0m\u001b[0;34m\u001b[0m\u001b[0m\n\u001b[1;32m      9\u001b[0m )\n",
      "\u001b[0;32m~/.local/lib/python3.7/site-packages/nilearn/glm/first_level/first_level.py\u001b[0m in \u001b[0;36mfirst_level_from_bids\u001b[0;34m(dataset_path, task_label, space_label, img_filters, t_r, slice_time_ref, hrf_model, drift_model, high_pass, drift_order, fir_delays, min_onset, mask_img, target_affine, target_shape, smoothing_fwhm, memory, memory_level, standardize, signal_scaling, noise_model, verbose, n_jobs, minimize_memory, derivatives_folder)\u001b[0m\n\u001b[1;32m   1013\u001b[0m             \u001b[0mmodels_events\u001b[0m\u001b[0;34m.\u001b[0m\u001b[0mappend\u001b[0m\u001b[0;34m(\u001b[0m\u001b[0mevents\u001b[0m\u001b[0;34m)\u001b[0m\u001b[0;34m\u001b[0m\u001b[0;34m\u001b[0m\u001b[0m\n\u001b[1;32m   1014\u001b[0m         \u001b[0;32melse\u001b[0m\u001b[0;34m:\u001b[0m\u001b[0;34m\u001b[0m\u001b[0;34m\u001b[0m\u001b[0m\n\u001b[0;32m-> 1015\u001b[0;31m             \u001b[0;32mraise\u001b[0m \u001b[0mValueError\u001b[0m\u001b[0;34m(\u001b[0m\u001b[0;34m'No events.tsv files found'\u001b[0m\u001b[0;34m)\u001b[0m\u001b[0;34m\u001b[0m\u001b[0;34m\u001b[0m\u001b[0m\n\u001b[0m\u001b[1;32m   1016\u001b[0m \u001b[0;34m\u001b[0m\u001b[0m\n\u001b[1;32m   1017\u001b[0m         \u001b[0;31m# Get confounds. If not found it will be assumed there are none.\u001b[0m\u001b[0;34m\u001b[0m\u001b[0;34m\u001b[0m\u001b[0;34m\u001b[0m\u001b[0m\n",
      "\u001b[0;31mValueError\u001b[0m: No events.tsv files found"
     ]
    }
   ],
   "source": [
    "models, models_run_imgs, models_events, models_confounds = \\\n",
    "    first_level_from_bids(\n",
    "        bids_root,\n",
    "        task_label,\n",
    "        space_label,\n",
    "        smoothing_fwhm=smoothing_fwhm,\n",
    "        derivatives_folder=derivatives_folder,\n",
    "#         img_filters=[('run', '01'), ('run', '1')],\n",
    ")"
   ]
  },
  {
   "cell_type": "code",
   "execution_count": null,
   "metadata": {},
   "outputs": [],
   "source": []
  }
 ],
 "metadata": {
  "kernelspec": {
   "display_name": "MRIenv",
   "language": "python",
   "name": "mrienv"
  },
  "language_info": {
   "codemirror_mode": {
    "name": "ipython",
    "version": 3
   },
   "file_extension": ".py",
   "mimetype": "text/x-python",
   "name": "python",
   "nbconvert_exporter": "python",
   "pygments_lexer": "ipython3",
   "version": "3.7.5"
  }
 },
 "nbformat": 4,
 "nbformat_minor": 4
}
